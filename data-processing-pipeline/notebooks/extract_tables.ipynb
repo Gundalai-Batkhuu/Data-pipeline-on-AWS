{
 "cells": [
  {
   "cell_type": "code",
   "execution_count": 1,
   "id": "ef128119",
   "metadata": {},
   "outputs": [],
   "source": [
    "from kedro.config import ConfigLoader\n",
    "import yaml\n",
    "import os\n",
    "import pandas as pd\n",
    "from kedro.io import DataCatalog\n",
    "from kedro_datasets.pandas import (CSVDataSet)\n",
    "from kedro.framework.context import KedroContext"
   ]
  },
  {
   "cell_type": "code",
   "execution_count": 2,
   "id": "f6fdfa50",
   "metadata": {
    "scrolled": true
   },
   "outputs": [
    {
     "data": {
      "text/plain": "['p18_19_0',\n 'p18_19_1',\n 'p18_19_3',\n 'p18_19_5',\n 'qld_p18_19',\n 'qld_all',\n 'parameters']"
     },
     "execution_count": 2,
     "metadata": {},
     "output_type": "execute_result"
    }
   ],
   "source": [
    "catalog.list()"
   ]
  },
  {
   "cell_type": "code",
   "execution_count": 3,
   "outputs": [
    {
     "name": "stdout",
     "output_type": "stream",
     "text": [
      "2023-04-25 17:56:38,439 - kedro.io.data_catalog - INFO - Loading data from 'qld_p18_19' (ExcelDataSet)...\n"
     ]
    }
   ],
   "source": [
    "df = catalog.load('qld_p18_19')\n",
    "\n",
    "sheet_name = \"p18_19\""
   ],
   "metadata": {
    "collapsed": false,
    "pycharm": {
     "name": "#%%\n"
    }
   }
  },
  {
   "cell_type": "code",
   "execution_count": 4,
   "id": "6bdd126d",
   "metadata": {},
   "outputs": [
    {
     "data": {
      "text/plain": "                                                    0       1        2  \\\n0   Number of FTE and percentage by gender and agency     NaN      NaN   \n1                                                 NaN     FTE      NaN   \n2                                              Agency  Female     Male   \n3   Department of Aboriginal and Torres Strait Isl...  196.04     88.8   \n4             Department of Agriculture and Fisheries  862.92  1198.25   \n..                                                ...     ...      ...   \n89             Resources Safety and Health Queensland     120      176   \n90                        State Library of Queensland     255       98   \n91                    Trade and Investment Queensland      83       52   \n92                   Sector sub-total: Other entities    1582      778   \n93                                       Sector total  194358    85689   \n\n          3           4         5  \n0       NaN         NaN       NaN  \n1       NaN  Percentage       NaN  \n2     Total      Female      Male  \n3    284.84    0.688246  0.311754  \n4   2061.17    0.418655  0.581345  \n..      ...         ...       ...  \n89      296    0.405405  0.594595  \n90      353     0.72238   0.27762  \n91      135    0.614815  0.385185  \n92     2360    0.670339  0.329661  \n93   280047    0.694019  0.305981  \n\n[94 rows x 6 columns]",
      "text/html": "<div>\n<style scoped>\n    .dataframe tbody tr th:only-of-type {\n        vertical-align: middle;\n    }\n\n    .dataframe tbody tr th {\n        vertical-align: top;\n    }\n\n    .dataframe thead th {\n        text-align: right;\n    }\n</style>\n<table border=\"1\" class=\"dataframe\">\n  <thead>\n    <tr style=\"text-align: right;\">\n      <th></th>\n      <th>0</th>\n      <th>1</th>\n      <th>2</th>\n      <th>3</th>\n      <th>4</th>\n      <th>5</th>\n    </tr>\n  </thead>\n  <tbody>\n    <tr>\n      <th>0</th>\n      <td>Number of FTE and percentage by gender and agency</td>\n      <td>NaN</td>\n      <td>NaN</td>\n      <td>NaN</td>\n      <td>NaN</td>\n      <td>NaN</td>\n    </tr>\n    <tr>\n      <th>1</th>\n      <td>NaN</td>\n      <td>FTE</td>\n      <td>NaN</td>\n      <td>NaN</td>\n      <td>Percentage</td>\n      <td>NaN</td>\n    </tr>\n    <tr>\n      <th>2</th>\n      <td>Agency</td>\n      <td>Female</td>\n      <td>Male</td>\n      <td>Total</td>\n      <td>Female</td>\n      <td>Male</td>\n    </tr>\n    <tr>\n      <th>3</th>\n      <td>Department of Aboriginal and Torres Strait Isl...</td>\n      <td>196.04</td>\n      <td>88.8</td>\n      <td>284.84</td>\n      <td>0.688246</td>\n      <td>0.311754</td>\n    </tr>\n    <tr>\n      <th>4</th>\n      <td>Department of Agriculture and Fisheries</td>\n      <td>862.92</td>\n      <td>1198.25</td>\n      <td>2061.17</td>\n      <td>0.418655</td>\n      <td>0.581345</td>\n    </tr>\n    <tr>\n      <th>...</th>\n      <td>...</td>\n      <td>...</td>\n      <td>...</td>\n      <td>...</td>\n      <td>...</td>\n      <td>...</td>\n    </tr>\n    <tr>\n      <th>89</th>\n      <td>Resources Safety and Health Queensland</td>\n      <td>120</td>\n      <td>176</td>\n      <td>296</td>\n      <td>0.405405</td>\n      <td>0.594595</td>\n    </tr>\n    <tr>\n      <th>90</th>\n      <td>State Library of Queensland</td>\n      <td>255</td>\n      <td>98</td>\n      <td>353</td>\n      <td>0.72238</td>\n      <td>0.27762</td>\n    </tr>\n    <tr>\n      <th>91</th>\n      <td>Trade and Investment Queensland</td>\n      <td>83</td>\n      <td>52</td>\n      <td>135</td>\n      <td>0.614815</td>\n      <td>0.385185</td>\n    </tr>\n    <tr>\n      <th>92</th>\n      <td>Sector sub-total: Other entities</td>\n      <td>1582</td>\n      <td>778</td>\n      <td>2360</td>\n      <td>0.670339</td>\n      <td>0.329661</td>\n    </tr>\n    <tr>\n      <th>93</th>\n      <td>Sector total</td>\n      <td>194358</td>\n      <td>85689</td>\n      <td>280047</td>\n      <td>0.694019</td>\n      <td>0.305981</td>\n    </tr>\n  </tbody>\n</table>\n<p>94 rows × 6 columns</p>\n</div>"
     },
     "execution_count": 4,
     "metadata": {},
     "output_type": "execute_result"
    }
   ],
   "source": [
    "df"
   ]
  },
  {
   "cell_type": "code",
   "execution_count": 5,
   "id": "5ac01705",
   "metadata": {
    "pycharm": {
     "name": "#%%\n"
    },
    "scrolled": true
   },
   "outputs": [
    {
     "data": {
      "text/plain": "Int64Index([0, 32, 46, 47, 80], dtype='int64')"
     },
     "execution_count": 5,
     "metadata": {},
     "output_type": "execute_result"
    }
   ],
   "source": [
    "empty_row_index = df.index[df.isnull().all(axis=1)].insert(0,0)\n",
    "empty_row_index"
   ]
  },
  {
   "cell_type": "code",
   "execution_count": 6,
   "outputs": [],
   "source": [
    "dataframes = {}\n",
    "\n",
    "for i in range(len(empty_row_index)-1):\n",
    "    df_name = f\"{sheet_name}_{i}\"\n",
    "\n",
    "    # Skip adjacent empty rows\n",
    "    if empty_row_index[i+1]-empty_row_index[i] == 1:\n",
    "        continue\n",
    "\n",
    "    # Extract other tables\n",
    "    df_value = df.iloc[empty_row_index[i]:empty_row_index[i+1]].dropna(how='all').reset_index(drop=True)\n",
    "\n",
    "    # Add the dataframe into the library\n",
    "    dataframes[df_name] = df_value\n",
    "\n",
    "# Extract the last table\n",
    "df_value = df.iloc[empty_row_index[-1]:df.index[-1]+1].dropna(how='all').reset_index(drop=True)\n",
    "dataframes[f\"{sheet_name}_{len(empty_row_index)}\"] = df_value"
   ],
   "metadata": {
    "collapsed": false,
    "pycharm": {
     "name": "#%%\n"
    }
   }
  },
  {
   "cell_type": "code",
   "execution_count": 7,
   "id": "95de600b",
   "metadata": {
    "pycharm": {
     "name": "#%%\n"
    }
   },
   "outputs": [
    {
     "data": {
      "text/plain": "{'p18_19_0':                                                     0          1         2  \\\n 0   Number of FTE and percentage by gender and agency        NaN       NaN   \n 1                                                 NaN        FTE       NaN   \n 2                                              Agency     Female      Male   \n 3   Department of Aboriginal and Torres Strait Isl...     196.04      88.8   \n 4             Department of Agriculture and Fisheries     862.92   1198.25   \n 5         Department of Child Safety, Youth and Women    2748.27    552.54   \n 6   Department of Communities, Disability Services...    1158.26     576.8   \n 7                             Department of Education   57370.35  17224.97   \n 8   Department of Employment, Small Business and T...     396.41    162.06   \n 9               Department of Environment and Science     1393.8   1498.85   \n 10             Department of Housing and Public Works    2880.64      2361   \n 11         Department of Justice and Attorney-General    2244.96   1070.34   \n 12  Department of Local Government, Racing and Mul...     112.95      60.4   \n 13  Department of Natural Resources, Mines and Energy    1143.89   1005.12   \n 14  Department of Regional Development and Manufac...      21.02        21   \n 15  Department of State Development, Tourism and I...      512.7    278.35   \n 16              Department of the Premier and Cabinet     302.75     137.6   \n 17             Department of Transport and Main Roads    3376.24   3970.77   \n 18                        Department of Youth Justice     804.16    660.74   \n 19                    Electoral Commission Queensland       44.4     31.26   \n 20  Office of the Inspector-General of Emergency M...       14.1       3.9   \n 21                      Public Safety Business Agency     374.96    710.15   \n 22                          Public Service Commission      44.98        14   \n 23                                     Public Trustee     437.68     163.7   \n 24                            Queensland Audit Office      97.73     89.97   \n 25                     Queensland Corrective Services    2490.79   3334.61   \n 26             Queensland Fire and Emergency Services     705.66   2680.09   \n 27                                  Queensland Health   67373.46  26475.79   \n 28                          Queensland Police Service    5496.78   9982.47   \n 29                                Queensland Treasury     687.85    520.35   \n 30                                    TAFE Queensland    2401.97   1548.58   \n 31          Sector sub-total: Budget paper 2 agencies  155695.72  76422.46   \n \n             3           4         5  \n 0         NaN         NaN       NaN  \n 1         NaN  Percentage       NaN  \n 2       Total      Female      Male  \n 3      284.84    0.688246  0.311754  \n 4     2061.17    0.418655  0.581345  \n 5     3300.81    0.832605  0.167395  \n 6     1735.06    0.667562  0.332438  \n 7    74595.32    0.769088  0.230912  \n 8      558.47    0.709814  0.290186  \n 9     2892.65    0.481842  0.518158  \n 10    5241.64    0.549568  0.450432  \n 11     3315.3    0.677151  0.322849  \n 12     173.35    0.651572  0.348428  \n 13    2149.01    0.532287  0.467713  \n 14      42.02    0.500238  0.499762  \n 15     791.05    0.648126  0.351874  \n 16     440.35    0.687521  0.312479  \n 17    7347.01    0.459539  0.540461  \n 18     1464.9    0.548952  0.451048  \n 19      75.66    0.586836  0.413164  \n 20         18    0.783333  0.216667  \n 21    1085.11     0.34555   0.65445  \n 22      58.98    0.762631  0.237369  \n 23     601.38    0.727793  0.272207  \n 24      187.7    0.520671  0.479329  \n 25     5825.4    0.427574  0.572426  \n 26    3385.75    0.208421  0.791579  \n 27   93849.25     0.71789   0.28211  \n 28   15479.25    0.355106  0.644894  \n 29     1208.2    0.569318  0.430682  \n 30    3950.55    0.608009  0.391991  \n 31  232118.18    0.670761  0.329239  ,\n 'p18_19_1':                                          0          1         2          3  \\\n 0                                      NaN        FTE       NaN        NaN   \n 1                           Other entities     Female      Male      Total   \n 2                     Legal Aid Queensland     432.54    135.66      568.2   \n 3           Office of the Health Ombudsman      92.08     41.25     133.33   \n 4                   Queensland Art Gallery     164.88     104.7     269.58   \n 5   Queensland Family and Child Commission       52.9     16.91      69.81   \n 6       Queensland Human Rights Commission       31.1         9       40.1   \n 7                        Queensland Museum     153.29     90.87     244.16   \n 8   Resources Safety and Health Queensland      113.2    171.46     284.66   \n 9              State Library of Queensland     202.16      79.6     281.76   \n 10         Trade and Investment Queensland      81.51      51.2     132.71   \n 11        Sector sub-total: Other entities    1323.66    700.65    2024.31   \n 12                            Sector total  157019.38  77123.11  234142.49   \n \n              4         5  \n 0   Percentage       NaN  \n 1       Female      Male  \n 2     0.761246  0.238754  \n 3     0.690617  0.309383  \n 4     0.611618  0.388382  \n 5     0.757771  0.242229  \n 6     0.775561  0.224439  \n 7     0.627826  0.372174  \n 8     0.397667  0.602333  \n 9      0.71749   0.28251  \n 10    0.614196  0.385804  \n 11    0.653882  0.346118  \n 12    0.670615  0.329385  ,\n 'p18_19_3':                                                     0          1      2  \\\n 0       Headcount and percentage by gender and agency        NaN    NaN   \n 1                                                 NaN  Headcount    NaN   \n 2                                              Agency     Female   Male   \n 3   Department of Aboriginal and Torres Strait Isl...        208     90   \n 4             Department of Agriculture and Fisheries        940   1223   \n 5         Department of Child Safety, Youth and Women       2996    564   \n 6   Department of Communities, Disability Services...       1300    634   \n 7                             Department of Education      74396  19863   \n 8   Department of Employment, Small Business and T...        432    166   \n 9               Department of Environment and Science       1543   1531   \n 10             Department of Housing and Public Works       3151   2401   \n 11         Department of Justice and Attorney-General       2544   1129   \n 12  Department of Local Government, Racing and Mul...        120     62   \n 13  Department of Natural Resources, Mines and Energy       1259   1027   \n 14  Department of Regional Development and Manufac...         26     21   \n 15  Department of State Development, Tourism and I...        554    283   \n 16              Department of the Premier and Cabinet        325    140   \n 17             Department of Transport and Main Roads       4994   4454   \n 18                        Department of Youth Justice        894    712   \n 19                    Electoral Commission Queensland         47     33   \n 20  Office of the Inspector-General of Emergency M...         15      4   \n 21                      Public Safety Business Agency        396    719   \n 22                          Public Service Commission         49     14   \n 23                                     Public Trustee        473    166   \n 24                            Queensland Audit Office        106     92   \n 25                     Queensland Corrective Services       2644   3417   \n 26             Queensland Fire and Emergency Services        971   4212   \n 27                                  Queensland Health      82872  29635   \n 28                          Queensland Police Service       5883  10053   \n 29                                Queensland Treasury        753    530   \n 30                                    TAFE Queensland       2885   1736   \n 31          Sector sub-total: Budget paper 2 agencies     192776  84911   \n \n          3           4         5  \n 0      NaN         NaN       NaN  \n 1      NaN  Percentage       NaN  \n 2    Total      Female      Male  \n 3      298    0.697987  0.302013  \n 4     2163    0.434582  0.565418  \n 5     3560    0.841573  0.158427  \n 6     1934    0.672182  0.327818  \n 7    94259    0.789272  0.210728  \n 8      598    0.722408  0.277592  \n 9     3074    0.501952  0.498048  \n 10    5552    0.567543  0.432457  \n 11    3673    0.692622  0.307378  \n 12     182    0.659341  0.340659  \n 13    2286    0.550744  0.449256  \n 14      47    0.553191  0.446809  \n 15     837    0.661888  0.338112  \n 16     465    0.698925  0.301075  \n 17    9448    0.528577  0.471423  \n 18    1606    0.556663  0.443337  \n 19      80      0.5875    0.4125  \n 20      19    0.789474  0.210526  \n 21    1115    0.355157  0.644843  \n 22      63    0.777778  0.222222  \n 23     639    0.740219  0.259781  \n 24     198    0.535354  0.464646  \n 25    6061    0.436232  0.563768  \n 26    5183    0.187343  0.812657  \n 27  112507    0.736594  0.263406  \n 28   15936    0.369164  0.630836  \n 29    1283    0.586906  0.413094  \n 30    4621    0.624324  0.375676  \n 31  277687     0.69422   0.30578  ,\n 'p18_19_5':                                          0          1      2       3  \\\n 0                                      NaN  Headcount    NaN     NaN   \n 1                           Other entities     Female   Male   Total   \n 2                     Legal Aid Queensland        480    143     623   \n 3           Office of the Health Ombudsman        100     42     142   \n 4                   Queensland Art Gallery        234    131     365   \n 5   Queensland Family and Child Commission         56     17      73   \n 6       Queensland Human Rights Commission         35      9      44   \n 7                        Queensland Museum        219    110     329   \n 8   Resources Safety and Health Queensland        120    176     296   \n 9              State Library of Queensland        255     98     353   \n 10         Trade and Investment Queensland         83     52     135   \n 11        Sector sub-total: Other entities       1582    778    2360   \n 12                            Sector total     194358  85689  280047   \n \n              4         5  \n 0   Percentage       NaN  \n 1       Female      Male  \n 2     0.770465  0.229535  \n 3     0.704225  0.295775  \n 4     0.641096  0.358904  \n 5     0.767123  0.232877  \n 6     0.795455  0.204545  \n 7     0.665653  0.334347  \n 8     0.405405  0.594595  \n 9      0.72238   0.27762  \n 10    0.614815  0.385185  \n 11    0.670339  0.329661  \n 12    0.694019  0.305981  }"
     },
     "execution_count": 7,
     "metadata": {},
     "output_type": "execute_result"
    }
   ],
   "source": [
    "dataframes\n",
    "\n"
   ]
  },
  {
   "cell_type": "code",
   "execution_count": 8,
   "outputs": [
    {
     "data": {
      "text/plain": "\u001B[31m╭─\u001B[0m\u001B[31m──────────────────────────────\u001B[0m\u001B[31m \u001B[0m\u001B[1;31mTraceback \u001B[0m\u001B[1;2;31m(most recent call last)\u001B[0m\u001B[31m \u001B[0m\u001B[31m───────────────────────────────\u001B[0m\u001B[31m─╮\u001B[0m\n\u001B[31m│\u001B[0m in \u001B[92m<cell line: 1>\u001B[0m:\u001B[94m11\u001B[0m                                                                             \u001B[31m│\u001B[0m\n\u001B[31m│\u001B[0m                                                                                                  \u001B[31m│\u001B[0m\n\u001B[31m│\u001B[0m   \u001B[2m 8 \u001B[0m\u001B[2m│   \u001B[0mcsv_data_set.save(df)                                                                   \u001B[31m│\u001B[0m\n\u001B[31m│\u001B[0m   \u001B[2m 9 \u001B[0m\u001B[2m│   \u001B[0m                                                                                        \u001B[31m│\u001B[0m\n\u001B[31m│\u001B[0m   \u001B[2m10 \u001B[0m\u001B[2m│   \u001B[0m\u001B[2m# Add the CSVDataSet object to the catalog\u001B[0m                                              \u001B[31m│\u001B[0m\n\u001B[31m│\u001B[0m \u001B[31m❱ \u001B[0m11 \u001B[2m│   \u001B[0mcatalog.add(name, csv_data_set)                                                         \u001B[31m│\u001B[0m\n\u001B[31m│\u001B[0m   \u001B[2m12 \u001B[0m\u001B[2m│   \u001B[0m                                                                                        \u001B[31m│\u001B[0m\n\u001B[31m│\u001B[0m   \u001B[2m13 \u001B[0m\u001B[2m│   \u001B[0m\u001B[2m# Update the catalog yml file\u001B[0m                                                           \u001B[31m│\u001B[0m\n\u001B[31m│\u001B[0m   \u001B[2m14 \u001B[0m\u001B[2m│   \u001B[0mcatalog.save(name=name, data=catalog.load(name))                                        \u001B[31m│\u001B[0m\n\u001B[31m│\u001B[0m                                                                                                  \u001B[31m│\u001B[0m\n\u001B[31m│\u001B[0m \u001B[33mC:\\Users\\gdbt0\\anaconda3\\envs\\Data-preparation-pipeline\\lib\\site-packages\\kedro\\io\\data_catalog.\u001B[0m \u001B[31m│\u001B[0m\n\u001B[31m│\u001B[0m \u001B[33mpy\u001B[0m:\u001B[94m449\u001B[0m in \u001B[92madd\u001B[0m                                                                                    \u001B[31m│\u001B[0m\n\u001B[31m╰──────────────────────────────────────────────────────────────────────────────────────────────────╯\u001B[0m\n\u001B[1;91mDataSetAlreadyExistsError: \u001B[0mDataSet \u001B[32m'p18_19_0'\u001B[0m has already been registered\n",
      "text/html": "<pre style=\"white-space:pre;overflow-x:auto;line-height:normal;font-family:Menlo,'DejaVu Sans Mono',consolas,'Courier New',monospace\"><span style=\"color: #800000; text-decoration-color: #800000\">╭─────────────────────────────── </span><span style=\"color: #800000; text-decoration-color: #800000; font-weight: bold\">Traceback </span><span style=\"color: #bf7f7f; text-decoration-color: #bf7f7f; font-weight: bold\">(most recent call last)</span><span style=\"color: #800000; text-decoration-color: #800000\"> ────────────────────────────────╮</span>\n<span style=\"color: #800000; text-decoration-color: #800000\">│</span> in <span style=\"color: #00ff00; text-decoration-color: #00ff00\">&lt;cell line: 1&gt;</span>:<span style=\"color: #0000ff; text-decoration-color: #0000ff\">11</span>                                                                             <span style=\"color: #800000; text-decoration-color: #800000\">│</span>\n<span style=\"color: #800000; text-decoration-color: #800000\">│</span>                                                                                                  <span style=\"color: #800000; text-decoration-color: #800000\">│</span>\n<span style=\"color: #800000; text-decoration-color: #800000\">│</span>   <span style=\"color: #7f7f7f; text-decoration-color: #7f7f7f\"> 8 │   </span>csv_data_set.save(df)                                                                   <span style=\"color: #800000; text-decoration-color: #800000\">│</span>\n<span style=\"color: #800000; text-decoration-color: #800000\">│</span>   <span style=\"color: #7f7f7f; text-decoration-color: #7f7f7f\"> 9 │   </span>                                                                                        <span style=\"color: #800000; text-decoration-color: #800000\">│</span>\n<span style=\"color: #800000; text-decoration-color: #800000\">│</span>   <span style=\"color: #7f7f7f; text-decoration-color: #7f7f7f\">10 │   # Add the CSVDataSet object to the catalog</span>                                              <span style=\"color: #800000; text-decoration-color: #800000\">│</span>\n<span style=\"color: #800000; text-decoration-color: #800000\">│</span> <span style=\"color: #800000; text-decoration-color: #800000\">❱ </span>11 <span style=\"color: #7f7f7f; text-decoration-color: #7f7f7f\">│   </span>catalog.add(name, csv_data_set)                                                         <span style=\"color: #800000; text-decoration-color: #800000\">│</span>\n<span style=\"color: #800000; text-decoration-color: #800000\">│</span>   <span style=\"color: #7f7f7f; text-decoration-color: #7f7f7f\">12 │   </span>                                                                                        <span style=\"color: #800000; text-decoration-color: #800000\">│</span>\n<span style=\"color: #800000; text-decoration-color: #800000\">│</span>   <span style=\"color: #7f7f7f; text-decoration-color: #7f7f7f\">13 │   # Update the catalog yml file</span>                                                           <span style=\"color: #800000; text-decoration-color: #800000\">│</span>\n<span style=\"color: #800000; text-decoration-color: #800000\">│</span>   <span style=\"color: #7f7f7f; text-decoration-color: #7f7f7f\">14 │   </span>catalog.save(name=name, data=catalog.load(name))                                        <span style=\"color: #800000; text-decoration-color: #800000\">│</span>\n<span style=\"color: #800000; text-decoration-color: #800000\">│</span>                                                                                                  <span style=\"color: #800000; text-decoration-color: #800000\">│</span>\n<span style=\"color: #800000; text-decoration-color: #800000\">│</span> <span style=\"color: #808000; text-decoration-color: #808000\">C:\\Users\\gdbt0\\anaconda3\\envs\\Data-preparation-pipeline\\lib\\site-packages\\kedro\\io\\data_catalog.</span> <span style=\"color: #800000; text-decoration-color: #800000\">│</span>\n<span style=\"color: #800000; text-decoration-color: #800000\">│</span> <span style=\"color: #808000; text-decoration-color: #808000\">py</span>:<span style=\"color: #0000ff; text-decoration-color: #0000ff\">449</span> in <span style=\"color: #00ff00; text-decoration-color: #00ff00\">add</span>                                                                                    <span style=\"color: #800000; text-decoration-color: #800000\">│</span>\n<span style=\"color: #800000; text-decoration-color: #800000\">╰──────────────────────────────────────────────────────────────────────────────────────────────────╯</span>\n<span style=\"color: #ff0000; text-decoration-color: #ff0000; font-weight: bold\">DataSetAlreadyExistsError: </span>DataSet <span style=\"color: #008000; text-decoration-color: #008000\">'p18_19_0'</span> has already been registered\n</pre>\n"
     },
     "metadata": {},
     "output_type": "display_data"
    }
   ],
   "source": [
    "for name, df in dataframes.items():\n",
    "\n",
    "    filepath = f\"../data/02_extracted/{name}.csv\"\n",
    "\n",
    "    csv_data_set = CSVDataSet(filepath)\n",
    "\n",
    "    # Save the DataFrame to the CSV file using the save() method of the CSVDataSet object\n",
    "    csv_data_set.save(df)\n",
    "\n",
    "    # Add the CSVDataSet object to the catalog\n",
    "    catalog.add(name, csv_data_set)\n",
    "\n",
    "    # Update the catalog yml file\n",
    "    catalog.save(name=name, data=catalog.load(name))"
   ],
   "metadata": {
    "collapsed": false,
    "pycharm": {
     "name": "#%%\n"
    }
   }
  },
  {
   "cell_type": "code",
   "execution_count": null,
   "outputs": [],
   "source": [
    "# Save the catalog changes to catalog.yml\n",
    "catalog.list()"
   ],
   "metadata": {
    "collapsed": false,
    "pycharm": {
     "name": "#%%\n"
    }
   }
  },
  {
   "cell_type": "code",
   "execution_count": null,
   "outputs": [],
   "source": [
    "# Load the catalog YAML file\n",
    "\n",
    "# Define the source of configuration files\n",
    "conf_path = \"..\\conf\"\n",
    "conf_loader = ConfigLoader(conf_source=conf_path, env=\"local\")\n",
    "conf_catalog = conf_loader.get(\"catalog.yml\")\n",
    "\n",
    "# Define the filename and path relative to the project root directory\n",
    "#filename = \"catalog.yml\"\n",
    "#path = os.path.join(os.getcwd(), filename)\n",
    "\n",
    "path = \"C:/Users/gdbt0/Projects/Data-preparation-pipeline/data-processing-pipeline/conf/base/catalog.yml\"\n",
    "\n",
    "for name in dataframes.keys():\n",
    "    # Add a new dataset to the catalog YAML file\n",
    "    conf_catalog[name] = {\n",
    "        \"type\": \"pandas.CSVDataSet\",\n",
    "        \"filepath\": f\"data/02_extracted/{name}.csv\"\n",
    "    }\n",
    "    conf_loader.update()\n",
    "\n",
    "    # Save the updated catalog YAML file\n",
    "    with open(path, \"w\") as f:\n",
    "       yaml.dump(conf_catalog, f)"
   ],
   "metadata": {
    "collapsed": false,
    "pycharm": {
     "name": "#%%\n"
    }
   }
  },
  {
   "cell_type": "code",
   "execution_count": null,
   "outputs": [],
   "source": [
    "catalog.list()"
   ],
   "metadata": {
    "collapsed": false,
    "pycharm": {
     "name": "#%%\n"
    }
   }
  }
 ],
 "metadata": {
  "kernelspec": {
   "display_name": "Kedro (data_processing_pipeline)",
   "language": "python",
   "name": "kedro_data_processing_pipeline"
  },
  "language_info": {
   "codemirror_mode": {
    "name": "ipython",
    "version": 3
   },
   "file_extension": ".py",
   "mimetype": "text/x-python",
   "name": "python",
   "nbconvert_exporter": "python",
   "pygments_lexer": "ipython3",
   "version": "3.9.16"
  }
 },
 "nbformat": 4,
 "nbformat_minor": 5
}