{
 "cells": [
  {
   "cell_type": "code",
   "execution_count": 1,
   "metadata": {
    "collapsed": true
   },
   "outputs": [
    {
     "data": {
      "text/plain": "['p18_19_0',\n 'p18_19_1',\n 'p18_19_3',\n 'p18_19_5',\n 'qld_p18_19',\n 'qld_all',\n 'parameters']"
     },
     "execution_count": 1,
     "metadata": {},
     "output_type": "execute_result"
    }
   ],
   "source": [
    "catalog.list()"
   ]
  },
  {
   "cell_type": "code",
   "execution_count": 2,
   "outputs": [],
   "source": [
    "sheet_names = ['pg 5 workforce at a glance', 'pg 6 ', 'pg 7 workforce size', 'pg 9 occupation type', 'pg 10 and 11 location', 'pg 12 employment type', 'pg 13 diversity', 'pg 14 workforce earnings', 'pg 15 age', 'pg 16 and 17 appt type', 'pg 18 and 19 gender', 'pg 20  employment status', 'pg 20 appointment type']"
   ],
   "metadata": {
    "collapsed": false,
    "pycharm": {
     "name": "#%%\n"
    }
   }
  },
  {
   "cell_type": "code",
   "execution_count": 3,
   "outputs": [
    {
     "name": "stdout",
     "output_type": "stream",
     "text": [
      "2023-04-26 11:25:43,429 - kedro.io.data_catalog - INFO - Loading data from 'qld_all' (ExcelDataSet)...\n"
     ]
    }
   ],
   "source": [
    "sheet = catalog.load(\n",
    "    'qld_all')"
   ],
   "metadata": {
    "collapsed": false,
    "pycharm": {
     "name": "#%%\n"
    }
   }
  },
  {
   "cell_type": "code",
   "execution_count": 4,
   "outputs": [
    {
     "data": {
      "text/plain": "                                                    0         1\n0                                              Sector     FTE %\n1                                       Health sector       0.4\n2                                   Education sector*      0.34\n3                                      Rest of sector      0.26\n4                                                 NaN       NaN\n5                                     Occupation type     FTE %\n6   Frontline (including key frontline roles) and ...    0.9125\n7                                     Corporate roles    0.0875\n8                                                 NaN       NaN\n9                                 Key frontline roles       FTE\n10                         Teachers and teacher aides   58234.2\n11                                Nurses and midwives  35769.03\n12                                             Police  11979.25\n13  Allied health (health practitioners, and profe...   11676.7\n14                                            Doctors  10339.29\n15                                 Ambulance officers   4542.47\n16                              Correctional officers   3693.63\n17                                       Firefighters   2547.31\n18                           TAFE teachers and tutors   1823.59\n19                          Child safety case workers    1691.6\n20                         Disability support workers    1066.2\n21                             Youth and case workers    802.08\n22                                                NaN       NaN\n23                                                NaN       NaN\n24         *Education sector includes TAFE Queensland       NaN",
      "text/html": "<div>\n<style scoped>\n    .dataframe tbody tr th:only-of-type {\n        vertical-align: middle;\n    }\n\n    .dataframe tbody tr th {\n        vertical-align: top;\n    }\n\n    .dataframe thead th {\n        text-align: right;\n    }\n</style>\n<table border=\"1\" class=\"dataframe\">\n  <thead>\n    <tr style=\"text-align: right;\">\n      <th></th>\n      <th>0</th>\n      <th>1</th>\n    </tr>\n  </thead>\n  <tbody>\n    <tr>\n      <th>0</th>\n      <td>Sector</td>\n      <td>FTE %</td>\n    </tr>\n    <tr>\n      <th>1</th>\n      <td>Health sector</td>\n      <td>0.4</td>\n    </tr>\n    <tr>\n      <th>2</th>\n      <td>Education sector*</td>\n      <td>0.34</td>\n    </tr>\n    <tr>\n      <th>3</th>\n      <td>Rest of sector</td>\n      <td>0.26</td>\n    </tr>\n    <tr>\n      <th>4</th>\n      <td>NaN</td>\n      <td>NaN</td>\n    </tr>\n    <tr>\n      <th>5</th>\n      <td>Occupation type</td>\n      <td>FTE %</td>\n    </tr>\n    <tr>\n      <th>6</th>\n      <td>Frontline (including key frontline roles) and ...</td>\n      <td>0.9125</td>\n    </tr>\n    <tr>\n      <th>7</th>\n      <td>Corporate roles</td>\n      <td>0.0875</td>\n    </tr>\n    <tr>\n      <th>8</th>\n      <td>NaN</td>\n      <td>NaN</td>\n    </tr>\n    <tr>\n      <th>9</th>\n      <td>Key frontline roles</td>\n      <td>FTE</td>\n    </tr>\n    <tr>\n      <th>10</th>\n      <td>Teachers and teacher aides</td>\n      <td>58234.2</td>\n    </tr>\n    <tr>\n      <th>11</th>\n      <td>Nurses and midwives</td>\n      <td>35769.03</td>\n    </tr>\n    <tr>\n      <th>12</th>\n      <td>Police</td>\n      <td>11979.25</td>\n    </tr>\n    <tr>\n      <th>13</th>\n      <td>Allied health (health practitioners, and profe...</td>\n      <td>11676.7</td>\n    </tr>\n    <tr>\n      <th>14</th>\n      <td>Doctors</td>\n      <td>10339.29</td>\n    </tr>\n    <tr>\n      <th>15</th>\n      <td>Ambulance officers</td>\n      <td>4542.47</td>\n    </tr>\n    <tr>\n      <th>16</th>\n      <td>Correctional officers</td>\n      <td>3693.63</td>\n    </tr>\n    <tr>\n      <th>17</th>\n      <td>Firefighters</td>\n      <td>2547.31</td>\n    </tr>\n    <tr>\n      <th>18</th>\n      <td>TAFE teachers and tutors</td>\n      <td>1823.59</td>\n    </tr>\n    <tr>\n      <th>19</th>\n      <td>Child safety case workers</td>\n      <td>1691.6</td>\n    </tr>\n    <tr>\n      <th>20</th>\n      <td>Disability support workers</td>\n      <td>1066.2</td>\n    </tr>\n    <tr>\n      <th>21</th>\n      <td>Youth and case workers</td>\n      <td>802.08</td>\n    </tr>\n    <tr>\n      <th>22</th>\n      <td>NaN</td>\n      <td>NaN</td>\n    </tr>\n    <tr>\n      <th>23</th>\n      <td>NaN</td>\n      <td>NaN</td>\n    </tr>\n    <tr>\n      <th>24</th>\n      <td>*Education sector includes TAFE Queensland</td>\n      <td>NaN</td>\n    </tr>\n  </tbody>\n</table>\n</div>"
     },
     "execution_count": 4,
     "metadata": {},
     "output_type": "execute_result"
    }
   ],
   "source": [
    "sheet.get('pg 5 workforce at a glance')"
   ],
   "metadata": {
    "collapsed": false,
    "pycharm": {
     "name": "#%%\n"
    }
   }
  },
  {
   "cell_type": "code",
   "execution_count": null,
   "outputs": [],
   "source": [],
   "metadata": {
    "collapsed": false,
    "pycharm": {
     "name": "#%%\n"
    }
   }
  }
 ],
 "metadata": {
  "kernelspec": {
   "name": "kedro_data_processing_pipeline",
   "language": "python",
   "display_name": "Kedro (data_processing_pipeline)"
  },
  "language_info": {
   "codemirror_mode": {
    "name": "ipython",
    "version": 2
   },
   "file_extension": ".py",
   "mimetype": "text/x-python",
   "name": "python",
   "nbconvert_exporter": "python",
   "pygments_lexer": "ipython2",
   "version": "2.7.6"
  }
 },
 "nbformat": 4,
 "nbformat_minor": 0
}