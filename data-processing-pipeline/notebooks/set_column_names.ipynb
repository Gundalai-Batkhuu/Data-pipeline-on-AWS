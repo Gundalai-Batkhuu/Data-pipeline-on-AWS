{
 "cells": [
  {
   "cell_type": "code",
   "execution_count": 17,
   "metadata": {
    "collapsed": true
   },
   "outputs": [],
   "source": [
    "import pandas as pd"
   ]
  },
  {
   "cell_type": "code",
   "execution_count": 18,
   "metadata": {
    "pycharm": {
     "name": "#%%\n"
    }
   },
   "outputs": [
    {
     "data": {
      "text/plain": [
       "['p18_19_0', 'p18_19_1', 'p18_19_3', 'p18_19_5', 'qld_p18_19', 'parameters']"
      ]
     },
     "execution_count": 18,
     "metadata": {},
     "output_type": "execute_result"
    }
   ],
   "source": [
    "catalog.list()"
   ]
  },
  {
   "cell_type": "code",
   "execution_count": 19,
   "metadata": {
    "pycharm": {
     "name": "#%%\n"
    }
   },
   "outputs": [
    {
     "name": "stdout",
     "output_type": "stream",
     "text": [
      "2023-04-24 22:02:29,071 - kedro.io.data_catalog - INFO - Loading data from 'p18_19_5' (CSVDataSet)...\n"
     ]
    }
   ],
   "source": [
    "df = catalog.load('p18_19_5')"
   ]
  },
  {
   "cell_type": "code",
   "execution_count": 20,
   "metadata": {
    "pycharm": {
     "name": "#%%\n"
    }
   },
   "outputs": [
    {
     "data": {
      "text/html": [
       "<div>\n",
       "<style scoped>\n",
       "    .dataframe tbody tr th:only-of-type {\n",
       "        vertical-align: middle;\n",
       "    }\n",
       "\n",
       "    .dataframe tbody tr th {\n",
       "        vertical-align: top;\n",
       "    }\n",
       "\n",
       "    .dataframe thead th {\n",
       "        text-align: right;\n",
       "    }\n",
       "</style>\n",
       "<table border=\"1\" class=\"dataframe\">\n",
       "  <thead>\n",
       "    <tr style=\"text-align: right;\">\n",
       "      <th></th>\n",
       "      <th>0</th>\n",
       "      <th>1</th>\n",
       "      <th>2</th>\n",
       "      <th>3</th>\n",
       "      <th>4</th>\n",
       "      <th>5</th>\n",
       "    </tr>\n",
       "  </thead>\n",
       "  <tbody>\n",
       "    <tr>\n",
       "      <th>0</th>\n",
       "      <td>NaN</td>\n",
       "      <td>Headcount</td>\n",
       "      <td>NaN</td>\n",
       "      <td>NaN</td>\n",
       "      <td>Percentage</td>\n",
       "      <td>NaN</td>\n",
       "    </tr>\n",
       "    <tr>\n",
       "      <th>1</th>\n",
       "      <td>Other entities</td>\n",
       "      <td>Female</td>\n",
       "      <td>Male</td>\n",
       "      <td>Total</td>\n",
       "      <td>Female</td>\n",
       "      <td>Male</td>\n",
       "    </tr>\n",
       "    <tr>\n",
       "      <th>2</th>\n",
       "      <td>Legal Aid Queensland</td>\n",
       "      <td>480</td>\n",
       "      <td>143</td>\n",
       "      <td>623</td>\n",
       "      <td>0.7704654895666132</td>\n",
       "      <td>0.22953451043338685</td>\n",
       "    </tr>\n",
       "    <tr>\n",
       "      <th>3</th>\n",
       "      <td>Office of the Health Ombudsman</td>\n",
       "      <td>100</td>\n",
       "      <td>42</td>\n",
       "      <td>142</td>\n",
       "      <td>0.704225352112676</td>\n",
       "      <td>0.29577464788732394</td>\n",
       "    </tr>\n",
       "    <tr>\n",
       "      <th>4</th>\n",
       "      <td>Queensland Art Gallery</td>\n",
       "      <td>234</td>\n",
       "      <td>131</td>\n",
       "      <td>365</td>\n",
       "      <td>0.6410958904109589</td>\n",
       "      <td>0.3589041095890411</td>\n",
       "    </tr>\n",
       "  </tbody>\n",
       "</table>\n",
       "</div>"
      ],
      "text/plain": [
       "                                0          1     2      3                   4  \\\n",
       "0                             NaN  Headcount   NaN    NaN          Percentage   \n",
       "1                  Other entities     Female  Male  Total              Female   \n",
       "2            Legal Aid Queensland        480   143    623  0.7704654895666132   \n",
       "3  Office of the Health Ombudsman        100    42    142   0.704225352112676   \n",
       "4          Queensland Art Gallery        234   131    365  0.6410958904109589   \n",
       "\n",
       "                     5  \n",
       "0                  NaN  \n",
       "1                 Male  \n",
       "2  0.22953451043338685  \n",
       "3  0.29577464788732394  \n",
       "4   0.3589041095890411  "
      ]
     },
     "execution_count": 20,
     "metadata": {},
     "output_type": "execute_result"
    }
   ],
   "source": [
    "df.head()"
   ]
  },
  {
   "cell_type": "code",
   "execution_count": 21,
   "metadata": {
    "pycharm": {
     "name": "#%%\n"
    }
   },
   "outputs": [],
   "source": [
    "# Create a boolean is_title_mask indicating which rows have only one non-null entry\n",
    "is_title_mask = df.count(axis=1) == 1"
   ]
  },
  {
   "cell_type": "code",
   "execution_count": 22,
   "metadata": {
    "pycharm": {
     "name": "#%%\n"
    }
   },
   "outputs": [
    {
     "name": "stdout",
     "output_type": "stream",
     "text": [
      "No title\n"
     ]
    }
   ],
   "source": [
    "table_name = \"None\"\n",
    "\n",
    "# Check if the dataframe contains a row with only one non-null value. The non-value is assumed to become the title of the table\n",
    "if is_title_mask.any():\n",
    "\n",
    "    # Find the column index of the non-null value in each row by filtering the DataFrame to include only the rows with one non-null entry\n",
    "    row_index = df[is_title_mask].index.tolist()[0]\n",
    "\n",
    "    # Find the column index of the non-null value in the row\n",
    "    col_index = df[is_title_mask].notnull().idxmax(axis=1)\n",
    "\n",
    "    # Extract the value of the cell as a string for naming the table\n",
    "    table_name = df.loc[row_index, col_index].item()\n",
    "\n",
    "    # Drop  the first row in the dataframe\n",
    "    df = df.drop(index=0)\n",
    "\n",
    "    # Reset the dataframe's row index\n",
    "    df = df.reset_index(drop=True)\n",
    "else:\n",
    "    print(\"No title\")"
   ]
  },
  {
   "cell_type": "code",
   "execution_count": 23,
   "metadata": {
    "pycharm": {
     "name": "#%%\n"
    }
   },
   "outputs": [
    {
     "name": "stdout",
     "output_type": "stream",
     "text": [
      "table name: None\n"
     ]
    }
   ],
   "source": [
    "print(f\"table name: {table_name}\")"
   ]
  },
  {
   "cell_type": "code",
   "execution_count": 24,
   "metadata": {
    "pycharm": {
     "name": "#%%\n"
    }
   },
   "outputs": [
    {
     "data": {
      "text/html": [
       "<div>\n",
       "<style scoped>\n",
       "    .dataframe tbody tr th:only-of-type {\n",
       "        vertical-align: middle;\n",
       "    }\n",
       "\n",
       "    .dataframe tbody tr th {\n",
       "        vertical-align: top;\n",
       "    }\n",
       "\n",
       "    .dataframe thead th {\n",
       "        text-align: right;\n",
       "    }\n",
       "</style>\n",
       "<table border=\"1\" class=\"dataframe\">\n",
       "  <thead>\n",
       "    <tr style=\"text-align: right;\">\n",
       "      <th></th>\n",
       "      <th>0</th>\n",
       "      <th>1</th>\n",
       "      <th>2</th>\n",
       "      <th>3</th>\n",
       "      <th>4</th>\n",
       "      <th>5</th>\n",
       "    </tr>\n",
       "  </thead>\n",
       "  <tbody>\n",
       "    <tr>\n",
       "      <th>0</th>\n",
       "      <td>NaN</td>\n",
       "      <td>Headcount</td>\n",
       "      <td>NaN</td>\n",
       "      <td>NaN</td>\n",
       "      <td>Percentage</td>\n",
       "      <td>NaN</td>\n",
       "    </tr>\n",
       "    <tr>\n",
       "      <th>1</th>\n",
       "      <td>Other entities</td>\n",
       "      <td>Female</td>\n",
       "      <td>Male</td>\n",
       "      <td>Total</td>\n",
       "      <td>Female</td>\n",
       "      <td>Male</td>\n",
       "    </tr>\n",
       "    <tr>\n",
       "      <th>2</th>\n",
       "      <td>Legal Aid Queensland</td>\n",
       "      <td>480</td>\n",
       "      <td>143</td>\n",
       "      <td>623</td>\n",
       "      <td>0.7704654895666132</td>\n",
       "      <td>0.22953451043338685</td>\n",
       "    </tr>\n",
       "    <tr>\n",
       "      <th>3</th>\n",
       "      <td>Office of the Health Ombudsman</td>\n",
       "      <td>100</td>\n",
       "      <td>42</td>\n",
       "      <td>142</td>\n",
       "      <td>0.704225352112676</td>\n",
       "      <td>0.29577464788732394</td>\n",
       "    </tr>\n",
       "    <tr>\n",
       "      <th>4</th>\n",
       "      <td>Queensland Art Gallery</td>\n",
       "      <td>234</td>\n",
       "      <td>131</td>\n",
       "      <td>365</td>\n",
       "      <td>0.6410958904109589</td>\n",
       "      <td>0.3589041095890411</td>\n",
       "    </tr>\n",
       "  </tbody>\n",
       "</table>\n",
       "</div>"
      ],
      "text/plain": [
       "                                0          1     2      3                   4  \\\n",
       "0                             NaN  Headcount   NaN    NaN          Percentage   \n",
       "1                  Other entities     Female  Male  Total              Female   \n",
       "2            Legal Aid Queensland        480   143    623  0.7704654895666132   \n",
       "3  Office of the Health Ombudsman        100    42    142   0.704225352112676   \n",
       "4          Queensland Art Gallery        234   131    365  0.6410958904109589   \n",
       "\n",
       "                     5  \n",
       "0                  NaN  \n",
       "1                 Male  \n",
       "2  0.22953451043338685  \n",
       "3  0.29577464788732394  \n",
       "4   0.3589041095890411  "
      ]
     },
     "execution_count": 24,
     "metadata": {},
     "output_type": "execute_result"
    }
   ],
   "source": [
    "df.head()"
   ]
  },
  {
   "cell_type": "code",
   "execution_count": 25,
   "metadata": {
    "pycharm": {
     "name": "#%%\n"
    }
   },
   "outputs": [
    {
     "name": "stdout",
     "output_type": "stream",
     "text": [
      "The index of the last row with null :0\n"
     ]
    }
   ],
   "source": [
    "# The row index of the last row with null values in the dataframe\n",
    "row_index_last_null = df.isna().iloc[::-1].idxmax()[0]\n",
    "\n",
    "print(f\"The index of the last row with null :{row_index_last_null}\")\n",
    "\n",
    "# If the only first row has null values, then assume that the second row has column index values\n",
    "if row_index_last_null == 0:\n",
    "    row_index_last_null =+ 1"
   ]
  },
  {
   "cell_type": "code",
   "execution_count": 26,
   "metadata": {
    "pycharm": {
     "name": "#%%\n"
    }
   },
   "outputs": [],
   "source": [
    "# For first rows in the dataframe with null values, populate the null values with the preceding non-null value\n",
    "df.iloc[:row_index_last_null] = df.iloc[:row_index_last_null].fillna(method='ffill', axis=1)"
   ]
  },
  {
   "cell_type": "code",
   "execution_count": 27,
   "metadata": {
    "pycharm": {
     "name": "#%%\n"
    }
   },
   "outputs": [
    {
     "data": {
      "text/html": [
       "<div>\n",
       "<style scoped>\n",
       "    .dataframe tbody tr th:only-of-type {\n",
       "        vertical-align: middle;\n",
       "    }\n",
       "\n",
       "    .dataframe tbody tr th {\n",
       "        vertical-align: top;\n",
       "    }\n",
       "\n",
       "    .dataframe thead th {\n",
       "        text-align: right;\n",
       "    }\n",
       "</style>\n",
       "<table border=\"1\" class=\"dataframe\">\n",
       "  <thead>\n",
       "    <tr style=\"text-align: right;\">\n",
       "      <th></th>\n",
       "      <th>0</th>\n",
       "      <th>1</th>\n",
       "      <th>2</th>\n",
       "      <th>3</th>\n",
       "      <th>4</th>\n",
       "      <th>5</th>\n",
       "    </tr>\n",
       "  </thead>\n",
       "  <tbody>\n",
       "    <tr>\n",
       "      <th>0</th>\n",
       "      <td>NaN</td>\n",
       "      <td>Headcount</td>\n",
       "      <td>Headcount</td>\n",
       "      <td>Headcount</td>\n",
       "      <td>Percentage</td>\n",
       "      <td>Percentage</td>\n",
       "    </tr>\n",
       "    <tr>\n",
       "      <th>1</th>\n",
       "      <td>Other entities</td>\n",
       "      <td>Female</td>\n",
       "      <td>Male</td>\n",
       "      <td>Total</td>\n",
       "      <td>Female</td>\n",
       "      <td>Male</td>\n",
       "    </tr>\n",
       "    <tr>\n",
       "      <th>2</th>\n",
       "      <td>Legal Aid Queensland</td>\n",
       "      <td>480</td>\n",
       "      <td>143</td>\n",
       "      <td>623</td>\n",
       "      <td>0.7704654895666132</td>\n",
       "      <td>0.22953451043338685</td>\n",
       "    </tr>\n",
       "    <tr>\n",
       "      <th>3</th>\n",
       "      <td>Office of the Health Ombudsman</td>\n",
       "      <td>100</td>\n",
       "      <td>42</td>\n",
       "      <td>142</td>\n",
       "      <td>0.704225352112676</td>\n",
       "      <td>0.29577464788732394</td>\n",
       "    </tr>\n",
       "    <tr>\n",
       "      <th>4</th>\n",
       "      <td>Queensland Art Gallery</td>\n",
       "      <td>234</td>\n",
       "      <td>131</td>\n",
       "      <td>365</td>\n",
       "      <td>0.6410958904109589</td>\n",
       "      <td>0.3589041095890411</td>\n",
       "    </tr>\n",
       "  </tbody>\n",
       "</table>\n",
       "</div>"
      ],
      "text/plain": [
       "                                0          1          2          3  \\\n",
       "0                             NaN  Headcount  Headcount  Headcount   \n",
       "1                  Other entities     Female       Male      Total   \n",
       "2            Legal Aid Queensland        480        143        623   \n",
       "3  Office of the Health Ombudsman        100         42        142   \n",
       "4          Queensland Art Gallery        234        131        365   \n",
       "\n",
       "                    4                    5  \n",
       "0          Percentage           Percentage  \n",
       "1              Female                 Male  \n",
       "2  0.7704654895666132  0.22953451043338685  \n",
       "3   0.704225352112676  0.29577464788732394  \n",
       "4  0.6410958904109589   0.3589041095890411  "
      ]
     },
     "execution_count": 27,
     "metadata": {},
     "output_type": "execute_result"
    }
   ],
   "source": [
    "df.head()"
   ]
  },
  {
   "cell_type": "code",
   "execution_count": 28,
   "metadata": {
    "pycharm": {
     "name": "#%%\n"
    }
   },
   "outputs": [
    {
     "name": "stdout",
     "output_type": "stream",
     "text": [
      "Merged row:                 0                 1               2                3  \\\n",
      "0  Other entities  Headcount_Female  Headcount_Male  Headcount_Total   \n",
      "\n",
      "                   4                5  \n",
      "0  Percentage_Female  Percentage_Male  \n"
     ]
    }
   ],
   "source": [
    "# Define a function to concatenate the non-null values\n",
    "def concat_non_null(x):\n",
    "    return '_'.join([str(val) for val in x.values if not pd.isnull(val)])\n",
    "\n",
    "# Merge the rows of the dataframe by concatenating the non-null values\n",
    "merged_row = df.iloc[:2].apply(concat_non_null).to_frame().T\n",
    "\n",
    "print(f\"Merged row: {merged_row}\")"
   ]
  },
  {
   "cell_type": "code",
   "execution_count": 29,
   "metadata": {
    "pycharm": {
     "name": "#%%\n"
    }
   },
   "outputs": [],
   "source": [
    "# Drop the rows up to row_index_last_null in the dataframe\n",
    "df = df.drop(index=range(0,row_index_last_null+1))\n",
    "\n",
    "# Reset the dataframe's row index\n",
    "df = df.reset_index(drop=True)"
   ]
  },
  {
   "cell_type": "code",
   "execution_count": 30,
   "metadata": {
    "pycharm": {
     "name": "#%%\n"
    }
   },
   "outputs": [
    {
     "data": {
      "text/html": [
       "<div>\n",
       "<style scoped>\n",
       "    .dataframe tbody tr th:only-of-type {\n",
       "        vertical-align: middle;\n",
       "    }\n",
       "\n",
       "    .dataframe tbody tr th {\n",
       "        vertical-align: top;\n",
       "    }\n",
       "\n",
       "    .dataframe thead th {\n",
       "        text-align: right;\n",
       "    }\n",
       "</style>\n",
       "<table border=\"1\" class=\"dataframe\">\n",
       "  <thead>\n",
       "    <tr style=\"text-align: right;\">\n",
       "      <th></th>\n",
       "      <th>0</th>\n",
       "      <th>1</th>\n",
       "      <th>2</th>\n",
       "      <th>3</th>\n",
       "      <th>4</th>\n",
       "      <th>5</th>\n",
       "    </tr>\n",
       "  </thead>\n",
       "  <tbody>\n",
       "    <tr>\n",
       "      <th>0</th>\n",
       "      <td>Legal Aid Queensland</td>\n",
       "      <td>480</td>\n",
       "      <td>143</td>\n",
       "      <td>623</td>\n",
       "      <td>0.7704654895666132</td>\n",
       "      <td>0.22953451043338685</td>\n",
       "    </tr>\n",
       "    <tr>\n",
       "      <th>1</th>\n",
       "      <td>Office of the Health Ombudsman</td>\n",
       "      <td>100</td>\n",
       "      <td>42</td>\n",
       "      <td>142</td>\n",
       "      <td>0.704225352112676</td>\n",
       "      <td>0.29577464788732394</td>\n",
       "    </tr>\n",
       "    <tr>\n",
       "      <th>2</th>\n",
       "      <td>Queensland Art Gallery</td>\n",
       "      <td>234</td>\n",
       "      <td>131</td>\n",
       "      <td>365</td>\n",
       "      <td>0.6410958904109589</td>\n",
       "      <td>0.3589041095890411</td>\n",
       "    </tr>\n",
       "    <tr>\n",
       "      <th>3</th>\n",
       "      <td>Queensland Family and Child Commission</td>\n",
       "      <td>56</td>\n",
       "      <td>17</td>\n",
       "      <td>73</td>\n",
       "      <td>0.7671232876712328</td>\n",
       "      <td>0.2328767123287671</td>\n",
       "    </tr>\n",
       "    <tr>\n",
       "      <th>4</th>\n",
       "      <td>Queensland Human Rights Commission</td>\n",
       "      <td>35</td>\n",
       "      <td>9</td>\n",
       "      <td>44</td>\n",
       "      <td>0.7954545454545454</td>\n",
       "      <td>0.20454545454545456</td>\n",
       "    </tr>\n",
       "  </tbody>\n",
       "</table>\n",
       "</div>"
      ],
      "text/plain": [
       "                                        0    1    2    3                   4  \\\n",
       "0                    Legal Aid Queensland  480  143  623  0.7704654895666132   \n",
       "1          Office of the Health Ombudsman  100   42  142   0.704225352112676   \n",
       "2                  Queensland Art Gallery  234  131  365  0.6410958904109589   \n",
       "3  Queensland Family and Child Commission   56   17   73  0.7671232876712328   \n",
       "4      Queensland Human Rights Commission   35    9   44  0.7954545454545454   \n",
       "\n",
       "                     5  \n",
       "0  0.22953451043338685  \n",
       "1  0.29577464788732394  \n",
       "2   0.3589041095890411  \n",
       "3   0.2328767123287671  \n",
       "4  0.20454545454545456  "
      ]
     },
     "execution_count": 30,
     "metadata": {},
     "output_type": "execute_result"
    }
   ],
   "source": [
    "df.head()"
   ]
  },
  {
   "cell_type": "code",
   "execution_count": 31,
   "metadata": {
    "pycharm": {
     "name": "#%%\n"
    }
   },
   "outputs": [],
   "source": [
    "# Set the merged_row as the dataframe's column index\n",
    "df.columns = merged_row.iloc[0]"
   ]
  },
  {
   "cell_type": "code",
   "execution_count": 32,
   "metadata": {
    "pycharm": {
     "name": "#%%\n"
    }
   },
   "outputs": [
    {
     "data": {
      "text/html": [
       "<div>\n",
       "<style scoped>\n",
       "    .dataframe tbody tr th:only-of-type {\n",
       "        vertical-align: middle;\n",
       "    }\n",
       "\n",
       "    .dataframe tbody tr th {\n",
       "        vertical-align: top;\n",
       "    }\n",
       "\n",
       "    .dataframe thead th {\n",
       "        text-align: right;\n",
       "    }\n",
       "</style>\n",
       "<table border=\"1\" class=\"dataframe\">\n",
       "  <thead>\n",
       "    <tr style=\"text-align: right;\">\n",
       "      <th></th>\n",
       "      <th>Other entities</th>\n",
       "      <th>Headcount_Female</th>\n",
       "      <th>Headcount_Male</th>\n",
       "      <th>Headcount_Total</th>\n",
       "      <th>Percentage_Female</th>\n",
       "      <th>Percentage_Male</th>\n",
       "    </tr>\n",
       "  </thead>\n",
       "  <tbody>\n",
       "    <tr>\n",
       "      <th>0</th>\n",
       "      <td>Legal Aid Queensland</td>\n",
       "      <td>480</td>\n",
       "      <td>143</td>\n",
       "      <td>623</td>\n",
       "      <td>0.7704654895666132</td>\n",
       "      <td>0.22953451043338685</td>\n",
       "    </tr>\n",
       "    <tr>\n",
       "      <th>1</th>\n",
       "      <td>Office of the Health Ombudsman</td>\n",
       "      <td>100</td>\n",
       "      <td>42</td>\n",
       "      <td>142</td>\n",
       "      <td>0.704225352112676</td>\n",
       "      <td>0.29577464788732394</td>\n",
       "    </tr>\n",
       "    <tr>\n",
       "      <th>2</th>\n",
       "      <td>Queensland Art Gallery</td>\n",
       "      <td>234</td>\n",
       "      <td>131</td>\n",
       "      <td>365</td>\n",
       "      <td>0.6410958904109589</td>\n",
       "      <td>0.3589041095890411</td>\n",
       "    </tr>\n",
       "    <tr>\n",
       "      <th>3</th>\n",
       "      <td>Queensland Family and Child Commission</td>\n",
       "      <td>56</td>\n",
       "      <td>17</td>\n",
       "      <td>73</td>\n",
       "      <td>0.7671232876712328</td>\n",
       "      <td>0.2328767123287671</td>\n",
       "    </tr>\n",
       "    <tr>\n",
       "      <th>4</th>\n",
       "      <td>Queensland Human Rights Commission</td>\n",
       "      <td>35</td>\n",
       "      <td>9</td>\n",
       "      <td>44</td>\n",
       "      <td>0.7954545454545454</td>\n",
       "      <td>0.20454545454545456</td>\n",
       "    </tr>\n",
       "    <tr>\n",
       "      <th>5</th>\n",
       "      <td>Queensland Museum</td>\n",
       "      <td>219</td>\n",
       "      <td>110</td>\n",
       "      <td>329</td>\n",
       "      <td>0.6656534954407295</td>\n",
       "      <td>0.3343465045592705</td>\n",
       "    </tr>\n",
       "    <tr>\n",
       "      <th>6</th>\n",
       "      <td>Resources Safety and Health Queensland</td>\n",
       "      <td>120</td>\n",
       "      <td>176</td>\n",
       "      <td>296</td>\n",
       "      <td>0.40540540540540543</td>\n",
       "      <td>0.5945945945945946</td>\n",
       "    </tr>\n",
       "    <tr>\n",
       "      <th>7</th>\n",
       "      <td>State Library of Queensland</td>\n",
       "      <td>255</td>\n",
       "      <td>98</td>\n",
       "      <td>353</td>\n",
       "      <td>0.7223796033994334</td>\n",
       "      <td>0.2776203966005666</td>\n",
       "    </tr>\n",
       "    <tr>\n",
       "      <th>8</th>\n",
       "      <td>Trade and Investment Queensland</td>\n",
       "      <td>83</td>\n",
       "      <td>52</td>\n",
       "      <td>135</td>\n",
       "      <td>0.6148148148148148</td>\n",
       "      <td>0.3851851851851852</td>\n",
       "    </tr>\n",
       "    <tr>\n",
       "      <th>9</th>\n",
       "      <td>Sector sub-total: Other entities</td>\n",
       "      <td>1582</td>\n",
       "      <td>778</td>\n",
       "      <td>2360</td>\n",
       "      <td>0.6703389830508475</td>\n",
       "      <td>0.32966101694915256</td>\n",
       "    </tr>\n",
       "    <tr>\n",
       "      <th>10</th>\n",
       "      <td>Sector total</td>\n",
       "      <td>194358</td>\n",
       "      <td>85689</td>\n",
       "      <td>280047</td>\n",
       "      <td>0.6940192182026589</td>\n",
       "      <td>0.3059807817973412</td>\n",
       "    </tr>\n",
       "  </tbody>\n",
       "</table>\n",
       "</div>"
      ],
      "text/plain": [
       "0                           Other entities Headcount_Female Headcount_Male  \\\n",
       "0                     Legal Aid Queensland              480            143   \n",
       "1           Office of the Health Ombudsman              100             42   \n",
       "2                   Queensland Art Gallery              234            131   \n",
       "3   Queensland Family and Child Commission               56             17   \n",
       "4       Queensland Human Rights Commission               35              9   \n",
       "5                        Queensland Museum              219            110   \n",
       "6   Resources Safety and Health Queensland              120            176   \n",
       "7              State Library of Queensland              255             98   \n",
       "8          Trade and Investment Queensland               83             52   \n",
       "9         Sector sub-total: Other entities             1582            778   \n",
       "10                            Sector total           194358          85689   \n",
       "\n",
       "0  Headcount_Total    Percentage_Female      Percentage_Male  \n",
       "0              623   0.7704654895666132  0.22953451043338685  \n",
       "1              142    0.704225352112676  0.29577464788732394  \n",
       "2              365   0.6410958904109589   0.3589041095890411  \n",
       "3               73   0.7671232876712328   0.2328767123287671  \n",
       "4               44   0.7954545454545454  0.20454545454545456  \n",
       "5              329   0.6656534954407295   0.3343465045592705  \n",
       "6              296  0.40540540540540543   0.5945945945945946  \n",
       "7              353   0.7223796033994334   0.2776203966005666  \n",
       "8              135   0.6148148148148148   0.3851851851851852  \n",
       "9             2360   0.6703389830508475  0.32966101694915256  \n",
       "10          280047   0.6940192182026589   0.3059807817973412  "
      ]
     },
     "execution_count": 32,
     "metadata": {},
     "output_type": "execute_result"
    }
   ],
   "source": [
    "df"
   ]
  }
 ],
 "metadata": {
  "kernelspec": {
   "display_name": "Kedro (data_processing_pipeline)",
   "language": "python",
   "name": "kedro_data_processing_pipeline"
  },
  "language_info": {
   "codemirror_mode": {
    "name": "ipython",
    "version": 3
   },
   "file_extension": ".py",
   "mimetype": "text/x-python",
   "name": "python",
   "nbconvert_exporter": "python",
   "pygments_lexer": "ipython3",
   "version": "3.9.16"
  }
 },
 "nbformat": 4,
 "nbformat_minor": 1
}