{
 "cells": [
  {
   "cell_type": "code",
   "execution_count": null,
   "outputs": [],
   "source": [
    "catalog.list()"
   ],
   "metadata": {
    "collapsed": false,
    "pycharm": {
     "name": "#%%\n"
    }
   }
  },
  {
   "cell_type": "code",
   "execution_count": 26,
   "outputs": [
    {
     "name": "stdout",
     "output_type": "stream",
     "text": [
      "2023-05-23 21:13:10,776 - kedro.io.data_catalog - INFO - Loading data from 'processed_p18_19_5' (CSVDataSet)...\n"
     ]
    }
   ],
   "source": [
    "df = catalog.load('processed_p18_19_5')\n"
   ],
   "metadata": {
    "collapsed": false,
    "pycharm": {
     "name": "#%%\n"
    }
   }
  },
  {
   "cell_type": "code",
   "execution_count": 27,
   "outputs": [
    {
     "data": {
      "text/plain": "Index(['other_entities', 'headcount_female', 'headcount_male',\n       'headcount_total', 'percentage_female', 'percentage_male'],\n      dtype='object')"
     },
     "execution_count": 27,
     "metadata": {},
     "output_type": "execute_result"
    }
   ],
   "source": [
    "df.columns"
   ],
   "metadata": {
    "collapsed": false,
    "pycharm": {
     "name": "#%%\n"
    }
   }
  },
  {
   "cell_type": "code",
   "execution_count": null,
   "outputs": [],
   "source": [
    "validator = df"
   ],
   "metadata": {
    "collapsed": false,
    "pycharm": {
     "name": "#%%\n"
    }
   }
  },
  {
   "cell_type": "code",
   "execution_count": null,
   "outputs": [],
   "source": [
    "df.head()"
   ],
   "metadata": {
    "collapsed": false,
    "pycharm": {
     "name": "#%%\n"
    }
   }
  },
  {
   "cell_type": "code",
   "execution_count": null,
   "outputs": [],
   "source": [],
   "metadata": {
    "collapsed": false,
    "pycharm": {
     "name": "#%%\n"
    }
   }
  },
  {
   "cell_type": "code",
   "execution_count": 1,
   "outputs": [
    {
     "name": "stdout",
     "output_type": "stream",
     "text": [
      "2023-05-23 21:04:25,912 - py.warnings - WARNING - C:\\Users\\gdbt0\\anaconda3\\envs\\Data-preparation-pipeline\\lib\\site-packages\\great_expectations\\compatibility\\sqlalchemy.py:20: UserWarning: SQLAlchemy v2.0.0 or later is not yet supported by Great Expectations.\n",
      "  warnings.warn(\n",
      "\n",
      "2023-05-23 21:04:26,346 - py.warnings - WARNING - C:\\Users\\gdbt0\\anaconda3\\envs\\Data-preparation-pipeline\\lib\\site-packages\\great_expectations\\compatibility\\sqlalchemy.py:20: UserWarning: SQLAlchemy v2.0.0 or later is not yet supported by Great Expectations.\n",
      "  warnings.warn(\n",
      "\n",
      "2023-05-23 21:04:27,862 - great_expectations.data_context.data_context.file_data_context - INFO - FileDataContext loading fluent config\n",
      "2023-05-23 21:04:27,865 - great_expectations.datasource.fluent.config - INFO - Loading 'datasources' ->\n",
      "[{'assets': [...],\n",
      "  'boto3_options': {},\n",
      "  'bucket': 'processed-data-7374046',\n",
      "  'name': 'processed_datasource',\n",
      "  'type': 'pandas_s3'}]\n",
      "2023-05-23 21:04:27,900 - great_expectations.data_context.data_context.abstract_data_context - INFO - Loaded 'processed_datasource' from fluent config\n",
      "2023-05-23 21:04:27,901 - great_expectations.datasource.fluent.fluent_base_model - INFO - PandasS3Datasource.dict() - substituting config values\n",
      "2023-05-23 21:04:27,911 - botocore.credentials - INFO - Found credentials in shared credentials file: ~/.aws/credentials\n",
      "2023-05-23 21:04:28,084 - great_expectations.datasource.fluent.pandas_s3_datasource - INFO - S3DataConnector created for 'my_taxi_data_asset'\n",
      "2023-05-23 21:04:28,085 - great_expectations.datasource.fluent.pandas_s3_datasource - INFO - S3DataConnector created for 'processed_data_asset'\n",
      "2023-05-23 21:04:28,087 - great_expectations.data_context.data_context.file_data_context - INFO - Saving 1 Fluent Datasources to C:\\Users\\gdbt0\\Projects\\Data-preparation-pipeline\\data-processing-pipeline\\great_expectations\\great_expectations.yml\n"
     ]
    }
   ],
   "source": [
    "# Import GX and instantiate a Data Context\n",
    "import great_expectations as gx\n",
    "\n",
    "context = gx.get_context()\n"
   ],
   "metadata": {
    "collapsed": false,
    "pycharm": {
     "name": "#%%\n"
    }
   }
  },
  {
   "cell_type": "code",
   "execution_count": 2,
   "outputs": [],
   "source": [
    "# Retrieve the Data Asset\n",
    "datasource_name = \"processed_datasource\"\n",
    "asset = context.get_datasource(datasource_name).get_asset(\"processed_data_asset\")"
   ],
   "metadata": {
    "collapsed": false,
    "pycharm": {
     "name": "#%%\n"
    }
   }
  },
  {
   "cell_type": "code",
   "execution_count": 3,
   "outputs": [],
   "source": [
    "# Build a Batch Request\n",
    "batch_request = asset.build_batch_request()"
   ],
   "metadata": {
    "collapsed": false,
    "pycharm": {
     "name": "#%%\n"
    }
   }
  },
  {
   "cell_type": "code",
   "execution_count": 5,
   "outputs": [],
   "source": [
    "# Create an ExpectationSuite\n",
    "\n",
    "suite = context.add_expectation_suite(expectation_suite_name=\"processed_data_suite\")"
   ],
   "metadata": {
    "collapsed": false,
    "pycharm": {
     "name": "#%%\n"
    }
   }
  },
  {
   "cell_type": "code",
   "execution_count": 18,
   "outputs": [
    {
     "data": {
      "text/plain": "{\"kwargs\": {\"column\": \"other_entities\"}, \"meta\": {}, \"expectation_type\": \"expect_column_values_to_not_be_null\"}"
     },
     "execution_count": 18,
     "metadata": {},
     "output_type": "execute_result"
    }
   ],
   "source": [
    "# Create Expectation Configurations\n",
    "\n",
    "from great_expectations.core.expectation_configuration import ExpectationConfiguration\n",
    "\n",
    "expectation_configuration_1 = ExpectationConfiguration(\n",
    "    expectation_type=\"expect_column_values_to_not_be_null\",\n",
    "    kwargs={\n",
    "        \"column\": \"other_entities\",\n",
    "    },\n",
    ")\n",
    "suite.add_expectation(expectation_configuration=expectation_configuration_1)"
   ],
   "metadata": {
    "collapsed": false,
    "pycharm": {
     "name": "#%%\n"
    }
   }
  },
  {
   "cell_type": "code",
   "execution_count": 19,
   "outputs": [
    {
     "name": "stdout",
     "output_type": "stream",
     "text": [
      "2023-05-23 21:11:33,759 - py.warnings - WARNING - C:\\Users\\gdbt0\\anaconda3\\envs\\Data-preparation-pipeline\\lib\\site-packages\\great_expectations\\data_context\\data_context\\abstract_data_context.py:435: DeprecationWarning: save_expectation_suite is deprecated as of v0.15.48 and will be removed in v0.18. Please use update_expectation_suite or add_or_update_expectation_suite instead.\n",
      "  warnings.warn(\n",
      "\n"
     ]
    },
    {
     "data": {
      "text/plain": "'C:\\\\Users\\\\gdbt0\\\\Projects\\\\Data-preparation-pipeline\\\\data-processing-pipeline\\\\great_expectations\\\\expectations/processed_data_suite.json'"
     },
     "execution_count": 19,
     "metadata": {},
     "output_type": "execute_result"
    }
   ],
   "source": [
    "expectation_suite_name = \"processed_data_suite\"\n",
    "# Save your Expectations for future use\n",
    "context.save_expectation_suite(expectation_suite=suite)"
   ],
   "metadata": {
    "collapsed": false,
    "pycharm": {
     "name": "#%%\n"
    }
   }
  },
  {
   "cell_type": "code",
   "execution_count": 20,
   "outputs": [
    {
     "name": "stdout",
     "output_type": "stream",
     "text": [
      "2023-05-23 21:11:34,361 - great_expectations.datasource.fluent.fluent_base_model - INFO - PandasS3Datasource.dict() - substituting config values\n",
      "2023-05-23 21:11:34,371 - great_expectations.datasource.data_connector.batch_filter - INFO - batch_slice: None was parsed to: slice(0, None, None)\n",
      "2023-05-23 21:11:34,374 - great_expectations.datasource.data_connector.batch_filter - INFO - batch_slice: slice(0, None, None) was parsed to: slice(0, None, None)\n",
      "2023-05-23 21:11:34,375 - great_expectations.datasource.fluent.fluent_base_model - INFO - CSVAsset.dict() - substituting config values\n"
     ]
    },
    {
     "data": {
      "text/plain": "Calculating Metrics:   0%|          | 0/1 [00:00<?, ?it/s]",
      "application/vnd.jupyter.widget-view+json": {
       "version_major": 2,
       "version_minor": 0,
       "model_id": "ae1bdd271b424f1181791b290285b8e9"
      }
     },
     "metadata": {},
     "output_type": "display_data"
    },
    {
     "data": {
      "text/plain": "                           other_entities  headcount_female  headcount_male  \\\n0                    Legal Aid Queensland               480             143   \n1          Office of the Health Ombudsman               100              42   \n2                  Queensland Art Gallery               234             131   \n3  Queensland Family and Child Commission                56              17   \n4      Queensland Human Rights Commission                35               9   \n\n   headcount_total  percentage_female  percentage_male  \n0              623           0.770465         0.229535  \n1              142           0.704225         0.295775  \n2              365           0.641096         0.358904  \n3               73           0.767123         0.232877  \n4               44           0.795455         0.204545  ",
      "text/html": "<div>\n<style scoped>\n    .dataframe tbody tr th:only-of-type {\n        vertical-align: middle;\n    }\n\n    .dataframe tbody tr th {\n        vertical-align: top;\n    }\n\n    .dataframe thead th {\n        text-align: right;\n    }\n</style>\n<table border=\"1\" class=\"dataframe\">\n  <thead>\n    <tr style=\"text-align: right;\">\n      <th></th>\n      <th>other_entities</th>\n      <th>headcount_female</th>\n      <th>headcount_male</th>\n      <th>headcount_total</th>\n      <th>percentage_female</th>\n      <th>percentage_male</th>\n    </tr>\n  </thead>\n  <tbody>\n    <tr>\n      <th>0</th>\n      <td>Legal Aid Queensland</td>\n      <td>480</td>\n      <td>143</td>\n      <td>623</td>\n      <td>0.770465</td>\n      <td>0.229535</td>\n    </tr>\n    <tr>\n      <th>1</th>\n      <td>Office of the Health Ombudsman</td>\n      <td>100</td>\n      <td>42</td>\n      <td>142</td>\n      <td>0.704225</td>\n      <td>0.295775</td>\n    </tr>\n    <tr>\n      <th>2</th>\n      <td>Queensland Art Gallery</td>\n      <td>234</td>\n      <td>131</td>\n      <td>365</td>\n      <td>0.641096</td>\n      <td>0.358904</td>\n    </tr>\n    <tr>\n      <th>3</th>\n      <td>Queensland Family and Child Commission</td>\n      <td>56</td>\n      <td>17</td>\n      <td>73</td>\n      <td>0.767123</td>\n      <td>0.232877</td>\n    </tr>\n    <tr>\n      <th>4</th>\n      <td>Queensland Human Rights Commission</td>\n      <td>35</td>\n      <td>9</td>\n      <td>44</td>\n      <td>0.795455</td>\n      <td>0.204545</td>\n    </tr>\n  </tbody>\n</table>\n</div>"
     },
     "execution_count": 20,
     "metadata": {},
     "output_type": "execute_result"
    }
   ],
   "source": [
    "# Instantiate a Validator\n",
    "validator = context.get_validator(\n",
    "    batch_request=batch_request, expectation_suite_name=expectation_suite_name\n",
    ")\n",
    "validator.head()"
   ],
   "metadata": {
    "collapsed": false,
    "pycharm": {
     "name": "#%%\n"
    }
   }
  },
  {
   "cell_type": "code",
   "execution_count": 21,
   "outputs": [
    {
     "name": "stdout",
     "output_type": "stream",
     "text": [
      "2023-05-23 21:11:35,546 - great_expectations.validator.validator - INFO - \t2 expectation(s) included in expectation_suite.\n",
      "{\n",
      "  \"expectations\": [\n",
      "    {\n",
      "      \"kwargs\": {\n",
      "        \"column\": \"Other entities\"\n",
      "      },\n",
      "      \"meta\": {},\n",
      "      \"expectation_type\": \"expect_column_values_to_not_be_null\"\n",
      "    },\n",
      "    {\n",
      "      \"kwargs\": {\n",
      "        \"column\": \"other_entities\"\n",
      "      },\n",
      "      \"meta\": {},\n",
      "      \"expectation_type\": \"expect_column_values_to_not_be_null\"\n",
      "    }\n",
      "  ],\n",
      "  \"meta\": {\n",
      "    \"great_expectations_version\": \"0.16.13\"\n",
      "  },\n",
      "  \"ge_cloud_id\": null,\n",
      "  \"expectation_suite_name\": \"processed_data_suite\",\n",
      "  \"data_asset_type\": null\n",
      "}\n",
      "2023-05-23 21:11:35,549 - great_expectations.validator.validator - INFO - \t2 expectation(s) included in expectation_suite.\n"
     ]
    }
   ],
   "source": [
    "from great_expectations.checkpoint.checkpoint import SimpleCheckpoint\n",
    "\n",
    "# Review and save our Expectation Suite\n",
    "print(validator.get_expectation_suite(discard_failed_expectations=True))\n",
    "\n",
    "validator.save_expectation_suite(discard_failed_expectations=True)\n",
    "\n",
    "# Set up and run a Simple Checkpoint for ad hoc validation of our data\n",
    "checkpoint_config = {\n",
    "    \"class_name\": \"SimpleCheckpoint\",\n",
    "    \"validations\": [\n",
    "        {\n",
    "            \"batch_request\": batch_request,\n",
    "            \"expectation_suite_name\": expectation_suite_name,\n",
    "        }\n",
    "    ],\n",
    "}"
   ],
   "metadata": {
    "collapsed": false,
    "pycharm": {
     "name": "#%%\n"
    }
   }
  },
  {
   "cell_type": "code",
   "execution_count": 23,
   "outputs": [
    {
     "name": "stdout",
     "output_type": "stream",
     "text": [
      "2023-05-23 21:12:08,585 - great_expectations.datasource.fluent.fluent_base_model - INFO - PandasS3Datasource.dict() - substituting config values\n",
      "2023-05-23 21:12:08,587 - great_expectations.datasource.data_connector.batch_filter - INFO - batch_slice: None was parsed to: slice(0, None, None)\n",
      "2023-05-23 21:12:08,588 - great_expectations.datasource.data_connector.batch_filter - INFO - batch_slice: slice(0, None, None) was parsed to: slice(0, None, None)\n",
      "2023-05-23 21:12:08,589 - great_expectations.datasource.fluent.fluent_base_model - INFO - CSVAsset.dict() - substituting config values\n",
      "2023-05-23 21:12:08,926 - great_expectations.validator.validator - INFO - \t1 expectation(s) included in expectation_suite.\n"
     ]
    },
    {
     "data": {
      "text/plain": "Calculating Metrics:   0%|          | 0/8 [00:00<?, ?it/s]",
      "application/vnd.jupyter.widget-view+json": {
       "version_major": 2,
       "version_minor": 0,
       "model_id": "6e90eb1715f14da8b5f94b506820ceb5"
      }
     },
     "metadata": {},
     "output_type": "display_data"
    },
    {
     "data": {
      "text/plain": "{'local_site': 'file://C:\\\\Users\\\\gdbt0\\\\Projects\\\\Data-preparation-pipeline\\\\data-processing-pipeline\\\\great_expectations\\\\uncommitted/data_docs/local_site/index.html'}"
     },
     "execution_count": 23,
     "metadata": {},
     "output_type": "execute_result"
    }
   ],
   "source": [
    "checkpoint_name = \"processed_data_checkpoint\"\n",
    "checkpoint = gx.checkpoint.SimpleCheckpoint(\n",
    "    name = checkpoint_name,\n",
    "    data_context = context,\n",
    "    **checkpoint_config,\n",
    ")\n",
    "checkpoint_result = checkpoint.run()\n",
    "\n",
    "# Build Data Docs\n",
    "context.build_data_docs()"
   ],
   "metadata": {
    "collapsed": false,
    "pycharm": {
     "name": "#%%\n"
    }
   }
  },
  {
   "cell_type": "code",
   "execution_count": 24,
   "outputs": [
    {
     "name": "stdout",
     "output_type": "stream",
     "text": [
      "2023-05-23 21:12:11,103 - py.warnings - WARNING - C:\\Users\\gdbt0\\anaconda3\\envs\\Data-preparation-pipeline\\lib\\site-packages\\great_expectations\\data_context\\data_context\\abstract_data_context.py:1895: DeprecationWarning: A Checkpoint named processed_data_checkpoint already exists.; using add_checkpoint to overwrite an existing value is deprecated as of v0.15.50 and will be removed in v0.18. Please use add_or_update_checkpoint instead.\n",
      "  warnings.warn(\n",
      "\n"
     ]
    }
   ],
   "source": [
    "# add (save) the checkpoint to the data context\n",
    "context.add_checkpoint(checkpoint=checkpoint)\n",
    "cp = context.get_checkpoint(name=checkpoint_name)\n",
    "assert cp.name == checkpoint_name"
   ],
   "metadata": {
    "collapsed": false,
    "pycharm": {
     "name": "#%%\n"
    }
   }
  },
  {
   "cell_type": "code",
   "execution_count": 25,
   "outputs": [],
   "source": [
    "# Get the only validation_result_identifier from our SimpleCheckpoint run, and open Data Docs to that page\n",
    "validation_result_identifier = checkpoint_result.list_validation_result_identifiers()[0]\n",
    "context.open_data_docs(resource_identifier=validation_result_identifier)"
   ],
   "metadata": {
    "collapsed": false,
    "pycharm": {
     "name": "#%%\n"
    }
   }
  },
  {
   "cell_type": "code",
   "execution_count": null,
   "outputs": [],
   "source": [
    "suite.show_expectations_by_expectation_type()"
   ],
   "metadata": {
    "collapsed": false,
    "pycharm": {
     "name": "#%%\n"
    }
   }
  },
  {
   "cell_type": "code",
   "execution_count": null,
   "outputs": [],
   "source": [
    "import sys\n",
    "# context = gx.get_context()\n",
    "result = context.run_checkpoint(\n",
    "    checkpoint_name=checkpoint_name,\n",
    ")\n",
    "\n",
    "if not result[\"success\"]:\n",
    "    print(\"Validation failed!\")\n",
    "    sys.exit(1)\n",
    "\n",
    "print(\"Validation succeeded!\")"
   ],
   "metadata": {
    "collapsed": false,
    "pycharm": {
     "name": "#%%\n"
    }
   }
  },
  {
   "cell_type": "code",
   "execution_count": null,
   "outputs": [],
   "source": [],
   "metadata": {
    "collapsed": false,
    "pycharm": {
     "name": "#%%\n"
    }
   }
  },
  {
   "cell_type": "code",
   "execution_count": null,
   "outputs": [],
   "source": [
    "validator.expect_column_values_to_not_be_null(\"Other entities\")\n",
    "validator.expect_column_values_to_be_between(\"Percentage_Female\", auto=True)"
   ],
   "metadata": {
    "collapsed": false,
    "pycharm": {
     "name": "#%%\n"
    }
   }
  },
  {
   "cell_type": "code",
   "execution_count": null,
   "outputs": [],
   "source": [
    "checkpoint = gx.checkpoint.SimpleCheckpoint(\n",
    "    name=\"my_quickstart_checkpoint\",\n",
    "    data_context=context,\n",
    "    validator=validator,\n",
    ")\n"
   ],
   "metadata": {
    "collapsed": false,
    "pycharm": {
     "name": "#%%\n"
    }
   }
  },
  {
   "cell_type": "code",
   "execution_count": null,
   "outputs": [],
   "source": [
    "checkpoint_result = checkpoint.run()\n"
   ],
   "metadata": {
    "collapsed": false,
    "pycharm": {
     "name": "#%%\n"
    }
   }
  },
  {
   "cell_type": "code",
   "execution_count": null,
   "outputs": [],
   "source": [
    "validation_result_identifier = checkpoint_result.list_validation_result_identifiers()[0]\n",
    "context.open_data_docs(resource_identifier=validation_result_identifier)\n"
   ],
   "metadata": {
    "collapsed": false,
    "pycharm": {
     "name": "#%%\n"
    }
   }
  },
  {
   "cell_type": "code",
   "execution_count": null,
   "outputs": [],
   "source": [
    "context.build_data_docs()\n",
    "context.open_data_docs()\n",
    "\n"
   ],
   "metadata": {
    "collapsed": false,
    "pycharm": {
     "name": "#%%\n"
    }
   }
  }
 ],
 "metadata": {
  "kernelspec": {
   "name": "kedro_data_processing_pipeline",
   "language": "python",
   "display_name": "Kedro (data_processing_pipeline)"
  },
  "language_info": {
   "codemirror_mode": {
    "name": "ipython",
    "version": 2
   },
   "file_extension": ".py",
   "mimetype": "text/x-python",
   "name": "python",
   "nbconvert_exporter": "python",
   "pygments_lexer": "ipython2",
   "version": "2.7.6"
  }
 },
 "nbformat": 4,
 "nbformat_minor": 0
}