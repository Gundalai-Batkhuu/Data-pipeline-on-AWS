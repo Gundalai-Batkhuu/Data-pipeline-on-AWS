{
 "cells": [
  {
   "cell_type": "code",
   "execution_count": 3,
   "outputs": [
    {
     "name": "stdout",
     "output_type": "stream",
     "text": [
      "2023-05-23 19:02:07,058 - great_expectations.data_context.data_context.file_data_context - INFO - FileDataContext loading fluent config\n",
      "2023-05-23 19:02:07,061 - great_expectations.datasource.fluent.config - INFO - Loading 'datasources' ->\n",
      "[{'assets': [...],\n",
      "  'boto3_options': {},\n",
      "  'bucket': 'processed-data-7374046',\n",
      "  'name': 'processed_datasource',\n",
      "  'type': 'pandas_s3'}]\n",
      "2023-05-23 19:02:07,106 - great_expectations.data_context.data_context.abstract_data_context - INFO - Loaded 'processed_datasource' from fluent config\n",
      "2023-05-23 19:02:07,108 - great_expectations.datasource.fluent.fluent_base_model - INFO - PandasS3Datasource.dict() - substituting config values\n",
      "2023-05-23 19:02:07,119 - botocore.credentials - INFO - Found credentials in shared credentials file: ~/.aws/credentials\n",
      "2023-05-23 19:02:07,278 - great_expectations.datasource.fluent.pandas_s3_datasource - INFO - S3DataConnector created for 'my_taxi_data_asset'\n",
      "2023-05-23 19:02:07,279 - great_expectations.datasource.fluent.pandas_s3_datasource - INFO - S3DataConnector created for 'processed_data_asset'\n",
      "2023-05-23 19:02:07,280 - great_expectations.data_context.data_context.file_data_context - INFO - Saving 1 Fluent Datasources to C:\\Users\\gdbt0\\Projects\\Data-preparation-pipeline\\data-processing-pipeline\\great_expectations\\great_expectations.yml\n"
     ]
    }
   ],
   "source": [
    "# Import GX and instantiate a Data Context\n",
    "import great_expectations as gx\n",
    "\n",
    "context = gx.get_context()"
   ],
   "metadata": {
    "collapsed": false,
    "pycharm": {
     "name": "#%%\n"
    }
   }
  },
  {
   "cell_type": "code",
   "execution_count": 4,
   "outputs": [
    {
     "name": "stdout",
     "output_type": "stream",
     "text": [
      "2023-05-23 19:02:09,366 - great_expectations.datasource.fluent.fluent_base_model - INFO - PandasS3Datasource.dict() - substituting config values\n"
     ]
    },
    {
     "data": {
      "text/plain": "\u001B[31m╭─\u001B[0m\u001B[31m──────────────────────────────\u001B[0m\u001B[31m \u001B[0m\u001B[1;31mTraceback \u001B[0m\u001B[1;2;31m(most recent call last)\u001B[0m\u001B[31m \u001B[0m\u001B[31m───────────────────────────────\u001B[0m\u001B[31m─╮\u001B[0m\n\u001B[31m│\u001B[0m in \u001B[92m<cell line: 6>\u001B[0m:\u001B[94m6\u001B[0m                                                                              \u001B[31m│\u001B[0m\n\u001B[31m│\u001B[0m                                                                                                  \u001B[31m│\u001B[0m\n\u001B[31m│\u001B[0m   \u001B[2m 3 \u001B[0mbucket_name = \u001B[33m\"\u001B[0m\u001B[33mprocessed-data-7374046\u001B[0m\u001B[33m\"\u001B[0m                                                      \u001B[31m│\u001B[0m\n\u001B[31m│\u001B[0m   \u001B[2m 4 \u001B[0mboto3_options = {}                                                                          \u001B[31m│\u001B[0m\n\u001B[31m│\u001B[0m   \u001B[2m 5 \u001B[0m                                                                                            \u001B[31m│\u001B[0m\n\u001B[31m│\u001B[0m \u001B[31m❱ \u001B[0m 6 datasource = context.sources.add_pandas_s3(                                                 \u001B[31m│\u001B[0m\n\u001B[31m│\u001B[0m   \u001B[2m 7 \u001B[0m\u001B[2m│   \u001B[0mname=datasource_name, bucket=bucket_name, boto3_options=boto3_options                   \u001B[31m│\u001B[0m\n\u001B[31m│\u001B[0m   \u001B[2m 8 \u001B[0m)                                                                                           \u001B[31m│\u001B[0m\n\u001B[31m│\u001B[0m   \u001B[2m 9 \u001B[0m                                                                                            \u001B[31m│\u001B[0m\n\u001B[31m│\u001B[0m                                                                                                  \u001B[31m│\u001B[0m\n\u001B[31m│\u001B[0m \u001B[33mC:\\Users\\gdbt0\\anaconda3\\envs\\Data-preparation-pipeline\\lib\\site-packages\\great_expectations\\dat\u001B[0m \u001B[31m│\u001B[0m\n\u001B[31m│\u001B[0m \u001B[33masource\\fluent\\sources.py\u001B[0m:\u001B[94m480\u001B[0m in \u001B[92madd_datasource\u001B[0m                                                  \u001B[31m│\u001B[0m\n\u001B[31m│\u001B[0m                                                                                                  \u001B[31m│\u001B[0m\n\u001B[31m│\u001B[0m \u001B[33mC:\\Users\\gdbt0\\anaconda3\\envs\\Data-preparation-pipeline\\lib\\site-packages\\great_expectations\\dat\u001B[0m \u001B[31m│\u001B[0m\n\u001B[31m│\u001B[0m \u001B[33ma_context\\data_context\\abstract_data_context.py\u001B[0m:\u001B[94m731\u001B[0m in \u001B[92m_add_fluent_datasource\u001B[0m                    \u001B[31m│\u001B[0m\n\u001B[31m╰──────────────────────────────────────────────────────────────────────────────────────────────────╯\u001B[0m\n\u001B[1;91mDataContextError: \u001B[0mCan not write the fluent datasource processed_datasource because a datasource of that name \nalready exists in the data context.\n",
      "text/html": "<pre style=\"white-space:pre;overflow-x:auto;line-height:normal;font-family:Menlo,'DejaVu Sans Mono',consolas,'Courier New',monospace\"><span style=\"color: #800000; text-decoration-color: #800000\">╭─────────────────────────────── </span><span style=\"color: #800000; text-decoration-color: #800000; font-weight: bold\">Traceback </span><span style=\"color: #bf7f7f; text-decoration-color: #bf7f7f; font-weight: bold\">(most recent call last)</span><span style=\"color: #800000; text-decoration-color: #800000\"> ────────────────────────────────╮</span>\n<span style=\"color: #800000; text-decoration-color: #800000\">│</span> in <span style=\"color: #00ff00; text-decoration-color: #00ff00\">&lt;cell line: 6&gt;</span>:<span style=\"color: #0000ff; text-decoration-color: #0000ff\">6</span>                                                                              <span style=\"color: #800000; text-decoration-color: #800000\">│</span>\n<span style=\"color: #800000; text-decoration-color: #800000\">│</span>                                                                                                  <span style=\"color: #800000; text-decoration-color: #800000\">│</span>\n<span style=\"color: #800000; text-decoration-color: #800000\">│</span>   <span style=\"color: #7f7f7f; text-decoration-color: #7f7f7f\"> 3 </span>bucket_name = <span style=\"color: #808000; text-decoration-color: #808000\">\"processed-data-7374046\"</span>                                                      <span style=\"color: #800000; text-decoration-color: #800000\">│</span>\n<span style=\"color: #800000; text-decoration-color: #800000\">│</span>   <span style=\"color: #7f7f7f; text-decoration-color: #7f7f7f\"> 4 </span>boto3_options = {}                                                                          <span style=\"color: #800000; text-decoration-color: #800000\">│</span>\n<span style=\"color: #800000; text-decoration-color: #800000\">│</span>   <span style=\"color: #7f7f7f; text-decoration-color: #7f7f7f\"> 5 </span>                                                                                            <span style=\"color: #800000; text-decoration-color: #800000\">│</span>\n<span style=\"color: #800000; text-decoration-color: #800000\">│</span> <span style=\"color: #800000; text-decoration-color: #800000\">❱ </span> 6 datasource = context.sources.add_pandas_s3(                                                 <span style=\"color: #800000; text-decoration-color: #800000\">│</span>\n<span style=\"color: #800000; text-decoration-color: #800000\">│</span>   <span style=\"color: #7f7f7f; text-decoration-color: #7f7f7f\"> 7 │   </span>name=datasource_name, bucket=bucket_name, boto3_options=boto3_options                   <span style=\"color: #800000; text-decoration-color: #800000\">│</span>\n<span style=\"color: #800000; text-decoration-color: #800000\">│</span>   <span style=\"color: #7f7f7f; text-decoration-color: #7f7f7f\"> 8 </span>)                                                                                           <span style=\"color: #800000; text-decoration-color: #800000\">│</span>\n<span style=\"color: #800000; text-decoration-color: #800000\">│</span>   <span style=\"color: #7f7f7f; text-decoration-color: #7f7f7f\"> 9 </span>                                                                                            <span style=\"color: #800000; text-decoration-color: #800000\">│</span>\n<span style=\"color: #800000; text-decoration-color: #800000\">│</span>                                                                                                  <span style=\"color: #800000; text-decoration-color: #800000\">│</span>\n<span style=\"color: #800000; text-decoration-color: #800000\">│</span> <span style=\"color: #808000; text-decoration-color: #808000\">C:\\Users\\gdbt0\\anaconda3\\envs\\Data-preparation-pipeline\\lib\\site-packages\\great_expectations\\dat</span> <span style=\"color: #800000; text-decoration-color: #800000\">│</span>\n<span style=\"color: #800000; text-decoration-color: #800000\">│</span> <span style=\"color: #808000; text-decoration-color: #808000\">asource\\fluent\\sources.py</span>:<span style=\"color: #0000ff; text-decoration-color: #0000ff\">480</span> in <span style=\"color: #00ff00; text-decoration-color: #00ff00\">add_datasource</span>                                                  <span style=\"color: #800000; text-decoration-color: #800000\">│</span>\n<span style=\"color: #800000; text-decoration-color: #800000\">│</span>                                                                                                  <span style=\"color: #800000; text-decoration-color: #800000\">│</span>\n<span style=\"color: #800000; text-decoration-color: #800000\">│</span> <span style=\"color: #808000; text-decoration-color: #808000\">C:\\Users\\gdbt0\\anaconda3\\envs\\Data-preparation-pipeline\\lib\\site-packages\\great_expectations\\dat</span> <span style=\"color: #800000; text-decoration-color: #800000\">│</span>\n<span style=\"color: #800000; text-decoration-color: #800000\">│</span> <span style=\"color: #808000; text-decoration-color: #808000\">a_context\\data_context\\abstract_data_context.py</span>:<span style=\"color: #0000ff; text-decoration-color: #0000ff\">731</span> in <span style=\"color: #00ff00; text-decoration-color: #00ff00\">_add_fluent_datasource</span>                    <span style=\"color: #800000; text-decoration-color: #800000\">│</span>\n<span style=\"color: #800000; text-decoration-color: #800000\">╰──────────────────────────────────────────────────────────────────────────────────────────────────╯</span>\n<span style=\"color: #ff0000; text-decoration-color: #ff0000; font-weight: bold\">DataContextError: </span>Can not write the fluent datasource processed_datasource because a datasource of that name \nalready exists in the data context.\n</pre>\n"
     },
     "metadata": {},
     "output_type": "display_data"
    }
   ],
   "source": [
    "# Create a Datasource\n",
    "datasource_name = \"processed_datasource\"\n",
    "bucket_name = \"processed-data-7374046\"\n",
    "boto3_options = {}\n",
    "\n",
    "datasource = context.sources.add_pandas_s3(\n",
    "    name=datasource_name, bucket=bucket_name, boto3_options=boto3_options\n",
    ")"
   ],
   "metadata": {
    "collapsed": false,
    "pycharm": {
     "name": "#%%\n"
    }
   }
  },
  {
   "cell_type": "code",
   "execution_count": 23,
   "outputs": [
    {
     "data": {
      "text/plain": "\u001B[31m╭─\u001B[0m\u001B[31m──────────────────────────────\u001B[0m\u001B[31m \u001B[0m\u001B[1;31mTraceback \u001B[0m\u001B[1;2;31m(most recent call last)\u001B[0m\u001B[31m \u001B[0m\u001B[31m───────────────────────────────\u001B[0m\u001B[31m─╮\u001B[0m\n\u001B[31m│\u001B[0m in \u001B[92m<cell line: 4>\u001B[0m:\u001B[94m4\u001B[0m                                                                              \u001B[31m│\u001B[0m\n\u001B[31m│\u001B[0m                                                                                                  \u001B[31m│\u001B[0m\n\u001B[31m│\u001B[0m   \u001B[2m1 \u001B[0mdata_asset_name = \u001B[33m\"\u001B[0m\u001B[33mprocessed_data_asset\u001B[0m\u001B[33m\"\u001B[0m                                                     \u001B[31m│\u001B[0m\n\u001B[31m│\u001B[0m   \u001B[2m2 \u001B[0m\u001B[2m# Add S3 processed data to the Datasource as a Data Asset\u001B[0m                                    \u001B[31m│\u001B[0m\n\u001B[31m│\u001B[0m   \u001B[2m3 \u001B[0ms3_prefix = \u001B[33m\"\u001B[0m\u001B[33m03_processed/\u001B[0m\u001B[33m\"\u001B[0m                                                                  \u001B[31m│\u001B[0m\n\u001B[31m│\u001B[0m \u001B[31m❱ \u001B[0m4 data_asset = datasource.add_csv_asset(                                                       \u001B[31m│\u001B[0m\n\u001B[31m│\u001B[0m   \u001B[2m5 \u001B[0m\u001B[2m│   \u001B[0mname=data_asset_name, s3_prefix=s3_prefix                                                \u001B[31m│\u001B[0m\n\u001B[31m│\u001B[0m   \u001B[2m6 \u001B[0m)                                                                                            \u001B[31m│\u001B[0m\n\u001B[31m│\u001B[0m   \u001B[2m7 \u001B[0m                                                                                             \u001B[31m│\u001B[0m\n\u001B[31m╰──────────────────────────────────────────────────────────────────────────────────────────────────╯\u001B[0m\n\u001B[1;91mNameError: \u001B[0mname \u001B[32m'datasource'\u001B[0m is not defined\n",
      "text/html": "<pre style=\"white-space:pre;overflow-x:auto;line-height:normal;font-family:Menlo,'DejaVu Sans Mono',consolas,'Courier New',monospace\"><span style=\"color: #800000; text-decoration-color: #800000\">╭─────────────────────────────── </span><span style=\"color: #800000; text-decoration-color: #800000; font-weight: bold\">Traceback </span><span style=\"color: #bf7f7f; text-decoration-color: #bf7f7f; font-weight: bold\">(most recent call last)</span><span style=\"color: #800000; text-decoration-color: #800000\"> ────────────────────────────────╮</span>\n<span style=\"color: #800000; text-decoration-color: #800000\">│</span> in <span style=\"color: #00ff00; text-decoration-color: #00ff00\">&lt;cell line: 4&gt;</span>:<span style=\"color: #0000ff; text-decoration-color: #0000ff\">4</span>                                                                              <span style=\"color: #800000; text-decoration-color: #800000\">│</span>\n<span style=\"color: #800000; text-decoration-color: #800000\">│</span>                                                                                                  <span style=\"color: #800000; text-decoration-color: #800000\">│</span>\n<span style=\"color: #800000; text-decoration-color: #800000\">│</span>   <span style=\"color: #7f7f7f; text-decoration-color: #7f7f7f\">1 </span>data_asset_name = <span style=\"color: #808000; text-decoration-color: #808000\">\"processed_data_asset\"</span>                                                     <span style=\"color: #800000; text-decoration-color: #800000\">│</span>\n<span style=\"color: #800000; text-decoration-color: #800000\">│</span>   <span style=\"color: #7f7f7f; text-decoration-color: #7f7f7f\">2 # Add S3 processed data to the Datasource as a Data Asset</span>                                    <span style=\"color: #800000; text-decoration-color: #800000\">│</span>\n<span style=\"color: #800000; text-decoration-color: #800000\">│</span>   <span style=\"color: #7f7f7f; text-decoration-color: #7f7f7f\">3 </span>s3_prefix = <span style=\"color: #808000; text-decoration-color: #808000\">\"03_processed/\"</span>                                                                  <span style=\"color: #800000; text-decoration-color: #800000\">│</span>\n<span style=\"color: #800000; text-decoration-color: #800000\">│</span> <span style=\"color: #800000; text-decoration-color: #800000\">❱ </span>4 data_asset = datasource.add_csv_asset(                                                       <span style=\"color: #800000; text-decoration-color: #800000\">│</span>\n<span style=\"color: #800000; text-decoration-color: #800000\">│</span>   <span style=\"color: #7f7f7f; text-decoration-color: #7f7f7f\">5 │   </span>name=data_asset_name, s3_prefix=s3_prefix                                                <span style=\"color: #800000; text-decoration-color: #800000\">│</span>\n<span style=\"color: #800000; text-decoration-color: #800000\">│</span>   <span style=\"color: #7f7f7f; text-decoration-color: #7f7f7f\">6 </span>)                                                                                            <span style=\"color: #800000; text-decoration-color: #800000\">│</span>\n<span style=\"color: #800000; text-decoration-color: #800000\">│</span>   <span style=\"color: #7f7f7f; text-decoration-color: #7f7f7f\">7 </span>                                                                                             <span style=\"color: #800000; text-decoration-color: #800000\">│</span>\n<span style=\"color: #800000; text-decoration-color: #800000\">╰──────────────────────────────────────────────────────────────────────────────────────────────────╯</span>\n<span style=\"color: #ff0000; text-decoration-color: #ff0000; font-weight: bold\">NameError: </span>name <span style=\"color: #008000; text-decoration-color: #008000\">'datasource'</span> is not defined\n</pre>\n"
     },
     "metadata": {},
     "output_type": "display_data"
    }
   ],
   "source": [
    "data_asset_name = \"processed_data_asset\"\n",
    "# Add S3 processed data to the Datasource as a Data Asset\n",
    "s3_prefix = \"03_processed/\"\n",
    "data_asset = datasource.add_csv_asset(\n",
    "    name=data_asset_name, s3_prefix=s3_prefix\n",
    ")"
   ],
   "metadata": {
    "collapsed": false,
    "pycharm": {
     "name": "#%%\n"
    }
   }
  },
  {
   "cell_type": "code",
   "execution_count": 6,
   "outputs": [],
   "source": [
    "# Retrieve the Data Asset\n",
    "asset = context.get_datasource(datasource_name).get_asset(\"processed_data_asset\")"
   ],
   "metadata": {
    "collapsed": false,
    "pycharm": {
     "name": "#%%\n"
    }
   }
  },
  {
   "cell_type": "code",
   "execution_count": 7,
   "outputs": [],
   "source": [
    "# Build a Batch Request\n",
    "batch_request = asset.build_batch_request()\n"
   ],
   "metadata": {
    "collapsed": false,
    "pycharm": {
     "name": "#%%\n"
    }
   }
  },
  {
   "cell_type": "code",
   "execution_count": 8,
   "outputs": [
    {
     "name": "stdout",
     "output_type": "stream",
     "text": [
      "2023-05-23 19:02:13,495 - great_expectations.datasource.fluent.fluent_base_model - INFO - PandasS3Datasource.dict() - substituting config values\n",
      "2023-05-23 19:02:13,874 - great_expectations.datasource.data_connector.batch_filter - INFO - batch_slice: None was parsed to: slice(0, None, None)\n",
      "2023-05-23 19:02:13,876 - great_expectations.datasource.data_connector.batch_filter - INFO - batch_slice: slice(0, None, None) was parsed to: slice(0, None, None)\n",
      "2023-05-23 19:02:13,877 - great_expectations.datasource.fluent.fluent_base_model - INFO - CSVAsset.dict() - substituting config values\n",
      "{'path': 's3a://processed-data-7374046/03_processed/processed_p18_19_5.csv', 'reader_method': 'read_csv', 'reader_options': {}}\n"
     ]
    }
   ],
   "source": [
    "# Verify that the correct Batches were returned\n",
    "batches = asset.get_batch_list_from_batch_request(batch_request)\n",
    "\n",
    "for batch in batches:\n",
    "    print(batch.batch_spec)\n",
    "\n",
    "# https://docs.greatexpectations.io/docs/guides/expectations/data_assistants/how_to_create_an_expectation_suite_with_the_onboarding_data_assistant\n"
   ],
   "metadata": {
    "collapsed": false,
    "pycharm": {
     "name": "#%%\n"
    }
   }
  },
  {
   "cell_type": "code",
   "execution_count": 9,
   "outputs": [
    {
     "data": {
      "text/plain": "\u001B[31m╭─\u001B[0m\u001B[31m──────────────────────────────\u001B[0m\u001B[31m \u001B[0m\u001B[1;31mTraceback \u001B[0m\u001B[1;2;31m(most recent call last)\u001B[0m\u001B[31m \u001B[0m\u001B[31m───────────────────────────────\u001B[0m\u001B[31m─╮\u001B[0m\n\u001B[31m│\u001B[0m \u001B[33mC:\\Users\\gdbt0\\anaconda3\\envs\\Data-preparation-pipeline\\lib\\site-packages\\great_expectations\\dat\u001B[0m \u001B[31m│\u001B[0m\n\u001B[31m│\u001B[0m \u001B[33ma_context\\store\\expectations_store.py\u001B[0m:\u001B[94m191\u001B[0m in \u001B[92madd\u001B[0m                                                 \u001B[31m│\u001B[0m\n\u001B[31m│\u001B[0m                                                                                                  \u001B[31m│\u001B[0m\n\u001B[31m│\u001B[0m \u001B[33mC:\\Users\\gdbt0\\anaconda3\\envs\\Data-preparation-pipeline\\lib\\site-packages\\great_expectations\\dat\u001B[0m \u001B[31m│\u001B[0m\n\u001B[31m│\u001B[0m \u001B[33ma_context\\store\\store.py\u001B[0m:\u001B[94m209\u001B[0m in \u001B[92madd\u001B[0m                                                              \u001B[31m│\u001B[0m\n\u001B[31m│\u001B[0m                                                                                                  \u001B[31m│\u001B[0m\n\u001B[31m│\u001B[0m \u001B[33mC:\\Users\\gdbt0\\anaconda3\\envs\\Data-preparation-pipeline\\lib\\site-packages\\great_expectations\\dat\u001B[0m \u001B[31m│\u001B[0m\n\u001B[31m│\u001B[0m \u001B[33ma_context\\store\\_store_backend.py\u001B[0m:\u001B[94m139\u001B[0m in \u001B[92madd\u001B[0m                                                     \u001B[31m│\u001B[0m\n\u001B[31m╰──────────────────────────────────────────────────────────────────────────────────────────────────╯\u001B[0m\n\u001B[1;91mStoreBackendError: \u001B[0mStore already has the following key: \u001B[1m(\u001B[0m\u001B[32m'processed_data_suite'\u001B[0m,\u001B[1m)\u001B[0m.\n\n\u001B[3mDuring handling of the above exception, another exception occurred:\u001B[0m\n\n\u001B[31m╭─\u001B[0m\u001B[31m──────────────────────────────\u001B[0m\u001B[31m \u001B[0m\u001B[1;31mTraceback \u001B[0m\u001B[1;2;31m(most recent call last)\u001B[0m\u001B[31m \u001B[0m\u001B[31m───────────────────────────────\u001B[0m\u001B[31m─╮\u001B[0m\n\u001B[31m│\u001B[0m in \u001B[92m<cell line: 3>\u001B[0m:\u001B[94m3\u001B[0m                                                                              \u001B[31m│\u001B[0m\n\u001B[31m│\u001B[0m                                                                                                  \u001B[31m│\u001B[0m\n\u001B[31m│\u001B[0m   \u001B[2m1 \u001B[0m\u001B[2m# Create an ExpectationSuite\u001B[0m                                                                 \u001B[31m│\u001B[0m\n\u001B[31m│\u001B[0m   \u001B[2m2 \u001B[0m                                                                                             \u001B[31m│\u001B[0m\n\u001B[31m│\u001B[0m \u001B[31m❱ \u001B[0m3 suite = context.add_expectation_suite(expectation_suite_name=\u001B[33m\"\u001B[0m\u001B[33mprocessed_data_suite\u001B[0m\u001B[33m\"\u001B[0m)         \u001B[31m│\u001B[0m\n\u001B[31m│\u001B[0m   \u001B[2m4 \u001B[0m                                                                                             \u001B[31m│\u001B[0m\n\u001B[31m│\u001B[0m   \u001B[2m5 \u001B[0m                                                                                             \u001B[31m│\u001B[0m\n\u001B[31m│\u001B[0m                                                                                                  \u001B[31m│\u001B[0m\n\u001B[31m│\u001B[0m \u001B[33mC:\\Users\\gdbt0\\anaconda3\\envs\\Data-preparation-pipeline\\lib\\site-packages\\great_expectations\\dat\u001B[0m \u001B[31m│\u001B[0m\n\u001B[31m│\u001B[0m \u001B[33ma_context\\data_context\\abstract_data_context.py\u001B[0m:\u001B[94m2941\u001B[0m in \u001B[92madd_expectation_suite\u001B[0m                    \u001B[31m│\u001B[0m\n\u001B[31m│\u001B[0m                                                                                                  \u001B[31m│\u001B[0m\n\u001B[31m│\u001B[0m \u001B[33mC:\\Users\\gdbt0\\anaconda3\\envs\\Data-preparation-pipeline\\lib\\site-packages\\great_expectations\\dat\u001B[0m \u001B[31m│\u001B[0m\n\u001B[31m│\u001B[0m \u001B[33ma_context\\data_context\\abstract_data_context.py\u001B[0m:\u001B[94m2988\u001B[0m in \u001B[92m_add_expectation_suite\u001B[0m                   \u001B[31m│\u001B[0m\n\u001B[31m│\u001B[0m                                                                                                  \u001B[31m│\u001B[0m\n\u001B[31m│\u001B[0m \u001B[33mC:\\Users\\gdbt0\\anaconda3\\envs\\Data-preparation-pipeline\\lib\\site-packages\\great_expectations\\dat\u001B[0m \u001B[31m│\u001B[0m\n\u001B[31m│\u001B[0m \u001B[33ma_context\\data_context\\abstract_data_context.py\u001B[0m:\u001B[94m3010\u001B[0m in \u001B[92m_persist_suite_with_store\u001B[0m                \u001B[31m│\u001B[0m\n\u001B[31m│\u001B[0m                                                                                                  \u001B[31m│\u001B[0m\n\u001B[31m│\u001B[0m \u001B[33mC:\\Users\\gdbt0\\anaconda3\\envs\\Data-preparation-pipeline\\lib\\site-packages\\great_expectations\\dat\u001B[0m \u001B[31m│\u001B[0m\n\u001B[31m│\u001B[0m \u001B[33ma_context\\store\\expectations_store.py\u001B[0m:\u001B[94m193\u001B[0m in \u001B[92madd\u001B[0m                                                 \u001B[31m│\u001B[0m\n\u001B[31m╰──────────────────────────────────────────────────────────────────────────────────────────────────╯\u001B[0m\n\u001B[1;91mExpectationSuiteError: \u001B[0mAn ExpectationSuite named processed_data_suite already exists.\n",
      "text/html": "<pre style=\"white-space:pre;overflow-x:auto;line-height:normal;font-family:Menlo,'DejaVu Sans Mono',consolas,'Courier New',monospace\"><span style=\"color: #800000; text-decoration-color: #800000\">╭─────────────────────────────── </span><span style=\"color: #800000; text-decoration-color: #800000; font-weight: bold\">Traceback </span><span style=\"color: #bf7f7f; text-decoration-color: #bf7f7f; font-weight: bold\">(most recent call last)</span><span style=\"color: #800000; text-decoration-color: #800000\"> ────────────────────────────────╮</span>\n<span style=\"color: #800000; text-decoration-color: #800000\">│</span> <span style=\"color: #808000; text-decoration-color: #808000\">C:\\Users\\gdbt0\\anaconda3\\envs\\Data-preparation-pipeline\\lib\\site-packages\\great_expectations\\dat</span> <span style=\"color: #800000; text-decoration-color: #800000\">│</span>\n<span style=\"color: #800000; text-decoration-color: #800000\">│</span> <span style=\"color: #808000; text-decoration-color: #808000\">a_context\\store\\expectations_store.py</span>:<span style=\"color: #0000ff; text-decoration-color: #0000ff\">191</span> in <span style=\"color: #00ff00; text-decoration-color: #00ff00\">add</span>                                                 <span style=\"color: #800000; text-decoration-color: #800000\">│</span>\n<span style=\"color: #800000; text-decoration-color: #800000\">│</span>                                                                                                  <span style=\"color: #800000; text-decoration-color: #800000\">│</span>\n<span style=\"color: #800000; text-decoration-color: #800000\">│</span> <span style=\"color: #808000; text-decoration-color: #808000\">C:\\Users\\gdbt0\\anaconda3\\envs\\Data-preparation-pipeline\\lib\\site-packages\\great_expectations\\dat</span> <span style=\"color: #800000; text-decoration-color: #800000\">│</span>\n<span style=\"color: #800000; text-decoration-color: #800000\">│</span> <span style=\"color: #808000; text-decoration-color: #808000\">a_context\\store\\store.py</span>:<span style=\"color: #0000ff; text-decoration-color: #0000ff\">209</span> in <span style=\"color: #00ff00; text-decoration-color: #00ff00\">add</span>                                                              <span style=\"color: #800000; text-decoration-color: #800000\">│</span>\n<span style=\"color: #800000; text-decoration-color: #800000\">│</span>                                                                                                  <span style=\"color: #800000; text-decoration-color: #800000\">│</span>\n<span style=\"color: #800000; text-decoration-color: #800000\">│</span> <span style=\"color: #808000; text-decoration-color: #808000\">C:\\Users\\gdbt0\\anaconda3\\envs\\Data-preparation-pipeline\\lib\\site-packages\\great_expectations\\dat</span> <span style=\"color: #800000; text-decoration-color: #800000\">│</span>\n<span style=\"color: #800000; text-decoration-color: #800000\">│</span> <span style=\"color: #808000; text-decoration-color: #808000\">a_context\\store\\_store_backend.py</span>:<span style=\"color: #0000ff; text-decoration-color: #0000ff\">139</span> in <span style=\"color: #00ff00; text-decoration-color: #00ff00\">add</span>                                                     <span style=\"color: #800000; text-decoration-color: #800000\">│</span>\n<span style=\"color: #800000; text-decoration-color: #800000\">╰──────────────────────────────────────────────────────────────────────────────────────────────────╯</span>\n<span style=\"color: #ff0000; text-decoration-color: #ff0000; font-weight: bold\">StoreBackendError: </span>Store already has the following key: <span style=\"font-weight: bold\">(</span><span style=\"color: #008000; text-decoration-color: #008000\">'processed_data_suite'</span>,<span style=\"font-weight: bold\">)</span>.\n\n<span style=\"font-style: italic\">During handling of the above exception, another exception occurred:</span>\n\n<span style=\"color: #800000; text-decoration-color: #800000\">╭─────────────────────────────── </span><span style=\"color: #800000; text-decoration-color: #800000; font-weight: bold\">Traceback </span><span style=\"color: #bf7f7f; text-decoration-color: #bf7f7f; font-weight: bold\">(most recent call last)</span><span style=\"color: #800000; text-decoration-color: #800000\"> ────────────────────────────────╮</span>\n<span style=\"color: #800000; text-decoration-color: #800000\">│</span> in <span style=\"color: #00ff00; text-decoration-color: #00ff00\">&lt;cell line: 3&gt;</span>:<span style=\"color: #0000ff; text-decoration-color: #0000ff\">3</span>                                                                              <span style=\"color: #800000; text-decoration-color: #800000\">│</span>\n<span style=\"color: #800000; text-decoration-color: #800000\">│</span>                                                                                                  <span style=\"color: #800000; text-decoration-color: #800000\">│</span>\n<span style=\"color: #800000; text-decoration-color: #800000\">│</span>   <span style=\"color: #7f7f7f; text-decoration-color: #7f7f7f\">1 # Create an ExpectationSuite</span>                                                                 <span style=\"color: #800000; text-decoration-color: #800000\">│</span>\n<span style=\"color: #800000; text-decoration-color: #800000\">│</span>   <span style=\"color: #7f7f7f; text-decoration-color: #7f7f7f\">2 </span>                                                                                             <span style=\"color: #800000; text-decoration-color: #800000\">│</span>\n<span style=\"color: #800000; text-decoration-color: #800000\">│</span> <span style=\"color: #800000; text-decoration-color: #800000\">❱ </span>3 suite = context.add_expectation_suite(expectation_suite_name=<span style=\"color: #808000; text-decoration-color: #808000\">\"processed_data_suite\"</span>)         <span style=\"color: #800000; text-decoration-color: #800000\">│</span>\n<span style=\"color: #800000; text-decoration-color: #800000\">│</span>   <span style=\"color: #7f7f7f; text-decoration-color: #7f7f7f\">4 </span>                                                                                             <span style=\"color: #800000; text-decoration-color: #800000\">│</span>\n<span style=\"color: #800000; text-decoration-color: #800000\">│</span>   <span style=\"color: #7f7f7f; text-decoration-color: #7f7f7f\">5 </span>                                                                                             <span style=\"color: #800000; text-decoration-color: #800000\">│</span>\n<span style=\"color: #800000; text-decoration-color: #800000\">│</span>                                                                                                  <span style=\"color: #800000; text-decoration-color: #800000\">│</span>\n<span style=\"color: #800000; text-decoration-color: #800000\">│</span> <span style=\"color: #808000; text-decoration-color: #808000\">C:\\Users\\gdbt0\\anaconda3\\envs\\Data-preparation-pipeline\\lib\\site-packages\\great_expectations\\dat</span> <span style=\"color: #800000; text-decoration-color: #800000\">│</span>\n<span style=\"color: #800000; text-decoration-color: #800000\">│</span> <span style=\"color: #808000; text-decoration-color: #808000\">a_context\\data_context\\abstract_data_context.py</span>:<span style=\"color: #0000ff; text-decoration-color: #0000ff\">2941</span> in <span style=\"color: #00ff00; text-decoration-color: #00ff00\">add_expectation_suite</span>                    <span style=\"color: #800000; text-decoration-color: #800000\">│</span>\n<span style=\"color: #800000; text-decoration-color: #800000\">│</span>                                                                                                  <span style=\"color: #800000; text-decoration-color: #800000\">│</span>\n<span style=\"color: #800000; text-decoration-color: #800000\">│</span> <span style=\"color: #808000; text-decoration-color: #808000\">C:\\Users\\gdbt0\\anaconda3\\envs\\Data-preparation-pipeline\\lib\\site-packages\\great_expectations\\dat</span> <span style=\"color: #800000; text-decoration-color: #800000\">│</span>\n<span style=\"color: #800000; text-decoration-color: #800000\">│</span> <span style=\"color: #808000; text-decoration-color: #808000\">a_context\\data_context\\abstract_data_context.py</span>:<span style=\"color: #0000ff; text-decoration-color: #0000ff\">2988</span> in <span style=\"color: #00ff00; text-decoration-color: #00ff00\">_add_expectation_suite</span>                   <span style=\"color: #800000; text-decoration-color: #800000\">│</span>\n<span style=\"color: #800000; text-decoration-color: #800000\">│</span>                                                                                                  <span style=\"color: #800000; text-decoration-color: #800000\">│</span>\n<span style=\"color: #800000; text-decoration-color: #800000\">│</span> <span style=\"color: #808000; text-decoration-color: #808000\">C:\\Users\\gdbt0\\anaconda3\\envs\\Data-preparation-pipeline\\lib\\site-packages\\great_expectations\\dat</span> <span style=\"color: #800000; text-decoration-color: #800000\">│</span>\n<span style=\"color: #800000; text-decoration-color: #800000\">│</span> <span style=\"color: #808000; text-decoration-color: #808000\">a_context\\data_context\\abstract_data_context.py</span>:<span style=\"color: #0000ff; text-decoration-color: #0000ff\">3010</span> in <span style=\"color: #00ff00; text-decoration-color: #00ff00\">_persist_suite_with_store</span>                <span style=\"color: #800000; text-decoration-color: #800000\">│</span>\n<span style=\"color: #800000; text-decoration-color: #800000\">│</span>                                                                                                  <span style=\"color: #800000; text-decoration-color: #800000\">│</span>\n<span style=\"color: #800000; text-decoration-color: #800000\">│</span> <span style=\"color: #808000; text-decoration-color: #808000\">C:\\Users\\gdbt0\\anaconda3\\envs\\Data-preparation-pipeline\\lib\\site-packages\\great_expectations\\dat</span> <span style=\"color: #800000; text-decoration-color: #800000\">│</span>\n<span style=\"color: #800000; text-decoration-color: #800000\">│</span> <span style=\"color: #808000; text-decoration-color: #808000\">a_context\\store\\expectations_store.py</span>:<span style=\"color: #0000ff; text-decoration-color: #0000ff\">193</span> in <span style=\"color: #00ff00; text-decoration-color: #00ff00\">add</span>                                                 <span style=\"color: #800000; text-decoration-color: #800000\">│</span>\n<span style=\"color: #800000; text-decoration-color: #800000\">╰──────────────────────────────────────────────────────────────────────────────────────────────────╯</span>\n<span style=\"color: #ff0000; text-decoration-color: #ff0000; font-weight: bold\">ExpectationSuiteError: </span>An ExpectationSuite named processed_data_suite already exists.\n</pre>\n"
     },
     "metadata": {},
     "output_type": "display_data"
    }
   ],
   "source": [
    "# Create an ExpectationSuite\n",
    "\n",
    "suite = context.add_expectation_suite(expectation_suite_name=\"processed_data_suite\")"
   ],
   "metadata": {
    "collapsed": false,
    "pycharm": {
     "name": "#%%\n"
    }
   }
  },
  {
   "cell_type": "code",
   "execution_count": 10,
   "outputs": [
    {
     "data": {
      "text/plain": "\u001B[31m╭─\u001B[0m\u001B[31m──────────────────────────────\u001B[0m\u001B[31m \u001B[0m\u001B[1;31mTraceback \u001B[0m\u001B[1;2;31m(most recent call last)\u001B[0m\u001B[31m \u001B[0m\u001B[31m───────────────────────────────\u001B[0m\u001B[31m─╮\u001B[0m\n\u001B[31m│\u001B[0m in \u001B[92m<cell line: 30>\u001B[0m:\u001B[94m30\u001B[0m                                                                            \u001B[31m│\u001B[0m\n\u001B[31m│\u001B[0m                                                                                                  \u001B[31m│\u001B[0m\n\u001B[31m│\u001B[0m   \u001B[2m27 \u001B[0m\u001B[2m│   \u001B[0m},                                                                                      \u001B[31m│\u001B[0m\n\u001B[31m│\u001B[0m   \u001B[2m28 \u001B[0m)                                                                                           \u001B[31m│\u001B[0m\n\u001B[31m│\u001B[0m   \u001B[2m29 \u001B[0m\u001B[2m# Add the Expectation to the suite\u001B[0m                                                          \u001B[31m│\u001B[0m\n\u001B[31m│\u001B[0m \u001B[31m❱ \u001B[0m30 suite.add_expectation(expectation_configuration=expectation_configuration_1)                \u001B[31m│\u001B[0m\n\u001B[31m│\u001B[0m   \u001B[2m31 \u001B[0m                                                                                            \u001B[31m│\u001B[0m\n\u001B[31m│\u001B[0m   \u001B[2m32 \u001B[0m                                                                                            \u001B[31m│\u001B[0m\n\u001B[31m╰──────────────────────────────────────────────────────────────────────────────────────────────────╯\u001B[0m\n\u001B[1;91mNameError: \u001B[0mname \u001B[32m'suite'\u001B[0m is not defined\n",
      "text/html": "<pre style=\"white-space:pre;overflow-x:auto;line-height:normal;font-family:Menlo,'DejaVu Sans Mono',consolas,'Courier New',monospace\"><span style=\"color: #800000; text-decoration-color: #800000\">╭─────────────────────────────── </span><span style=\"color: #800000; text-decoration-color: #800000; font-weight: bold\">Traceback </span><span style=\"color: #bf7f7f; text-decoration-color: #bf7f7f; font-weight: bold\">(most recent call last)</span><span style=\"color: #800000; text-decoration-color: #800000\"> ────────────────────────────────╮</span>\n<span style=\"color: #800000; text-decoration-color: #800000\">│</span> in <span style=\"color: #00ff00; text-decoration-color: #00ff00\">&lt;cell line: 30&gt;</span>:<span style=\"color: #0000ff; text-decoration-color: #0000ff\">30</span>                                                                            <span style=\"color: #800000; text-decoration-color: #800000\">│</span>\n<span style=\"color: #800000; text-decoration-color: #800000\">│</span>                                                                                                  <span style=\"color: #800000; text-decoration-color: #800000\">│</span>\n<span style=\"color: #800000; text-decoration-color: #800000\">│</span>   <span style=\"color: #7f7f7f; text-decoration-color: #7f7f7f\">27 │   </span>},                                                                                      <span style=\"color: #800000; text-decoration-color: #800000\">│</span>\n<span style=\"color: #800000; text-decoration-color: #800000\">│</span>   <span style=\"color: #7f7f7f; text-decoration-color: #7f7f7f\">28 </span>)                                                                                           <span style=\"color: #800000; text-decoration-color: #800000\">│</span>\n<span style=\"color: #800000; text-decoration-color: #800000\">│</span>   <span style=\"color: #7f7f7f; text-decoration-color: #7f7f7f\">29 # Add the Expectation to the suite</span>                                                          <span style=\"color: #800000; text-decoration-color: #800000\">│</span>\n<span style=\"color: #800000; text-decoration-color: #800000\">│</span> <span style=\"color: #800000; text-decoration-color: #800000\">❱ </span>30 suite.add_expectation(expectation_configuration=expectation_configuration_1)                <span style=\"color: #800000; text-decoration-color: #800000\">│</span>\n<span style=\"color: #800000; text-decoration-color: #800000\">│</span>   <span style=\"color: #7f7f7f; text-decoration-color: #7f7f7f\">31 </span>                                                                                            <span style=\"color: #800000; text-decoration-color: #800000\">│</span>\n<span style=\"color: #800000; text-decoration-color: #800000\">│</span>   <span style=\"color: #7f7f7f; text-decoration-color: #7f7f7f\">32 </span>                                                                                            <span style=\"color: #800000; text-decoration-color: #800000\">│</span>\n<span style=\"color: #800000; text-decoration-color: #800000\">╰──────────────────────────────────────────────────────────────────────────────────────────────────╯</span>\n<span style=\"color: #ff0000; text-decoration-color: #ff0000; font-weight: bold\">NameError: </span>name <span style=\"color: #008000; text-decoration-color: #008000\">'suite'</span> is not defined\n</pre>\n"
     },
     "metadata": {},
     "output_type": "display_data"
    }
   ],
   "source": [
    "# Create Expectation Configurations\n",
    "\n",
    "from great_expectations.core.expectation_configuration import ExpectationConfiguration\n",
    "\n",
    "# Create an Expectation\n",
    "expectation_configuration_1 = ExpectationConfiguration(\n",
    "    # Name of expectation type being added\n",
    "    expectation_type=\"expect_table_columns_to_match_ordered_list\",\n",
    "    # These are the arguments of the expectation\n",
    "    # The keys allowed in the dictionary are Parameters and\n",
    "    # Keyword Arguments of this Expectation Type\n",
    "    kwargs={\n",
    "        \"column_list\": [\n",
    "            ['Other entities', 'Headcount_Female', 'Headcount_Male',\n",
    "            'Headcount_Total', 'Percentage_Female', 'Percentage_Male']\n",
    "        ]\n",
    "    },\n",
    "    # This is how you can optionally add a comment about this expectation.\n",
    "    # It will be rendered in Data Docs.\n",
    "    # See this guide for details:\n",
    "    # `How to add comments to Expectations and display them in Data Docs`.\n",
    "    meta={\n",
    "        \"notes\": {\n",
    "            \"format\": \"markdown\",\n",
    "            \"content\": \"Expectation that the columns of the actual table will appear in the order specified above\",\n",
    "        }\n",
    "    },\n",
    ")\n",
    "# Add the Expectation to the suite\n",
    "suite.add_expectation(expectation_configuration=expectation_configuration_1)"
   ],
   "metadata": {
    "collapsed": false,
    "pycharm": {
     "name": "#%%\n"
    }
   }
  },
  {
   "cell_type": "code",
   "execution_count": 11,
   "outputs": [
    {
     "data": {
      "text/plain": "\u001B[31m╭─\u001B[0m\u001B[31m──────────────────────────────\u001B[0m\u001B[31m \u001B[0m\u001B[1;31mTraceback \u001B[0m\u001B[1;2;31m(most recent call last)\u001B[0m\u001B[31m \u001B[0m\u001B[31m───────────────────────────────\u001B[0m\u001B[31m─╮\u001B[0m\n\u001B[31m│\u001B[0m in \u001B[92m<cell line: 9>\u001B[0m:\u001B[94m9\u001B[0m                                                                              \u001B[31m│\u001B[0m\n\u001B[31m│\u001B[0m                                                                                                  \u001B[31m│\u001B[0m\n\u001B[31m│\u001B[0m   \u001B[2m 6 \u001B[0m\u001B[2m│   \u001B[0m},                                                                                      \u001B[31m│\u001B[0m\n\u001B[31m│\u001B[0m   \u001B[2m 7 \u001B[0m\u001B[2m│   \u001B[0m\u001B[2m# Note optional comments omitted\u001B[0m                                                        \u001B[31m│\u001B[0m\n\u001B[31m│\u001B[0m   \u001B[2m 8 \u001B[0m)                                                                                           \u001B[31m│\u001B[0m\n\u001B[31m│\u001B[0m \u001B[31m❱ \u001B[0m 9 suite.add_expectation(expectation_configuration=expectation_configuration_2)                \u001B[31m│\u001B[0m\n\u001B[31m│\u001B[0m   \u001B[2m10 \u001B[0m                                                                                            \u001B[31m│\u001B[0m\n\u001B[31m│\u001B[0m   \u001B[2m11 \u001B[0m                                                                                            \u001B[31m│\u001B[0m\n\u001B[31m╰──────────────────────────────────────────────────────────────────────────────────────────────────╯\u001B[0m\n\u001B[1;91mNameError: \u001B[0mname \u001B[32m'suite'\u001B[0m is not defined\n",
      "text/html": "<pre style=\"white-space:pre;overflow-x:auto;line-height:normal;font-family:Menlo,'DejaVu Sans Mono',consolas,'Courier New',monospace\"><span style=\"color: #800000; text-decoration-color: #800000\">╭─────────────────────────────── </span><span style=\"color: #800000; text-decoration-color: #800000; font-weight: bold\">Traceback </span><span style=\"color: #bf7f7f; text-decoration-color: #bf7f7f; font-weight: bold\">(most recent call last)</span><span style=\"color: #800000; text-decoration-color: #800000\"> ────────────────────────────────╮</span>\n<span style=\"color: #800000; text-decoration-color: #800000\">│</span> in <span style=\"color: #00ff00; text-decoration-color: #00ff00\">&lt;cell line: 9&gt;</span>:<span style=\"color: #0000ff; text-decoration-color: #0000ff\">9</span>                                                                              <span style=\"color: #800000; text-decoration-color: #800000\">│</span>\n<span style=\"color: #800000; text-decoration-color: #800000\">│</span>                                                                                                  <span style=\"color: #800000; text-decoration-color: #800000\">│</span>\n<span style=\"color: #800000; text-decoration-color: #800000\">│</span>   <span style=\"color: #7f7f7f; text-decoration-color: #7f7f7f\"> 6 │   </span>},                                                                                      <span style=\"color: #800000; text-decoration-color: #800000\">│</span>\n<span style=\"color: #800000; text-decoration-color: #800000\">│</span>   <span style=\"color: #7f7f7f; text-decoration-color: #7f7f7f\"> 7 │   # Note optional comments omitted</span>                                                        <span style=\"color: #800000; text-decoration-color: #800000\">│</span>\n<span style=\"color: #800000; text-decoration-color: #800000\">│</span>   <span style=\"color: #7f7f7f; text-decoration-color: #7f7f7f\"> 8 </span>)                                                                                           <span style=\"color: #800000; text-decoration-color: #800000\">│</span>\n<span style=\"color: #800000; text-decoration-color: #800000\">│</span> <span style=\"color: #800000; text-decoration-color: #800000\">❱ </span> 9 suite.add_expectation(expectation_configuration=expectation_configuration_2)                <span style=\"color: #800000; text-decoration-color: #800000\">│</span>\n<span style=\"color: #800000; text-decoration-color: #800000\">│</span>   <span style=\"color: #7f7f7f; text-decoration-color: #7f7f7f\">10 </span>                                                                                            <span style=\"color: #800000; text-decoration-color: #800000\">│</span>\n<span style=\"color: #800000; text-decoration-color: #800000\">│</span>   <span style=\"color: #7f7f7f; text-decoration-color: #7f7f7f\">11 </span>                                                                                            <span style=\"color: #800000; text-decoration-color: #800000\">│</span>\n<span style=\"color: #800000; text-decoration-color: #800000\">╰──────────────────────────────────────────────────────────────────────────────────────────────────╯</span>\n<span style=\"color: #ff0000; text-decoration-color: #ff0000; font-weight: bold\">NameError: </span>name <span style=\"color: #008000; text-decoration-color: #008000\">'suite'</span> is not defined\n</pre>\n"
     },
     "metadata": {},
     "output_type": "display_data"
    }
   ],
   "source": [
    "expectation_configuration_2 = ExpectationConfiguration(\n",
    "    expectation_type=\"expect_column_values_to_be_in_set\",\n",
    "    kwargs={\n",
    "        \"column\": \"transaction_type\",\n",
    "        \"value_set\": [\"purchase\", \"refund\", \"upgrade\"],\n",
    "    },\n",
    "    # Note optional comments omitted\n",
    ")\n",
    "suite.add_expectation(expectation_configuration=expectation_configuration_2)"
   ],
   "metadata": {
    "collapsed": false,
    "pycharm": {
     "name": "#%%\n"
    }
   }
  },
  {
   "cell_type": "code",
   "execution_count": 12,
   "outputs": [
    {
     "data": {
      "text/plain": "\u001B[31m╭─\u001B[0m\u001B[31m──────────────────────────────\u001B[0m\u001B[31m \u001B[0m\u001B[1;31mTraceback \u001B[0m\u001B[1;2;31m(most recent call last)\u001B[0m\u001B[31m \u001B[0m\u001B[31m───────────────────────────────\u001B[0m\u001B[31m─╮\u001B[0m\n\u001B[31m│\u001B[0m in \u001B[92m<cell line: 7>\u001B[0m:\u001B[94m7\u001B[0m                                                                              \u001B[31m│\u001B[0m\n\u001B[31m│\u001B[0m                                                                                                  \u001B[31m│\u001B[0m\n\u001B[31m│\u001B[0m   \u001B[2m4 \u001B[0m\u001B[2m│   │   \u001B[0m\u001B[33m\"\u001B[0m\u001B[33mcolumn\u001B[0m\u001B[33m\"\u001B[0m: \u001B[33m\"\u001B[0m\u001B[33mOther entities\u001B[0m\u001B[33m\"\u001B[0m,                                                          \u001B[31m│\u001B[0m\n\u001B[31m│\u001B[0m   \u001B[2m5 \u001B[0m\u001B[2m│   \u001B[0m},                                                                                       \u001B[31m│\u001B[0m\n\u001B[31m│\u001B[0m   \u001B[2m6 \u001B[0m)                                                                                            \u001B[31m│\u001B[0m\n\u001B[31m│\u001B[0m \u001B[31m❱ \u001B[0m7 suite.add_expectation(expectation_configuration=expectation_configuration_3)                 \u001B[31m│\u001B[0m\n\u001B[31m│\u001B[0m   \u001B[2m8 \u001B[0m                                                                                             \u001B[31m│\u001B[0m\n\u001B[31m│\u001B[0m   \u001B[2m9 \u001B[0m                                                                                             \u001B[31m│\u001B[0m\n\u001B[31m╰──────────────────────────────────────────────────────────────────────────────────────────────────╯\u001B[0m\n\u001B[1;91mNameError: \u001B[0mname \u001B[32m'suite'\u001B[0m is not defined\n",
      "text/html": "<pre style=\"white-space:pre;overflow-x:auto;line-height:normal;font-family:Menlo,'DejaVu Sans Mono',consolas,'Courier New',monospace\"><span style=\"color: #800000; text-decoration-color: #800000\">╭─────────────────────────────── </span><span style=\"color: #800000; text-decoration-color: #800000; font-weight: bold\">Traceback </span><span style=\"color: #bf7f7f; text-decoration-color: #bf7f7f; font-weight: bold\">(most recent call last)</span><span style=\"color: #800000; text-decoration-color: #800000\"> ────────────────────────────────╮</span>\n<span style=\"color: #800000; text-decoration-color: #800000\">│</span> in <span style=\"color: #00ff00; text-decoration-color: #00ff00\">&lt;cell line: 7&gt;</span>:<span style=\"color: #0000ff; text-decoration-color: #0000ff\">7</span>                                                                              <span style=\"color: #800000; text-decoration-color: #800000\">│</span>\n<span style=\"color: #800000; text-decoration-color: #800000\">│</span>                                                                                                  <span style=\"color: #800000; text-decoration-color: #800000\">│</span>\n<span style=\"color: #800000; text-decoration-color: #800000\">│</span>   <span style=\"color: #7f7f7f; text-decoration-color: #7f7f7f\">4 │   │   </span><span style=\"color: #808000; text-decoration-color: #808000\">\"column\"</span>: <span style=\"color: #808000; text-decoration-color: #808000\">\"Other entities\"</span>,                                                          <span style=\"color: #800000; text-decoration-color: #800000\">│</span>\n<span style=\"color: #800000; text-decoration-color: #800000\">│</span>   <span style=\"color: #7f7f7f; text-decoration-color: #7f7f7f\">5 │   </span>},                                                                                       <span style=\"color: #800000; text-decoration-color: #800000\">│</span>\n<span style=\"color: #800000; text-decoration-color: #800000\">│</span>   <span style=\"color: #7f7f7f; text-decoration-color: #7f7f7f\">6 </span>)                                                                                            <span style=\"color: #800000; text-decoration-color: #800000\">│</span>\n<span style=\"color: #800000; text-decoration-color: #800000\">│</span> <span style=\"color: #800000; text-decoration-color: #800000\">❱ </span>7 suite.add_expectation(expectation_configuration=expectation_configuration_3)                 <span style=\"color: #800000; text-decoration-color: #800000\">│</span>\n<span style=\"color: #800000; text-decoration-color: #800000\">│</span>   <span style=\"color: #7f7f7f; text-decoration-color: #7f7f7f\">8 </span>                                                                                             <span style=\"color: #800000; text-decoration-color: #800000\">│</span>\n<span style=\"color: #800000; text-decoration-color: #800000\">│</span>   <span style=\"color: #7f7f7f; text-decoration-color: #7f7f7f\">9 </span>                                                                                             <span style=\"color: #800000; text-decoration-color: #800000\">│</span>\n<span style=\"color: #800000; text-decoration-color: #800000\">╰──────────────────────────────────────────────────────────────────────────────────────────────────╯</span>\n<span style=\"color: #ff0000; text-decoration-color: #ff0000; font-weight: bold\">NameError: </span>name <span style=\"color: #008000; text-decoration-color: #008000\">'suite'</span> is not defined\n</pre>\n"
     },
     "metadata": {},
     "output_type": "display_data"
    }
   ],
   "source": [
    "expectation_configuration_3 = ExpectationConfiguration(\n",
    "    expectation_type=\"expect_column_values_to_not_be_null\",\n",
    "    kwargs={\n",
    "        \"column\": \"Other entities\",\n",
    "    },\n",
    ")\n",
    "suite.add_expectation(expectation_configuration=expectation_configuration_3)"
   ],
   "metadata": {
    "collapsed": false,
    "pycharm": {
     "name": "#%%\n"
    }
   }
  },
  {
   "cell_type": "code",
   "execution_count": 18,
   "outputs": [
    {
     "name": "stdout",
     "output_type": "stream",
     "text": [
      "2023-05-23 19:05:51,634 - py.warnings - WARNING - C:\\Users\\gdbt0\\anaconda3\\envs\\Data-preparation-pipeline\\lib\\site-packages\\great_expectations\\data_context\\data_context\\abstract_data_context.py:435: DeprecationWarning: save_expectation_suite is deprecated as of v0.15.48 and will be removed in v0.18. Please use update_expectation_suite or add_or_update_expectation_suite instead.\n",
      "  warnings.warn(\n",
      "\n"
     ]
    },
    {
     "data": {
      "text/plain": "'C:\\\\Users\\\\gdbt0\\\\Projects\\\\Data-preparation-pipeline\\\\data-processing-pipeline\\\\great_expectations\\\\expectations/processed_data_suite.json'"
     },
     "execution_count": 18,
     "metadata": {},
     "output_type": "execute_result"
    }
   ],
   "source": [
    "expectation_suite_name = \"processed_data_suite\"\n",
    "# Save your Expectations for future use\n",
    "context.save_expectation_suite(expectation_suite=suite)"
   ],
   "metadata": {
    "collapsed": false,
    "pycharm": {
     "name": "#%%\n"
    }
   }
  },
  {
   "cell_type": "code",
   "execution_count": 41,
   "outputs": [
    {
     "name": "stdout",
     "output_type": "stream",
     "text": [
      "2023-05-23 21:01:06,327 - great_expectations.datasource.fluent.fluent_base_model - INFO - PandasS3Datasource.dict() - substituting config values\n",
      "2023-05-23 21:01:06,328 - great_expectations.datasource.data_connector.batch_filter - INFO - batch_slice: None was parsed to: slice(0, None, None)\n",
      "2023-05-23 21:01:06,329 - great_expectations.datasource.data_connector.batch_filter - INFO - batch_slice: slice(0, None, None) was parsed to: slice(0, None, None)\n",
      "2023-05-23 21:01:06,331 - great_expectations.datasource.fluent.fluent_base_model - INFO - CSVAsset.dict() - substituting config values\n"
     ]
    },
    {
     "data": {
      "text/plain": "Calculating Metrics:   0%|          | 0/1 [00:00<?, ?it/s]",
      "application/vnd.jupyter.widget-view+json": {
       "version_major": 2,
       "version_minor": 0,
       "model_id": "600cc063877445d6980fe44db24aa571"
      }
     },
     "metadata": {},
     "output_type": "display_data"
    },
    {
     "data": {
      "text/plain": "                           other_entities  headcount_female  headcount_male  \\\n0                    Legal Aid Queensland               480             143   \n1          Office of the Health Ombudsman               100              42   \n2                  Queensland Art Gallery               234             131   \n3  Queensland Family and Child Commission                56              17   \n4      Queensland Human Rights Commission                35               9   \n\n   headcount_total  percentage_female  percentage_male  \n0              623           0.770465         0.229535  \n1              142           0.704225         0.295775  \n2              365           0.641096         0.358904  \n3               73           0.767123         0.232877  \n4               44           0.795455         0.204545  ",
      "text/html": "<div>\n<style scoped>\n    .dataframe tbody tr th:only-of-type {\n        vertical-align: middle;\n    }\n\n    .dataframe tbody tr th {\n        vertical-align: top;\n    }\n\n    .dataframe thead th {\n        text-align: right;\n    }\n</style>\n<table border=\"1\" class=\"dataframe\">\n  <thead>\n    <tr style=\"text-align: right;\">\n      <th></th>\n      <th>other_entities</th>\n      <th>headcount_female</th>\n      <th>headcount_male</th>\n      <th>headcount_total</th>\n      <th>percentage_female</th>\n      <th>percentage_male</th>\n    </tr>\n  </thead>\n  <tbody>\n    <tr>\n      <th>0</th>\n      <td>Legal Aid Queensland</td>\n      <td>480</td>\n      <td>143</td>\n      <td>623</td>\n      <td>0.770465</td>\n      <td>0.229535</td>\n    </tr>\n    <tr>\n      <th>1</th>\n      <td>Office of the Health Ombudsman</td>\n      <td>100</td>\n      <td>42</td>\n      <td>142</td>\n      <td>0.704225</td>\n      <td>0.295775</td>\n    </tr>\n    <tr>\n      <th>2</th>\n      <td>Queensland Art Gallery</td>\n      <td>234</td>\n      <td>131</td>\n      <td>365</td>\n      <td>0.641096</td>\n      <td>0.358904</td>\n    </tr>\n    <tr>\n      <th>3</th>\n      <td>Queensland Family and Child Commission</td>\n      <td>56</td>\n      <td>17</td>\n      <td>73</td>\n      <td>0.767123</td>\n      <td>0.232877</td>\n    </tr>\n    <tr>\n      <th>4</th>\n      <td>Queensland Human Rights Commission</td>\n      <td>35</td>\n      <td>9</td>\n      <td>44</td>\n      <td>0.795455</td>\n      <td>0.204545</td>\n    </tr>\n  </tbody>\n</table>\n</div>"
     },
     "execution_count": 41,
     "metadata": {},
     "output_type": "execute_result"
    }
   ],
   "source": [
    "# Instantiate a Validator\n",
    "validator = context.get_validator(\n",
    "    batch_request=batch_request, expectation_suite_name=expectation_suite_name\n",
    ")\n",
    "validator.head()"
   ],
   "metadata": {
    "collapsed": false,
    "pycharm": {
     "name": "#%%\n"
    }
   }
  },
  {
   "cell_type": "code",
   "execution_count": 15,
   "outputs": [
    {
     "data": {
      "text/plain": "Calculating Metrics:   0%|          | 0/2 [00:00<?, ?it/s]",
      "application/vnd.jupyter.widget-view+json": {
       "version_major": 2,
       "version_minor": 0,
       "model_id": "1abdaa2bf4c34254aa8fc8a2b7ff79b7"
      }
     },
     "metadata": {},
     "output_type": "display_data"
    },
    {
     "name": "stdout",
     "output_type": "stream",
     "text": [
      "2023-05-23 19:03:47,417 - py.warnings - WARNING - C:\\Users\\gdbt0\\anaconda3\\envs\\Data-preparation-pipeline\\lib\\site-packages\\great_expectations\\expectations\\expectation.py:1462: UserWarning: `result_format` configured at the Validator-level will not be persisted. Please add the configuration to your Checkpoint config or checkpoint_run() method instead.\n",
      "  warnings.warn(\n",
      "\n"
     ]
    },
    {
     "data": {
      "text/plain": "Calculating Metrics:   0%|          | 0/4 [00:00<?, ?it/s]",
      "application/vnd.jupyter.widget-view+json": {
       "version_major": 2,
       "version_minor": 0,
       "model_id": "a749c78c7c064ef8a120f64de49baa3c"
      }
     },
     "metadata": {},
     "output_type": "display_data"
    },
    {
     "data": {
      "text/plain": "Calculating Metrics:   0%|          | 0/7 [00:00<?, ?it/s]",
      "application/vnd.jupyter.widget-view+json": {
       "version_major": 2,
       "version_minor": 0,
       "model_id": "f0e35964c38d40779aff69c42051ee78"
      }
     },
     "metadata": {},
     "output_type": "display_data"
    },
    {
     "data": {
      "text/plain": "Calculating Metrics:   0%|          | 0/8 [00:00<?, ?it/s]",
      "application/vnd.jupyter.widget-view+json": {
       "version_major": 2,
       "version_minor": 0,
       "model_id": "2b156b2ecba14eb29062f7a7bccfac87"
      }
     },
     "metadata": {},
     "output_type": "display_data"
    },
    {
     "data": {
      "text/plain": "Calculating Metrics:   0%|          | 0/8 [00:00<?, ?it/s]",
      "application/vnd.jupyter.widget-view+json": {
       "version_major": 2,
       "version_minor": 0,
       "model_id": "950d16d02b044ada91eda2a8495aad5d"
      }
     },
     "metadata": {},
     "output_type": "display_data"
    },
    {
     "data": {
      "text/plain": "Calculating Metrics:   0%|          | 0/8 [00:00<?, ?it/s]",
      "application/vnd.jupyter.widget-view+json": {
       "version_major": 2,
       "version_minor": 0,
       "model_id": "68b0b27d82554f749af038238e67cfbd"
      }
     },
     "metadata": {},
     "output_type": "display_data"
    },
    {
     "data": {
      "text/plain": "Calculating Metrics:   0%|          | 0/8 [00:00<?, ?it/s]",
      "application/vnd.jupyter.widget-view+json": {
       "version_major": 2,
       "version_minor": 0,
       "model_id": "74bd84267d2d428aa07d1727dc194e07"
      }
     },
     "metadata": {},
     "output_type": "display_data"
    },
    {
     "data": {
      "text/plain": "Calculating Metrics:   0%|          | 0/4 [00:00<?, ?it/s]",
      "application/vnd.jupyter.widget-view+json": {
       "version_major": 2,
       "version_minor": 0,
       "model_id": "8de1842c8f824a4aa586b91d2121afd3"
      }
     },
     "metadata": {},
     "output_type": "display_data"
    },
    {
     "data": {
      "text/plain": "Calculating Metrics:   0%|          | 0/7 [00:00<?, ?it/s]",
      "application/vnd.jupyter.widget-view+json": {
       "version_major": 2,
       "version_minor": 0,
       "model_id": "367c35aa5e7741b19e35d388e7eddd8d"
      }
     },
     "metadata": {},
     "output_type": "display_data"
    },
    {
     "data": {
      "text/plain": "Calculating Metrics:   0%|          | 0/1 [00:00<?, ?it/s]",
      "application/vnd.jupyter.widget-view+json": {
       "version_major": 2,
       "version_minor": 0,
       "model_id": "a65e85e830d04b368b91c46d7b6ccdbf"
      }
     },
     "metadata": {},
     "output_type": "display_data"
    },
    {
     "data": {
      "text/plain": "Calculating Metrics:   0%|          | 0/1 [00:00<?, ?it/s]",
      "application/vnd.jupyter.widget-view+json": {
       "version_major": 2,
       "version_minor": 0,
       "model_id": "4b799abac5134567adb97d9e0a5e5ebd"
      }
     },
     "metadata": {},
     "output_type": "display_data"
    },
    {
     "data": {
      "text/plain": "Calculating Metrics:   0%|          | 0/1 [00:00<?, ?it/s]",
      "application/vnd.jupyter.widget-view+json": {
       "version_major": 2,
       "version_minor": 0,
       "model_id": "e81b77efe97a44dd94eb1bfcd7d53dd1"
      }
     },
     "metadata": {},
     "output_type": "display_data"
    },
    {
     "data": {
      "text/plain": "Calculating Metrics:   0%|          | 0/4 [00:00<?, ?it/s]",
      "application/vnd.jupyter.widget-view+json": {
       "version_major": 2,
       "version_minor": 0,
       "model_id": "4593c844b2454595a3d008c895c10943"
      }
     },
     "metadata": {},
     "output_type": "display_data"
    },
    {
     "data": {
      "text/plain": "Calculating Metrics:   0%|          | 0/7 [00:00<?, ?it/s]",
      "application/vnd.jupyter.widget-view+json": {
       "version_major": 2,
       "version_minor": 0,
       "model_id": "3f8837b4fd394d2490a1c33bf849f246"
      }
     },
     "metadata": {},
     "output_type": "display_data"
    },
    {
     "data": {
      "text/plain": "Calculating Metrics:   0%|          | 0/1 [00:00<?, ?it/s]",
      "application/vnd.jupyter.widget-view+json": {
       "version_major": 2,
       "version_minor": 0,
       "model_id": "0320707b0d7e417b91720d9b7b739ee9"
      }
     },
     "metadata": {},
     "output_type": "display_data"
    },
    {
     "data": {
      "text/plain": "Calculating Metrics:   0%|          | 0/1 [00:00<?, ?it/s]",
      "application/vnd.jupyter.widget-view+json": {
       "version_major": 2,
       "version_minor": 0,
       "model_id": "1dd0d8edaa9543e68a7c475631878baa"
      }
     },
     "metadata": {},
     "output_type": "display_data"
    },
    {
     "data": {
      "text/plain": "Calculating Metrics:   0%|          | 0/1 [00:00<?, ?it/s]",
      "application/vnd.jupyter.widget-view+json": {
       "version_major": 2,
       "version_minor": 0,
       "model_id": "10ca442bdbfa4f769fa0b09d88c648ca"
      }
     },
     "metadata": {},
     "output_type": "display_data"
    },
    {
     "data": {
      "text/plain": "Calculating Metrics:   0%|          | 0/4 [00:00<?, ?it/s]",
      "application/vnd.jupyter.widget-view+json": {
       "version_major": 2,
       "version_minor": 0,
       "model_id": "e04f66c45206499ba2f22170fc479937"
      }
     },
     "metadata": {},
     "output_type": "display_data"
    },
    {
     "data": {
      "text/plain": "Calculating Metrics:   0%|          | 0/7 [00:00<?, ?it/s]",
      "application/vnd.jupyter.widget-view+json": {
       "version_major": 2,
       "version_minor": 0,
       "model_id": "4de65e55ceef420aa1f00e539caddfca"
      }
     },
     "metadata": {},
     "output_type": "display_data"
    },
    {
     "data": {
      "text/plain": "Calculating Metrics:   0%|          | 0/1 [00:00<?, ?it/s]",
      "application/vnd.jupyter.widget-view+json": {
       "version_major": 2,
       "version_minor": 0,
       "model_id": "f9030ce6efec424f93763f016f84e27b"
      }
     },
     "metadata": {},
     "output_type": "display_data"
    },
    {
     "data": {
      "text/plain": "Calculating Metrics:   0%|          | 0/1 [00:00<?, ?it/s]",
      "application/vnd.jupyter.widget-view+json": {
       "version_major": 2,
       "version_minor": 0,
       "model_id": "34ca0877ea964ec5951308a1686ba1f1"
      }
     },
     "metadata": {},
     "output_type": "display_data"
    },
    {
     "data": {
      "text/plain": "Calculating Metrics:   0%|          | 0/1 [00:00<?, ?it/s]",
      "application/vnd.jupyter.widget-view+json": {
       "version_major": 2,
       "version_minor": 0,
       "model_id": "0356fb21012e45018d0ec39e58905e86"
      }
     },
     "metadata": {},
     "output_type": "display_data"
    },
    {
     "data": {
      "text/plain": "Calculating Metrics:   0%|          | 0/4 [00:00<?, ?it/s]",
      "application/vnd.jupyter.widget-view+json": {
       "version_major": 2,
       "version_minor": 0,
       "model_id": "0ad5e44cd6b94d0892bca69ba9942749"
      }
     },
     "metadata": {},
     "output_type": "display_data"
    },
    {
     "data": {
      "text/plain": "Calculating Metrics:   0%|          | 0/7 [00:00<?, ?it/s]",
      "application/vnd.jupyter.widget-view+json": {
       "version_major": 2,
       "version_minor": 0,
       "model_id": "4444e26a524a448fb8a8c35da9e99bee"
      }
     },
     "metadata": {},
     "output_type": "display_data"
    },
    {
     "data": {
      "text/plain": "Calculating Metrics:   0%|          | 0/1 [00:00<?, ?it/s]",
      "application/vnd.jupyter.widget-view+json": {
       "version_major": 2,
       "version_minor": 0,
       "model_id": "8401be12b8a048e3aa8692df1d84b458"
      }
     },
     "metadata": {},
     "output_type": "display_data"
    },
    {
     "data": {
      "text/plain": "Calculating Metrics:   0%|          | 0/1 [00:00<?, ?it/s]",
      "application/vnd.jupyter.widget-view+json": {
       "version_major": 2,
       "version_minor": 0,
       "model_id": "0f5696f0b49f4a90863a156c09930c31"
      }
     },
     "metadata": {},
     "output_type": "display_data"
    },
    {
     "data": {
      "text/plain": "Calculating Metrics:   0%|          | 0/1 [00:00<?, ?it/s]",
      "application/vnd.jupyter.widget-view+json": {
       "version_major": 2,
       "version_minor": 0,
       "model_id": "3bd3cc8a470b4f30af10f01db8f197c6"
      }
     },
     "metadata": {},
     "output_type": "display_data"
    },
    {
     "data": {
      "text/plain": "Calculating Metrics:   0%|          | 0/4 [00:00<?, ?it/s]",
      "application/vnd.jupyter.widget-view+json": {
       "version_major": 2,
       "version_minor": 0,
       "model_id": "54195795819e480183e36884eafc09a9"
      }
     },
     "metadata": {},
     "output_type": "display_data"
    },
    {
     "data": {
      "text/plain": "Calculating Metrics:   0%|          | 0/7 [00:00<?, ?it/s]",
      "application/vnd.jupyter.widget-view+json": {
       "version_major": 2,
       "version_minor": 0,
       "model_id": "b2ae1fc19ff14409b30276aa5d725dcd"
      }
     },
     "metadata": {},
     "output_type": "display_data"
    },
    {
     "data": {
      "text/plain": "Calculating Metrics:   0%|          | 0/1 [00:00<?, ?it/s]",
      "application/vnd.jupyter.widget-view+json": {
       "version_major": 2,
       "version_minor": 0,
       "model_id": "a1e945f9de314a25954fbf49a6db9b66"
      }
     },
     "metadata": {},
     "output_type": "display_data"
    },
    {
     "data": {
      "text/plain": "Calculating Metrics:   0%|          | 0/1 [00:00<?, ?it/s]",
      "application/vnd.jupyter.widget-view+json": {
       "version_major": 2,
       "version_minor": 0,
       "model_id": "1a2f2d499c334b95970edfa33c086a11"
      }
     },
     "metadata": {},
     "output_type": "display_data"
    },
    {
     "data": {
      "text/plain": "Calculating Metrics:   0%|          | 0/1 [00:00<?, ?it/s]",
      "application/vnd.jupyter.widget-view+json": {
       "version_major": 2,
       "version_minor": 0,
       "model_id": "bb729019a48341d59b316eca1385ad1f"
      }
     },
     "metadata": {},
     "output_type": "display_data"
    }
   ],
   "source": [
    "# Instantiate a UserConfigurableProfiler, passing in the Validator with the data\n",
    "\n",
    "from great_expectations.profile.user_configurable_profiler import (\n",
    "    UserConfigurableProfiler,\n",
    ")\n",
    "\n",
    "profiler = UserConfigurableProfiler(profile_dataset=validator)"
   ],
   "metadata": {
    "collapsed": false,
    "pycharm": {
     "name": "#%%\n"
    }
   }
  },
  {
   "cell_type": "code",
   "execution_count": 16,
   "outputs": [
    {
     "name": "stdout",
     "output_type": "stream",
     "text": [
      "2023-05-23 19:04:17,867 - great_expectations.validator.validator - INFO - \t3 expectation(s) included in expectation_suite.\n",
      "2023-05-23 19:04:17,869 - py.warnings - WARNING - C:\\Users\\gdbt0\\anaconda3\\envs\\Data-preparation-pipeline\\lib\\site-packages\\great_expectations\\expectations\\expectation.py:1462: UserWarning: `result_format` configured at the Validator-level will not be persisted. Please add the configuration to your Checkpoint config or checkpoint_run() method instead.\n",
      "  warnings.warn(\n",
      "\n"
     ]
    },
    {
     "data": {
      "text/plain": "Calculating Metrics:   0%|          | 0/2 [00:00<?, ?it/s]",
      "application/vnd.jupyter.widget-view+json": {
       "version_major": 2,
       "version_minor": 0,
       "model_id": "0439fb56768e4f33b503f061c5ca3945"
      }
     },
     "metadata": {},
     "output_type": "display_data"
    },
    {
     "data": {
      "text/plain": "Calculating Metrics:   0%|          | 0/1 [00:00<?, ?it/s]",
      "application/vnd.jupyter.widget-view+json": {
       "version_major": 2,
       "version_minor": 0,
       "model_id": "cee6e1a987794d9d8206dd1f68ad36e8"
      }
     },
     "metadata": {},
     "output_type": "display_data"
    },
    {
     "data": {
      "text/plain": "Calculating Metrics:   0%|          | 0/1 [00:00<?, ?it/s]",
      "application/vnd.jupyter.widget-view+json": {
       "version_major": 2,
       "version_minor": 0,
       "model_id": "de8cef20aeaa4990844e6652af2d1bdc"
      }
     },
     "metadata": {},
     "output_type": "display_data"
    },
    {
     "data": {
      "text/plain": "Profiling:   0%|          | 0/6 [00:00<?, ?it/s, Column=Other entities]",
      "application/vnd.jupyter.widget-view+json": {
       "version_major": 2,
       "version_minor": 0,
       "model_id": "ccad7454e4514b7fa1e7b4ccf40e2c81"
      }
     },
     "metadata": {},
     "output_type": "display_data"
    },
    {
     "data": {
      "text/plain": "Calculating Metrics:   0%|          | 0/6 [00:00<?, ?it/s]",
      "application/vnd.jupyter.widget-view+json": {
       "version_major": 2,
       "version_minor": 0,
       "model_id": "5238756e1fd548fb848c5b0ef0c37d8b"
      }
     },
     "metadata": {},
     "output_type": "display_data"
    },
    {
     "data": {
      "text/plain": "Calculating Metrics:   0%|          | 0/7 [00:00<?, ?it/s]",
      "application/vnd.jupyter.widget-view+json": {
       "version_major": 2,
       "version_minor": 0,
       "model_id": "2e04a5f8af684486b96c7dc19aaecaa7"
      }
     },
     "metadata": {},
     "output_type": "display_data"
    },
    {
     "data": {
      "text/plain": "Calculating Metrics:   0%|          | 0/7 [00:00<?, ?it/s]",
      "application/vnd.jupyter.widget-view+json": {
       "version_major": 2,
       "version_minor": 0,
       "model_id": "c13bfe9b13cf461995d77d4b96f45e19"
      }
     },
     "metadata": {},
     "output_type": "display_data"
    },
    {
     "data": {
      "text/plain": "Calculating Metrics:   0%|          | 0/8 [00:00<?, ?it/s]",
      "application/vnd.jupyter.widget-view+json": {
       "version_major": 2,
       "version_minor": 0,
       "model_id": "76a9da9a4f354e779baccc34e93fe819"
      }
     },
     "metadata": {},
     "output_type": "display_data"
    },
    {
     "name": "stdout",
     "output_type": "stream",
     "text": [
      "2023-05-23 19:04:18,030 - py.warnings - WARNING - C:\\Users\\gdbt0\\anaconda3\\envs\\Data-preparation-pipeline\\lib\\site-packages\\great_expectations\\expectations\\expectation.py:1475: UserWarning: `result_format` configured at the Expectation-level will not be persisted. Please add the configuration to your Checkpoint config or checkpoint_run() method instead.\n",
      "  warnings.warn(\n",
      "\n"
     ]
    },
    {
     "data": {
      "text/plain": "Calculating Metrics:   0%|          | 0/4 [00:00<?, ?it/s]",
      "application/vnd.jupyter.widget-view+json": {
       "version_major": 2,
       "version_minor": 0,
       "model_id": "f67806282f37429da713b642afdfcf9a"
      }
     },
     "metadata": {},
     "output_type": "display_data"
    },
    {
     "data": {
      "text/plain": "Calculating Metrics:   0%|          | 0/4 [00:00<?, ?it/s]",
      "application/vnd.jupyter.widget-view+json": {
       "version_major": 2,
       "version_minor": 0,
       "model_id": "31fc1300718f4b2f9244f19d69978e7b"
      }
     },
     "metadata": {},
     "output_type": "display_data"
    },
    {
     "data": {
      "text/plain": "Calculating Metrics:   0%|          | 0/4 [00:00<?, ?it/s]",
      "application/vnd.jupyter.widget-view+json": {
       "version_major": 2,
       "version_minor": 0,
       "model_id": "a28c49b5a98a4c91bf2bfe2e59e10009"
      }
     },
     "metadata": {},
     "output_type": "display_data"
    },
    {
     "data": {
      "text/plain": "Calculating Metrics:   0%|          | 0/4 [00:00<?, ?it/s]",
      "application/vnd.jupyter.widget-view+json": {
       "version_major": 2,
       "version_minor": 0,
       "model_id": "8a11f5a6d17e41ce9306838661122e31"
      }
     },
     "metadata": {},
     "output_type": "display_data"
    },
    {
     "data": {
      "text/plain": "Calculating Metrics:   0%|          | 0/4 [00:00<?, ?it/s]",
      "application/vnd.jupyter.widget-view+json": {
       "version_major": 2,
       "version_minor": 0,
       "model_id": "34ef2d9e8352487388ed050f2db401c6"
      }
     },
     "metadata": {},
     "output_type": "display_data"
    },
    {
     "data": {
      "text/plain": "Calculating Metrics:   0%|          | 0/4 [00:00<?, ?it/s]",
      "application/vnd.jupyter.widget-view+json": {
       "version_major": 2,
       "version_minor": 0,
       "model_id": "47437bdfd4804e3f8821ba15c625b830"
      }
     },
     "metadata": {},
     "output_type": "display_data"
    },
    {
     "data": {
      "text/plain": "Calculating Metrics:   0%|          | 0/4 [00:00<?, ?it/s]",
      "application/vnd.jupyter.widget-view+json": {
       "version_major": 2,
       "version_minor": 0,
       "model_id": "14b766e8d2b24bafbaa25f51e33a5606"
      }
     },
     "metadata": {},
     "output_type": "display_data"
    },
    {
     "name": "stdout",
     "output_type": "stream",
     "text": [
      "2023-05-23 19:04:18,130 - py.warnings - WARNING - C:\\Users\\gdbt0\\anaconda3\\envs\\Data-preparation-pipeline\\lib\\site-packages\\great_expectations\\expectations\\expectation.py:1462: UserWarning: `result_format` configured at the Validator-level will not be persisted. Please add the configuration to your Checkpoint config or checkpoint_run() method instead.\n",
      "  warnings.warn(\n",
      "\n"
     ]
    },
    {
     "data": {
      "text/plain": "Calculating Metrics:   0%|          | 0/4 [00:00<?, ?it/s]",
      "application/vnd.jupyter.widget-view+json": {
       "version_major": 2,
       "version_minor": 0,
       "model_id": "5bceff0b1a924fafb59e4a41754b0cfa"
      }
     },
     "metadata": {},
     "output_type": "display_data"
    },
    {
     "name": "stdout",
     "output_type": "stream",
     "text": [
      "2023-05-23 19:04:18,160 - py.warnings - WARNING - C:\\Users\\gdbt0\\anaconda3\\envs\\Data-preparation-pipeline\\lib\\site-packages\\great_expectations\\expectations\\expectation.py:1462: UserWarning: `result_format` configured at the Validator-level will not be persisted. Please add the configuration to your Checkpoint config or checkpoint_run() method instead.\n",
      "  warnings.warn(\n",
      "\n",
      "2023-05-23 19:04:18,162 - py.warnings - WARNING - C:\\Users\\gdbt0\\anaconda3\\envs\\Data-preparation-pipeline\\lib\\site-packages\\great_expectations\\expectations\\expectation.py:1475: UserWarning: `result_format` configured at the Expectation-level will not be persisted. Please add the configuration to your Checkpoint config or checkpoint_run() method instead.\n",
      "  warnings.warn(\n",
      "\n"
     ]
    },
    {
     "data": {
      "text/plain": "Calculating Metrics:   0%|          | 0/4 [00:00<?, ?it/s]",
      "application/vnd.jupyter.widget-view+json": {
       "version_major": 2,
       "version_minor": 0,
       "model_id": "61e899fb7ccd44878fab12a2ac465ac2"
      }
     },
     "metadata": {},
     "output_type": "display_data"
    },
    {
     "name": "stdout",
     "output_type": "stream",
     "text": [
      "2023-05-23 19:04:18,182 - py.warnings - WARNING - C:\\Users\\gdbt0\\anaconda3\\envs\\Data-preparation-pipeline\\lib\\site-packages\\great_expectations\\expectations\\expectation.py:1462: UserWarning: `result_format` configured at the Validator-level will not be persisted. Please add the configuration to your Checkpoint config or checkpoint_run() method instead.\n",
      "  warnings.warn(\n",
      "\n"
     ]
    },
    {
     "data": {
      "text/plain": "Calculating Metrics:   0%|          | 0/4 [00:00<?, ?it/s]",
      "application/vnd.jupyter.widget-view+json": {
       "version_major": 2,
       "version_minor": 0,
       "model_id": "793ba94be0de43179ccab1be34d1b7e3"
      }
     },
     "metadata": {},
     "output_type": "display_data"
    },
    {
     "name": "stdout",
     "output_type": "stream",
     "text": [
      "2023-05-23 19:04:18,202 - py.warnings - WARNING - C:\\Users\\gdbt0\\anaconda3\\envs\\Data-preparation-pipeline\\lib\\site-packages\\great_expectations\\expectations\\expectation.py:1462: UserWarning: `result_format` configured at the Validator-level will not be persisted. Please add the configuration to your Checkpoint config or checkpoint_run() method instead.\n",
      "  warnings.warn(\n",
      "\n"
     ]
    },
    {
     "data": {
      "text/plain": "Calculating Metrics:   0%|          | 0/6 [00:00<?, ?it/s]",
      "application/vnd.jupyter.widget-view+json": {
       "version_major": 2,
       "version_minor": 0,
       "model_id": "0054d5c33f034196ab976b6e9fd08a89"
      }
     },
     "metadata": {},
     "output_type": "display_data"
    },
    {
     "data": {
      "text/plain": "Calculating Metrics:   0%|          | 0/7 [00:00<?, ?it/s]",
      "application/vnd.jupyter.widget-view+json": {
       "version_major": 2,
       "version_minor": 0,
       "model_id": "e86382f0a277413d8342d96b6acb5b47"
      }
     },
     "metadata": {},
     "output_type": "display_data"
    },
    {
     "data": {
      "text/plain": "Calculating Metrics:   0%|          | 0/7 [00:00<?, ?it/s]",
      "application/vnd.jupyter.widget-view+json": {
       "version_major": 2,
       "version_minor": 0,
       "model_id": "03c15fb4c0ad4871b4c83751ea158466"
      }
     },
     "metadata": {},
     "output_type": "display_data"
    },
    {
     "data": {
      "text/plain": "Calculating Metrics:   0%|          | 0/1 [00:00<?, ?it/s]",
      "application/vnd.jupyter.widget-view+json": {
       "version_major": 2,
       "version_minor": 0,
       "model_id": "beebd3a33cca4ac39569ad30fb7c02f7"
      }
     },
     "metadata": {},
     "output_type": "display_data"
    },
    {
     "name": "stdout",
     "output_type": "stream",
     "text": [
      "2023-05-23 19:04:18,300 - py.warnings - WARNING - C:\\Users\\gdbt0\\anaconda3\\envs\\Data-preparation-pipeline\\lib\\site-packages\\great_expectations\\expectations\\expectation.py:1475: UserWarning: `result_format` configured at the Expectation-level will not be persisted. Please add the configuration to your Checkpoint config or checkpoint_run() method instead.\n",
      "  warnings.warn(\n",
      "\n"
     ]
    },
    {
     "data": {
      "text/plain": "Calculating Metrics:   0%|          | 0/4 [00:00<?, ?it/s]",
      "application/vnd.jupyter.widget-view+json": {
       "version_major": 2,
       "version_minor": 0,
       "model_id": "87b9214e8e1b4072a163db60d0d615d7"
      }
     },
     "metadata": {},
     "output_type": "display_data"
    },
    {
     "data": {
      "text/plain": "Calculating Metrics:   0%|          | 0/4 [00:00<?, ?it/s]",
      "application/vnd.jupyter.widget-view+json": {
       "version_major": 2,
       "version_minor": 0,
       "model_id": "f49f6ccabbd4446b8b3cb1a35d2ce730"
      }
     },
     "metadata": {},
     "output_type": "display_data"
    },
    {
     "data": {
      "text/plain": "Calculating Metrics:   0%|          | 0/4 [00:00<?, ?it/s]",
      "application/vnd.jupyter.widget-view+json": {
       "version_major": 2,
       "version_minor": 0,
       "model_id": "f0b6d364f59a4c95ac7b704f76259799"
      }
     },
     "metadata": {},
     "output_type": "display_data"
    },
    {
     "data": {
      "text/plain": "Calculating Metrics:   0%|          | 0/4 [00:00<?, ?it/s]",
      "application/vnd.jupyter.widget-view+json": {
       "version_major": 2,
       "version_minor": 0,
       "model_id": "76807baf3dac4cf29e17de08878f15c4"
      }
     },
     "metadata": {},
     "output_type": "display_data"
    },
    {
     "data": {
      "text/plain": "Calculating Metrics:   0%|          | 0/4 [00:00<?, ?it/s]",
      "application/vnd.jupyter.widget-view+json": {
       "version_major": 2,
       "version_minor": 0,
       "model_id": "1062ce4ff6fb4983b6d0a4c0c6f5d731"
      }
     },
     "metadata": {},
     "output_type": "display_data"
    },
    {
     "data": {
      "text/plain": "Calculating Metrics:   0%|          | 0/4 [00:00<?, ?it/s]",
      "application/vnd.jupyter.widget-view+json": {
       "version_major": 2,
       "version_minor": 0,
       "model_id": "62c0dbb5758a4b158aa9ec62968afc59"
      }
     },
     "metadata": {},
     "output_type": "display_data"
    },
    {
     "data": {
      "text/plain": "Calculating Metrics:   0%|          | 0/4 [00:00<?, ?it/s]",
      "application/vnd.jupyter.widget-view+json": {
       "version_major": 2,
       "version_minor": 0,
       "model_id": "862d694fb6fd4c4aa408ac8886546088"
      }
     },
     "metadata": {},
     "output_type": "display_data"
    },
    {
     "name": "stdout",
     "output_type": "stream",
     "text": [
      "2023-05-23 19:04:18,398 - py.warnings - WARNING - C:\\Users\\gdbt0\\anaconda3\\envs\\Data-preparation-pipeline\\lib\\site-packages\\great_expectations\\expectations\\expectation.py:1462: UserWarning: `result_format` configured at the Validator-level will not be persisted. Please add the configuration to your Checkpoint config or checkpoint_run() method instead.\n",
      "  warnings.warn(\n",
      "\n"
     ]
    },
    {
     "data": {
      "text/plain": "Calculating Metrics:   0%|          | 0/4 [00:00<?, ?it/s]",
      "application/vnd.jupyter.widget-view+json": {
       "version_major": 2,
       "version_minor": 0,
       "model_id": "0d40f51d17dd432bbc56b4edebe108df"
      }
     },
     "metadata": {},
     "output_type": "display_data"
    },
    {
     "name": "stdout",
     "output_type": "stream",
     "text": [
      "2023-05-23 19:04:18,414 - py.warnings - WARNING - C:\\Users\\gdbt0\\anaconda3\\envs\\Data-preparation-pipeline\\lib\\site-packages\\great_expectations\\expectations\\expectation.py:1462: UserWarning: `result_format` configured at the Validator-level will not be persisted. Please add the configuration to your Checkpoint config or checkpoint_run() method instead.\n",
      "  warnings.warn(\n",
      "\n",
      "2023-05-23 19:04:18,418 - py.warnings - WARNING - C:\\Users\\gdbt0\\anaconda3\\envs\\Data-preparation-pipeline\\lib\\site-packages\\great_expectations\\expectations\\expectation.py:1475: UserWarning: `result_format` configured at the Expectation-level will not be persisted. Please add the configuration to your Checkpoint config or checkpoint_run() method instead.\n",
      "  warnings.warn(\n",
      "\n"
     ]
    },
    {
     "data": {
      "text/plain": "Calculating Metrics:   0%|          | 0/4 [00:00<?, ?it/s]",
      "application/vnd.jupyter.widget-view+json": {
       "version_major": 2,
       "version_minor": 0,
       "model_id": "c786ed96f69249ada939cf67cc8f24e5"
      }
     },
     "metadata": {},
     "output_type": "display_data"
    },
    {
     "name": "stdout",
     "output_type": "stream",
     "text": [
      "2023-05-23 19:04:18,442 - py.warnings - WARNING - C:\\Users\\gdbt0\\anaconda3\\envs\\Data-preparation-pipeline\\lib\\site-packages\\great_expectations\\expectations\\expectation.py:1462: UserWarning: `result_format` configured at the Validator-level will not be persisted. Please add the configuration to your Checkpoint config or checkpoint_run() method instead.\n",
      "  warnings.warn(\n",
      "\n"
     ]
    },
    {
     "data": {
      "text/plain": "Calculating Metrics:   0%|          | 0/4 [00:00<?, ?it/s]",
      "application/vnd.jupyter.widget-view+json": {
       "version_major": 2,
       "version_minor": 0,
       "model_id": "12986f37054643e3ab03666ca0b6ba32"
      }
     },
     "metadata": {},
     "output_type": "display_data"
    },
    {
     "name": "stdout",
     "output_type": "stream",
     "text": [
      "2023-05-23 19:04:18,465 - py.warnings - WARNING - C:\\Users\\gdbt0\\anaconda3\\envs\\Data-preparation-pipeline\\lib\\site-packages\\great_expectations\\expectations\\expectation.py:1462: UserWarning: `result_format` configured at the Validator-level will not be persisted. Please add the configuration to your Checkpoint config or checkpoint_run() method instead.\n",
      "  warnings.warn(\n",
      "\n"
     ]
    },
    {
     "data": {
      "text/plain": "Calculating Metrics:   0%|          | 0/6 [00:00<?, ?it/s]",
      "application/vnd.jupyter.widget-view+json": {
       "version_major": 2,
       "version_minor": 0,
       "model_id": "3ec903e4c16d4954a2f58a7507d9a5ed"
      }
     },
     "metadata": {},
     "output_type": "display_data"
    },
    {
     "data": {
      "text/plain": "Calculating Metrics:   0%|          | 0/7 [00:00<?, ?it/s]",
      "application/vnd.jupyter.widget-view+json": {
       "version_major": 2,
       "version_minor": 0,
       "model_id": "8bfb0f07e11c48c78824c296246ec90f"
      }
     },
     "metadata": {},
     "output_type": "display_data"
    },
    {
     "data": {
      "text/plain": "Calculating Metrics:   0%|          | 0/7 [00:00<?, ?it/s]",
      "application/vnd.jupyter.widget-view+json": {
       "version_major": 2,
       "version_minor": 0,
       "model_id": "b9d0166093c04b79b4ba92ce584ff1e7"
      }
     },
     "metadata": {},
     "output_type": "display_data"
    },
    {
     "data": {
      "text/plain": "Calculating Metrics:   0%|          | 0/1 [00:00<?, ?it/s]",
      "application/vnd.jupyter.widget-view+json": {
       "version_major": 2,
       "version_minor": 0,
       "model_id": "daaeeb6fd2004ee5b867fffcc0f6adee"
      }
     },
     "metadata": {},
     "output_type": "display_data"
    },
    {
     "name": "stdout",
     "output_type": "stream",
     "text": [
      "2023-05-23 19:04:18,579 - py.warnings - WARNING - C:\\Users\\gdbt0\\anaconda3\\envs\\Data-preparation-pipeline\\lib\\site-packages\\great_expectations\\expectations\\expectation.py:1475: UserWarning: `result_format` configured at the Expectation-level will not be persisted. Please add the configuration to your Checkpoint config or checkpoint_run() method instead.\n",
      "  warnings.warn(\n",
      "\n"
     ]
    },
    {
     "data": {
      "text/plain": "Calculating Metrics:   0%|          | 0/4 [00:00<?, ?it/s]",
      "application/vnd.jupyter.widget-view+json": {
       "version_major": 2,
       "version_minor": 0,
       "model_id": "a3d9262748b843afbd6b3d091ee87acd"
      }
     },
     "metadata": {},
     "output_type": "display_data"
    },
    {
     "data": {
      "text/plain": "Calculating Metrics:   0%|          | 0/4 [00:00<?, ?it/s]",
      "application/vnd.jupyter.widget-view+json": {
       "version_major": 2,
       "version_minor": 0,
       "model_id": "88ebdc9d8f274500a44266ab20cbca9a"
      }
     },
     "metadata": {},
     "output_type": "display_data"
    },
    {
     "data": {
      "text/plain": "Calculating Metrics:   0%|          | 0/4 [00:00<?, ?it/s]",
      "application/vnd.jupyter.widget-view+json": {
       "version_major": 2,
       "version_minor": 0,
       "model_id": "b205a84b4b2f4e1eafbee08a491237bf"
      }
     },
     "metadata": {},
     "output_type": "display_data"
    },
    {
     "data": {
      "text/plain": "Calculating Metrics:   0%|          | 0/4 [00:00<?, ?it/s]",
      "application/vnd.jupyter.widget-view+json": {
       "version_major": 2,
       "version_minor": 0,
       "model_id": "675aaf82c94b454685455c00d9465152"
      }
     },
     "metadata": {},
     "output_type": "display_data"
    },
    {
     "data": {
      "text/plain": "Calculating Metrics:   0%|          | 0/4 [00:00<?, ?it/s]",
      "application/vnd.jupyter.widget-view+json": {
       "version_major": 2,
       "version_minor": 0,
       "model_id": "d96c2343ce9641ddac271f35e87f4b49"
      }
     },
     "metadata": {},
     "output_type": "display_data"
    },
    {
     "data": {
      "text/plain": "Calculating Metrics:   0%|          | 0/4 [00:00<?, ?it/s]",
      "application/vnd.jupyter.widget-view+json": {
       "version_major": 2,
       "version_minor": 0,
       "model_id": "57d37f6a0b1c4680b71584ea3bf395a2"
      }
     },
     "metadata": {},
     "output_type": "display_data"
    },
    {
     "data": {
      "text/plain": "Calculating Metrics:   0%|          | 0/4 [00:00<?, ?it/s]",
      "application/vnd.jupyter.widget-view+json": {
       "version_major": 2,
       "version_minor": 0,
       "model_id": "755d657155404b9995f1588ca52e71de"
      }
     },
     "metadata": {},
     "output_type": "display_data"
    },
    {
     "name": "stdout",
     "output_type": "stream",
     "text": [
      "2023-05-23 19:04:18,678 - py.warnings - WARNING - C:\\Users\\gdbt0\\anaconda3\\envs\\Data-preparation-pipeline\\lib\\site-packages\\great_expectations\\expectations\\expectation.py:1462: UserWarning: `result_format` configured at the Validator-level will not be persisted. Please add the configuration to your Checkpoint config or checkpoint_run() method instead.\n",
      "  warnings.warn(\n",
      "\n"
     ]
    },
    {
     "data": {
      "text/plain": "Calculating Metrics:   0%|          | 0/4 [00:00<?, ?it/s]",
      "application/vnd.jupyter.widget-view+json": {
       "version_major": 2,
       "version_minor": 0,
       "model_id": "631aa8d698884658a4959745c07bb654"
      }
     },
     "metadata": {},
     "output_type": "display_data"
    },
    {
     "name": "stdout",
     "output_type": "stream",
     "text": [
      "2023-05-23 19:04:18,697 - py.warnings - WARNING - C:\\Users\\gdbt0\\anaconda3\\envs\\Data-preparation-pipeline\\lib\\site-packages\\great_expectations\\expectations\\expectation.py:1462: UserWarning: `result_format` configured at the Validator-level will not be persisted. Please add the configuration to your Checkpoint config or checkpoint_run() method instead.\n",
      "  warnings.warn(\n",
      "\n",
      "2023-05-23 19:04:18,700 - py.warnings - WARNING - C:\\Users\\gdbt0\\anaconda3\\envs\\Data-preparation-pipeline\\lib\\site-packages\\great_expectations\\expectations\\expectation.py:1475: UserWarning: `result_format` configured at the Expectation-level will not be persisted. Please add the configuration to your Checkpoint config or checkpoint_run() method instead.\n",
      "  warnings.warn(\n",
      "\n"
     ]
    },
    {
     "data": {
      "text/plain": "Calculating Metrics:   0%|          | 0/4 [00:00<?, ?it/s]",
      "application/vnd.jupyter.widget-view+json": {
       "version_major": 2,
       "version_minor": 0,
       "model_id": "d282fcca1baa4bd99e803d66847cd76e"
      }
     },
     "metadata": {},
     "output_type": "display_data"
    },
    {
     "name": "stdout",
     "output_type": "stream",
     "text": [
      "2023-05-23 19:04:18,718 - py.warnings - WARNING - C:\\Users\\gdbt0\\anaconda3\\envs\\Data-preparation-pipeline\\lib\\site-packages\\great_expectations\\expectations\\expectation.py:1462: UserWarning: `result_format` configured at the Validator-level will not be persisted. Please add the configuration to your Checkpoint config or checkpoint_run() method instead.\n",
      "  warnings.warn(\n",
      "\n"
     ]
    },
    {
     "data": {
      "text/plain": "Calculating Metrics:   0%|          | 0/4 [00:00<?, ?it/s]",
      "application/vnd.jupyter.widget-view+json": {
       "version_major": 2,
       "version_minor": 0,
       "model_id": "63d8af16380140baad6b899cea6fcc9d"
      }
     },
     "metadata": {},
     "output_type": "display_data"
    },
    {
     "name": "stdout",
     "output_type": "stream",
     "text": [
      "2023-05-23 19:04:18,736 - py.warnings - WARNING - C:\\Users\\gdbt0\\anaconda3\\envs\\Data-preparation-pipeline\\lib\\site-packages\\great_expectations\\expectations\\expectation.py:1462: UserWarning: `result_format` configured at the Validator-level will not be persisted. Please add the configuration to your Checkpoint config or checkpoint_run() method instead.\n",
      "  warnings.warn(\n",
      "\n"
     ]
    },
    {
     "data": {
      "text/plain": "Calculating Metrics:   0%|          | 0/6 [00:00<?, ?it/s]",
      "application/vnd.jupyter.widget-view+json": {
       "version_major": 2,
       "version_minor": 0,
       "model_id": "130f74a85f754de39372781bb99543e9"
      }
     },
     "metadata": {},
     "output_type": "display_data"
    },
    {
     "data": {
      "text/plain": "Calculating Metrics:   0%|          | 0/7 [00:00<?, ?it/s]",
      "application/vnd.jupyter.widget-view+json": {
       "version_major": 2,
       "version_minor": 0,
       "model_id": "97a58bb8ddad43bd9ad216ce0cfc1db6"
      }
     },
     "metadata": {},
     "output_type": "display_data"
    },
    {
     "data": {
      "text/plain": "Calculating Metrics:   0%|          | 0/7 [00:00<?, ?it/s]",
      "application/vnd.jupyter.widget-view+json": {
       "version_major": 2,
       "version_minor": 0,
       "model_id": "7b267d7697af4c73a7b748226df56f0f"
      }
     },
     "metadata": {},
     "output_type": "display_data"
    },
    {
     "data": {
      "text/plain": "Calculating Metrics:   0%|          | 0/1 [00:00<?, ?it/s]",
      "application/vnd.jupyter.widget-view+json": {
       "version_major": 2,
       "version_minor": 0,
       "model_id": "c30d284cf95b4bd2b37a331ddbe1670e"
      }
     },
     "metadata": {},
     "output_type": "display_data"
    },
    {
     "name": "stdout",
     "output_type": "stream",
     "text": [
      "2023-05-23 19:04:18,844 - py.warnings - WARNING - C:\\Users\\gdbt0\\anaconda3\\envs\\Data-preparation-pipeline\\lib\\site-packages\\great_expectations\\expectations\\expectation.py:1475: UserWarning: `result_format` configured at the Expectation-level will not be persisted. Please add the configuration to your Checkpoint config or checkpoint_run() method instead.\n",
      "  warnings.warn(\n",
      "\n"
     ]
    },
    {
     "data": {
      "text/plain": "Calculating Metrics:   0%|          | 0/4 [00:00<?, ?it/s]",
      "application/vnd.jupyter.widget-view+json": {
       "version_major": 2,
       "version_minor": 0,
       "model_id": "f2a641a00b2b4aabbe4650abafec66e2"
      }
     },
     "metadata": {},
     "output_type": "display_data"
    },
    {
     "data": {
      "text/plain": "Calculating Metrics:   0%|          | 0/4 [00:00<?, ?it/s]",
      "application/vnd.jupyter.widget-view+json": {
       "version_major": 2,
       "version_minor": 0,
       "model_id": "632d2ff4a5d846059b2bb583800978a3"
      }
     },
     "metadata": {},
     "output_type": "display_data"
    },
    {
     "data": {
      "text/plain": "Calculating Metrics:   0%|          | 0/4 [00:00<?, ?it/s]",
      "application/vnd.jupyter.widget-view+json": {
       "version_major": 2,
       "version_minor": 0,
       "model_id": "5e45fde64bca4f26bad57d327b2536be"
      }
     },
     "metadata": {},
     "output_type": "display_data"
    },
    {
     "data": {
      "text/plain": "Calculating Metrics:   0%|          | 0/4 [00:00<?, ?it/s]",
      "application/vnd.jupyter.widget-view+json": {
       "version_major": 2,
       "version_minor": 0,
       "model_id": "0cc92a54792442ee8a06ec20dbdc629f"
      }
     },
     "metadata": {},
     "output_type": "display_data"
    },
    {
     "data": {
      "text/plain": "Calculating Metrics:   0%|          | 0/4 [00:00<?, ?it/s]",
      "application/vnd.jupyter.widget-view+json": {
       "version_major": 2,
       "version_minor": 0,
       "model_id": "34af1d0db6fe4d82975853de24ed5751"
      }
     },
     "metadata": {},
     "output_type": "display_data"
    },
    {
     "data": {
      "text/plain": "Calculating Metrics:   0%|          | 0/4 [00:00<?, ?it/s]",
      "application/vnd.jupyter.widget-view+json": {
       "version_major": 2,
       "version_minor": 0,
       "model_id": "9c26b0ccb57349f6a32847c751ff2964"
      }
     },
     "metadata": {},
     "output_type": "display_data"
    },
    {
     "data": {
      "text/plain": "Calculating Metrics:   0%|          | 0/4 [00:00<?, ?it/s]",
      "application/vnd.jupyter.widget-view+json": {
       "version_major": 2,
       "version_minor": 0,
       "model_id": "9eb9e80d26f84966903f8013064f5067"
      }
     },
     "metadata": {},
     "output_type": "display_data"
    },
    {
     "name": "stdout",
     "output_type": "stream",
     "text": [
      "2023-05-23 19:04:18,957 - py.warnings - WARNING - C:\\Users\\gdbt0\\anaconda3\\envs\\Data-preparation-pipeline\\lib\\site-packages\\great_expectations\\expectations\\expectation.py:1462: UserWarning: `result_format` configured at the Validator-level will not be persisted. Please add the configuration to your Checkpoint config or checkpoint_run() method instead.\n",
      "  warnings.warn(\n",
      "\n"
     ]
    },
    {
     "data": {
      "text/plain": "Calculating Metrics:   0%|          | 0/4 [00:00<?, ?it/s]",
      "application/vnd.jupyter.widget-view+json": {
       "version_major": 2,
       "version_minor": 0,
       "model_id": "126b772c96dd4667a9b2c8bb444b0057"
      }
     },
     "metadata": {},
     "output_type": "display_data"
    },
    {
     "name": "stdout",
     "output_type": "stream",
     "text": [
      "2023-05-23 19:04:18,977 - py.warnings - WARNING - C:\\Users\\gdbt0\\anaconda3\\envs\\Data-preparation-pipeline\\lib\\site-packages\\great_expectations\\expectations\\expectation.py:1462: UserWarning: `result_format` configured at the Validator-level will not be persisted. Please add the configuration to your Checkpoint config or checkpoint_run() method instead.\n",
      "  warnings.warn(\n",
      "\n",
      "2023-05-23 19:04:18,980 - py.warnings - WARNING - C:\\Users\\gdbt0\\anaconda3\\envs\\Data-preparation-pipeline\\lib\\site-packages\\great_expectations\\expectations\\expectation.py:1475: UserWarning: `result_format` configured at the Expectation-level will not be persisted. Please add the configuration to your Checkpoint config or checkpoint_run() method instead.\n",
      "  warnings.warn(\n",
      "\n"
     ]
    },
    {
     "data": {
      "text/plain": "Calculating Metrics:   0%|          | 0/4 [00:00<?, ?it/s]",
      "application/vnd.jupyter.widget-view+json": {
       "version_major": 2,
       "version_minor": 0,
       "model_id": "05240a41f2184f79bd0cfdc82c187ab7"
      }
     },
     "metadata": {},
     "output_type": "display_data"
    },
    {
     "name": "stdout",
     "output_type": "stream",
     "text": [
      "2023-05-23 19:04:19,003 - py.warnings - WARNING - C:\\Users\\gdbt0\\anaconda3\\envs\\Data-preparation-pipeline\\lib\\site-packages\\great_expectations\\expectations\\expectation.py:1462: UserWarning: `result_format` configured at the Validator-level will not be persisted. Please add the configuration to your Checkpoint config or checkpoint_run() method instead.\n",
      "  warnings.warn(\n",
      "\n"
     ]
    },
    {
     "data": {
      "text/plain": "Calculating Metrics:   0%|          | 0/4 [00:00<?, ?it/s]",
      "application/vnd.jupyter.widget-view+json": {
       "version_major": 2,
       "version_minor": 0,
       "model_id": "161412cb2edc403792b7183b3c42a6f3"
      }
     },
     "metadata": {},
     "output_type": "display_data"
    },
    {
     "name": "stdout",
     "output_type": "stream",
     "text": [
      "2023-05-23 19:04:19,024 - py.warnings - WARNING - C:\\Users\\gdbt0\\anaconda3\\envs\\Data-preparation-pipeline\\lib\\site-packages\\great_expectations\\expectations\\expectation.py:1462: UserWarning: `result_format` configured at the Validator-level will not be persisted. Please add the configuration to your Checkpoint config or checkpoint_run() method instead.\n",
      "  warnings.warn(\n",
      "\n"
     ]
    },
    {
     "data": {
      "text/plain": "Calculating Metrics:   0%|          | 0/6 [00:00<?, ?it/s]",
      "application/vnd.jupyter.widget-view+json": {
       "version_major": 2,
       "version_minor": 0,
       "model_id": "93cd2e9e61ba41a09fbfae116a900e11"
      }
     },
     "metadata": {},
     "output_type": "display_data"
    },
    {
     "data": {
      "text/plain": "Calculating Metrics:   0%|          | 0/7 [00:00<?, ?it/s]",
      "application/vnd.jupyter.widget-view+json": {
       "version_major": 2,
       "version_minor": 0,
       "model_id": "c7a709be045a49c5ab3957440ae5a323"
      }
     },
     "metadata": {},
     "output_type": "display_data"
    },
    {
     "data": {
      "text/plain": "Calculating Metrics:   0%|          | 0/7 [00:00<?, ?it/s]",
      "application/vnd.jupyter.widget-view+json": {
       "version_major": 2,
       "version_minor": 0,
       "model_id": "64fed2160c734559a4731b5436acf01a"
      }
     },
     "metadata": {},
     "output_type": "display_data"
    },
    {
     "data": {
      "text/plain": "Calculating Metrics:   0%|          | 0/1 [00:00<?, ?it/s]",
      "application/vnd.jupyter.widget-view+json": {
       "version_major": 2,
       "version_minor": 0,
       "model_id": "e77fca07c0964d999273f69e85e347f5"
      }
     },
     "metadata": {},
     "output_type": "display_data"
    },
    {
     "name": "stdout",
     "output_type": "stream",
     "text": [
      "2023-05-23 19:04:19,131 - py.warnings - WARNING - C:\\Users\\gdbt0\\anaconda3\\envs\\Data-preparation-pipeline\\lib\\site-packages\\great_expectations\\expectations\\expectation.py:1475: UserWarning: `result_format` configured at the Expectation-level will not be persisted. Please add the configuration to your Checkpoint config or checkpoint_run() method instead.\n",
      "  warnings.warn(\n",
      "\n"
     ]
    },
    {
     "data": {
      "text/plain": "Calculating Metrics:   0%|          | 0/4 [00:00<?, ?it/s]",
      "application/vnd.jupyter.widget-view+json": {
       "version_major": 2,
       "version_minor": 0,
       "model_id": "5e4609194e2b4afe9c27374e6b7775ff"
      }
     },
     "metadata": {},
     "output_type": "display_data"
    },
    {
     "data": {
      "text/plain": "Calculating Metrics:   0%|          | 0/4 [00:00<?, ?it/s]",
      "application/vnd.jupyter.widget-view+json": {
       "version_major": 2,
       "version_minor": 0,
       "model_id": "760c0e3101ad4bc5a5bf83ae58ea13fd"
      }
     },
     "metadata": {},
     "output_type": "display_data"
    },
    {
     "data": {
      "text/plain": "Calculating Metrics:   0%|          | 0/4 [00:00<?, ?it/s]",
      "application/vnd.jupyter.widget-view+json": {
       "version_major": 2,
       "version_minor": 0,
       "model_id": "15d446ab57774e22ad9c0a09f38ae9b7"
      }
     },
     "metadata": {},
     "output_type": "display_data"
    },
    {
     "data": {
      "text/plain": "Calculating Metrics:   0%|          | 0/4 [00:00<?, ?it/s]",
      "application/vnd.jupyter.widget-view+json": {
       "version_major": 2,
       "version_minor": 0,
       "model_id": "c6b88bb0e4924231a0348b43b2c4a05a"
      }
     },
     "metadata": {},
     "output_type": "display_data"
    },
    {
     "data": {
      "text/plain": "Calculating Metrics:   0%|          | 0/4 [00:00<?, ?it/s]",
      "application/vnd.jupyter.widget-view+json": {
       "version_major": 2,
       "version_minor": 0,
       "model_id": "db87f3acc37a4019ae4b2388e89ef904"
      }
     },
     "metadata": {},
     "output_type": "display_data"
    },
    {
     "data": {
      "text/plain": "Calculating Metrics:   0%|          | 0/4 [00:00<?, ?it/s]",
      "application/vnd.jupyter.widget-view+json": {
       "version_major": 2,
       "version_minor": 0,
       "model_id": "dccb562602f849af89fd09f65f975ded"
      }
     },
     "metadata": {},
     "output_type": "display_data"
    },
    {
     "data": {
      "text/plain": "Calculating Metrics:   0%|          | 0/4 [00:00<?, ?it/s]",
      "application/vnd.jupyter.widget-view+json": {
       "version_major": 2,
       "version_minor": 0,
       "model_id": "6a8b0ab78f8246d88e94290d068dd07c"
      }
     },
     "metadata": {},
     "output_type": "display_data"
    },
    {
     "name": "stdout",
     "output_type": "stream",
     "text": [
      "2023-05-23 19:04:19,243 - py.warnings - WARNING - C:\\Users\\gdbt0\\anaconda3\\envs\\Data-preparation-pipeline\\lib\\site-packages\\great_expectations\\expectations\\expectation.py:1462: UserWarning: `result_format` configured at the Validator-level will not be persisted. Please add the configuration to your Checkpoint config or checkpoint_run() method instead.\n",
      "  warnings.warn(\n",
      "\n"
     ]
    },
    {
     "data": {
      "text/plain": "Calculating Metrics:   0%|          | 0/4 [00:00<?, ?it/s]",
      "application/vnd.jupyter.widget-view+json": {
       "version_major": 2,
       "version_minor": 0,
       "model_id": "91370a4f8a4e4b889d7d9737818d9ab1"
      }
     },
     "metadata": {},
     "output_type": "display_data"
    },
    {
     "name": "stdout",
     "output_type": "stream",
     "text": [
      "2023-05-23 19:04:19,262 - py.warnings - WARNING - C:\\Users\\gdbt0\\anaconda3\\envs\\Data-preparation-pipeline\\lib\\site-packages\\great_expectations\\expectations\\expectation.py:1462: UserWarning: `result_format` configured at the Validator-level will not be persisted. Please add the configuration to your Checkpoint config or checkpoint_run() method instead.\n",
      "  warnings.warn(\n",
      "\n",
      "2023-05-23 19:04:19,264 - py.warnings - WARNING - C:\\Users\\gdbt0\\anaconda3\\envs\\Data-preparation-pipeline\\lib\\site-packages\\great_expectations\\expectations\\expectation.py:1475: UserWarning: `result_format` configured at the Expectation-level will not be persisted. Please add the configuration to your Checkpoint config or checkpoint_run() method instead.\n",
      "  warnings.warn(\n",
      "\n"
     ]
    },
    {
     "data": {
      "text/plain": "Calculating Metrics:   0%|          | 0/4 [00:00<?, ?it/s]",
      "application/vnd.jupyter.widget-view+json": {
       "version_major": 2,
       "version_minor": 0,
       "model_id": "f1fc6a80a72d452997bf94b34341c526"
      }
     },
     "metadata": {},
     "output_type": "display_data"
    },
    {
     "name": "stdout",
     "output_type": "stream",
     "text": [
      "2023-05-23 19:04:19,285 - py.warnings - WARNING - C:\\Users\\gdbt0\\anaconda3\\envs\\Data-preparation-pipeline\\lib\\site-packages\\great_expectations\\expectations\\expectation.py:1462: UserWarning: `result_format` configured at the Validator-level will not be persisted. Please add the configuration to your Checkpoint config or checkpoint_run() method instead.\n",
      "  warnings.warn(\n",
      "\n"
     ]
    },
    {
     "data": {
      "text/plain": "Calculating Metrics:   0%|          | 0/4 [00:00<?, ?it/s]",
      "application/vnd.jupyter.widget-view+json": {
       "version_major": 2,
       "version_minor": 0,
       "model_id": "bcf286adbc034114896b3116b9587f1f"
      }
     },
     "metadata": {},
     "output_type": "display_data"
    },
    {
     "name": "stdout",
     "output_type": "stream",
     "text": [
      "2023-05-23 19:04:19,304 - py.warnings - WARNING - C:\\Users\\gdbt0\\anaconda3\\envs\\Data-preparation-pipeline\\lib\\site-packages\\great_expectations\\expectations\\expectation.py:1462: UserWarning: `result_format` configured at the Validator-level will not be persisted. Please add the configuration to your Checkpoint config or checkpoint_run() method instead.\n",
      "  warnings.warn(\n",
      "\n"
     ]
    },
    {
     "data": {
      "text/plain": "Calculating Metrics:   0%|          | 0/6 [00:00<?, ?it/s]",
      "application/vnd.jupyter.widget-view+json": {
       "version_major": 2,
       "version_minor": 0,
       "model_id": "d602fe96c2654113b66ba8ffc0cc1995"
      }
     },
     "metadata": {},
     "output_type": "display_data"
    },
    {
     "data": {
      "text/plain": "Calculating Metrics:   0%|          | 0/7 [00:00<?, ?it/s]",
      "application/vnd.jupyter.widget-view+json": {
       "version_major": 2,
       "version_minor": 0,
       "model_id": "25c648da9ce14f6291bd57b8d58510e7"
      }
     },
     "metadata": {},
     "output_type": "display_data"
    },
    {
     "data": {
      "text/plain": "Calculating Metrics:   0%|          | 0/7 [00:00<?, ?it/s]",
      "application/vnd.jupyter.widget-view+json": {
       "version_major": 2,
       "version_minor": 0,
       "model_id": "9ed83566204e4b18bee9bd2573f85503"
      }
     },
     "metadata": {},
     "output_type": "display_data"
    },
    {
     "data": {
      "text/plain": "Calculating Metrics:   0%|          | 0/1 [00:00<?, ?it/s]",
      "application/vnd.jupyter.widget-view+json": {
       "version_major": 2,
       "version_minor": 0,
       "model_id": "ef2bd09525e84cfd89eb79432d42eefc"
      }
     },
     "metadata": {},
     "output_type": "display_data"
    },
    {
     "name": "stdout",
     "output_type": "stream",
     "text": [
      "2023-05-23 19:04:19,405 - great_expectations.validator.validator - INFO - \t45 expectation(s) included in expectation_suite.\n",
      "Creating an expectation suite with the following expectations:\n",
      "\n",
      "Table-Level Expectations\n",
      "expect_table_columns_to_match_ordered_list\n",
      "expect_table_row_count_to_be_between\n",
      "\n",
      "Expectations by Column\n",
      "Column Name: Headcount_Female | Column Data Type: INT | Cardinality: UNIQUE\n",
      "expect_column_max_to_be_between\n",
      "expect_column_mean_to_be_between\n",
      "expect_column_median_to_be_between\n",
      "expect_column_min_to_be_between\n",
      "expect_column_proportion_of_unique_values_to_be_between\n",
      "expect_column_quantile_values_to_be_between\n",
      "expect_column_values_to_be_in_type_list\n",
      "expect_column_values_to_not_be_null\n",
      "\n",
      "\n",
      "Column Name: Headcount_Male | Column Data Type: INT | Cardinality: UNIQUE\n",
      "expect_column_max_to_be_between\n",
      "expect_column_mean_to_be_between\n",
      "expect_column_median_to_be_between\n",
      "expect_column_min_to_be_between\n",
      "expect_column_proportion_of_unique_values_to_be_between\n",
      "expect_column_quantile_values_to_be_between\n",
      "expect_column_values_to_be_in_type_list\n",
      "expect_column_values_to_not_be_null\n",
      "\n",
      "\n",
      "Column Name: Headcount_Total | Column Data Type: INT | Cardinality: UNIQUE\n",
      "expect_column_max_to_be_between\n",
      "expect_column_mean_to_be_between\n",
      "expect_column_median_to_be_between\n",
      "expect_column_min_to_be_between\n",
      "expect_column_proportion_of_unique_values_to_be_between\n",
      "expect_column_quantile_values_to_be_between\n",
      "expect_column_values_to_be_in_type_list\n",
      "expect_column_values_to_not_be_null\n",
      "\n",
      "\n",
      "Column Name: Other entities | Column Data Type: STRING | Cardinality: UNIQUE\n",
      "expect_column_proportion_of_unique_values_to_be_between\n",
      "expect_column_values_to_be_in_type_list\n",
      "expect_column_values_to_not_be_null\n",
      "\n",
      "\n",
      "Column Name: Percentage_Female | Column Data Type: FLOAT | Cardinality: UNIQUE\n",
      "expect_column_max_to_be_between\n",
      "expect_column_mean_to_be_between\n",
      "expect_column_median_to_be_between\n",
      "expect_column_min_to_be_between\n",
      "expect_column_proportion_of_unique_values_to_be_between\n",
      "expect_column_quantile_values_to_be_between\n",
      "expect_column_values_to_be_in_type_list\n",
      "expect_column_values_to_not_be_null\n",
      "\n",
      "\n",
      "Column Name: Percentage_Male | Column Data Type: FLOAT | Cardinality: UNIQUE\n",
      "expect_column_max_to_be_between\n",
      "expect_column_mean_to_be_between\n",
      "expect_column_median_to_be_between\n",
      "expect_column_min_to_be_between\n",
      "expect_column_proportion_of_unique_values_to_be_between\n",
      "expect_column_quantile_values_to_be_between\n",
      "expect_column_values_to_be_in_type_list\n",
      "expect_column_values_to_not_be_null\n",
      "\n",
      "\n"
     ]
    }
   ],
   "source": [
    "# Use the profiler to build a suite\n",
    "suite = profiler.build_suite()"
   ],
   "metadata": {
    "collapsed": false,
    "pycharm": {
     "name": "#%%\n"
    }
   }
  },
  {
   "cell_type": "code",
   "execution_count": 42,
   "outputs": [
    {
     "name": "stdout",
     "output_type": "stream",
     "text": [
      "2023-05-23 21:01:35,482 - great_expectations.validator.validator - INFO - \t8 expectation(s) included in expectation_suite.\n",
      "{\n",
      "  \"expectation_suite_name\": \"processed_data_suite\",\n",
      "  \"ge_cloud_id\": null,\n",
      "  \"data_asset_type\": null,\n",
      "  \"meta\": {\n",
      "    \"great_expectations_version\": \"0.16.13\"\n",
      "  },\n",
      "  \"expectations\": [\n",
      "    {\n",
      "      \"meta\": {},\n",
      "      \"expectation_type\": \"expect_column_values_to_not_be_null\",\n",
      "      \"kwargs\": {\n",
      "        \"column\": \"Other entities\"\n",
      "      }\n",
      "    },\n",
      "    {\n",
      "      \"meta\": {},\n",
      "      \"expectation_type\": \"expect_column_values_to_not_be_null\",\n",
      "      \"kwargs\": {\n",
      "        \"column\": \"Other entities\"\n",
      "      }\n",
      "    },\n",
      "    {\n",
      "      \"meta\": {},\n",
      "      \"expectation_type\": \"expect_column_values_to_not_be_null\",\n",
      "      \"kwargs\": {\n",
      "        \"column\": \"Other entities\"\n",
      "      }\n",
      "    },\n",
      "    {\n",
      "      \"meta\": {},\n",
      "      \"expectation_type\": \"expect_column_values_to_not_be_null\",\n",
      "      \"kwargs\": {\n",
      "        \"column\": \"Other entities\"\n",
      "      }\n",
      "    },\n",
      "    {\n",
      "      \"meta\": {},\n",
      "      \"expectation_type\": \"expect_column_values_to_not_be_null\",\n",
      "      \"kwargs\": {\n",
      "        \"column\": \"Other entities\"\n",
      "      }\n",
      "    },\n",
      "    {\n",
      "      \"meta\": {},\n",
      "      \"expectation_type\": \"expect_column_values_to_not_be_null\",\n",
      "      \"kwargs\": {\n",
      "        \"column\": \"Other entities\"\n",
      "      }\n",
      "    },\n",
      "    {\n",
      "      \"meta\": {},\n",
      "      \"expectation_type\": \"expect_column_values_to_not_be_null\",\n",
      "      \"kwargs\": {\n",
      "        \"column\": \"Other entities\"\n",
      "      }\n",
      "    },\n",
      "    {\n",
      "      \"meta\": {},\n",
      "      \"expectation_type\": \"expect_column_values_to_not_be_null\",\n",
      "      \"kwargs\": {\n",
      "        \"column\": \"Other entities\"\n",
      "      }\n",
      "    }\n",
      "  ]\n",
      "}\n",
      "2023-05-23 21:01:35,485 - great_expectations.validator.validator - INFO - \t8 expectation(s) included in expectation_suite.\n"
     ]
    }
   ],
   "source": [
    "from great_expectations.checkpoint.checkpoint import SimpleCheckpoint\n",
    "\n",
    "# Review and save our Expectation Suite\n",
    "print(validator.get_expectation_suite(discard_failed_expectations=False))\n",
    "validator.save_expectation_suite(discard_failed_expectations=False)\n",
    "\n",
    "# Set up and run a Simple Checkpoint for ad hoc validation of our data\n",
    "checkpoint_config = {\n",
    "    \"class_name\": \"SimpleCheckpoint\",\n",
    "    \"validations\": [\n",
    "        {\n",
    "            \"batch_request\": batch_request,\n",
    "            \"expectation_suite_name\": expectation_suite_name,\n",
    "        }\n",
    "    ],\n",
    "}"
   ],
   "metadata": {
    "collapsed": false,
    "pycharm": {
     "name": "#%%\n"
    }
   }
  },
  {
   "cell_type": "code",
   "execution_count": 43,
   "outputs": [
    {
     "name": "stdout",
     "output_type": "stream",
     "text": [
      "2023-05-23 21:01:35,975 - great_expectations.datasource.fluent.fluent_base_model - INFO - PandasS3Datasource.dict() - substituting config values\n",
      "2023-05-23 21:01:35,976 - great_expectations.datasource.data_connector.batch_filter - INFO - batch_slice: None was parsed to: slice(0, None, None)\n",
      "2023-05-23 21:01:35,977 - great_expectations.datasource.data_connector.batch_filter - INFO - batch_slice: slice(0, None, None) was parsed to: slice(0, None, None)\n",
      "2023-05-23 21:01:35,979 - great_expectations.datasource.fluent.fluent_base_model - INFO - CSVAsset.dict() - substituting config values\n",
      "2023-05-23 21:01:36,267 - great_expectations.validator.validator - INFO - \t8 expectation(s) included in expectation_suite.\n"
     ]
    },
    {
     "data": {
      "text/plain": "Calculating Metrics:   0%|          | 0/8 [00:00<?, ?it/s]",
      "application/vnd.jupyter.widget-view+json": {
       "version_major": 2,
       "version_minor": 0,
       "model_id": "1d4a34145b6645c08249be47c2129e0b"
      }
     },
     "metadata": {},
     "output_type": "display_data"
    },
    {
     "data": {
      "text/plain": "{'local_site': 'file://C:\\\\Users\\\\gdbt0\\\\Projects\\\\Data-preparation-pipeline\\\\data-processing-pipeline\\\\great_expectations\\\\uncommitted/data_docs/local_site/index.html'}"
     },
     "execution_count": 43,
     "metadata": {},
     "output_type": "execute_result"
    }
   ],
   "source": [
    "checkpoint_name = \"processed_data_checkpoint\"\n",
    "checkpoint = gx.checkpoint.SimpleCheckpoint(\n",
    "    name = checkpoint_name,\n",
    "    data_context = context,\n",
    "    **checkpoint_config,\n",
    ")\n",
    "checkpoint_result = checkpoint.run()\n",
    "\n",
    "# Build Data Docs\n",
    "context.build_data_docs()"
   ],
   "metadata": {
    "collapsed": false,
    "pycharm": {
     "name": "#%%\n"
    }
   }
  },
  {
   "cell_type": "code",
   "execution_count": 44,
   "outputs": [
    {
     "name": "stdout",
     "output_type": "stream",
     "text": [
      "2023-05-23 21:01:37,789 - py.warnings - WARNING - C:\\Users\\gdbt0\\anaconda3\\envs\\Data-preparation-pipeline\\lib\\site-packages\\great_expectations\\data_context\\data_context\\abstract_data_context.py:1895: DeprecationWarning: A Checkpoint named processed_data_checkpoint already exists.; using add_checkpoint to overwrite an existing value is deprecated as of v0.15.50 and will be removed in v0.18. Please use add_or_update_checkpoint instead.\n",
      "  warnings.warn(\n",
      "\n"
     ]
    }
   ],
   "source": [
    "# add (save) the checkpoint to the data context\n",
    "context.add_checkpoint(checkpoint=checkpoint)\n",
    "cp = context.get_checkpoint(name=checkpoint_name)\n",
    "assert cp.name == checkpoint_name"
   ],
   "metadata": {
    "collapsed": false,
    "pycharm": {
     "name": "#%%\n"
    }
   }
  },
  {
   "cell_type": "code",
   "execution_count": 45,
   "outputs": [],
   "source": [
    "# Get the only validation_result_identifier from our SimpleCheckpoint run, and open Data Docs to that page\n",
    "validation_result_identifier = checkpoint_result.list_validation_result_identifiers()[0]\n",
    "context.open_data_docs(resource_identifier=validation_result_identifier)\n"
   ],
   "metadata": {
    "collapsed": false,
    "pycharm": {
     "name": "#%%\n"
    }
   }
  },
  {
   "cell_type": "code",
   "execution_count": 46,
   "outputs": [
    {
     "name": "stdout",
     "output_type": "stream",
     "text": [
      "[ { 'expect_table_columns_to_match_ordered_list': { 'column_list': [ 'Other '\n",
      "                                                                     'entities',\n",
      "                                                                     'Headcount_Female',\n",
      "                                                                     'Headcount_Male',\n",
      "                                                                     'Headcount_Total',\n",
      "                                                                     'Percentage_Female',\n",
      "                                                                     'Percentage_Male'],\n",
      "                                                    'domain': 'table'}},\n",
      "  { 'expect_table_row_count_to_be_between': { 'domain': 'table',\n",
      "                                              'max_value': 11,\n",
      "                                              'min_value': 11}},\n",
      "  { 'expect_column_max_to_be_between': { 'column': 'Headcount_Female',\n",
      "                                         'domain': 'column',\n",
      "                                         'max_value': 194358,\n",
      "                                         'min_value': 194358}},\n",
      "  { 'expect_column_max_to_be_between': { 'column': 'Headcount_Male',\n",
      "                                         'domain': 'column',\n",
      "                                         'max_value': 85689,\n",
      "                                         'min_value': 85689}},\n",
      "  { 'expect_column_max_to_be_between': { 'column': 'Headcount_Total',\n",
      "                                         'domain': 'column',\n",
      "                                         'max_value': 280047,\n",
      "                                         'min_value': 280047}},\n",
      "  { 'expect_column_max_to_be_between': { 'column': 'Percentage_Female',\n",
      "                                         'domain': 'column',\n",
      "                                         'max_value': 0.7954545454545454,\n",
      "                                         'min_value': 0.7954545454545454}},\n",
      "  { 'expect_column_max_to_be_between': { 'column': 'Percentage_Male',\n",
      "                                         'domain': 'column',\n",
      "                                         'max_value': 0.5945945945945946,\n",
      "                                         'min_value': 0.5945945945945946}},\n",
      "  { 'expect_column_mean_to_be_between': { 'column': 'Headcount_Female',\n",
      "                                          'domain': 'column',\n",
      "                                          'max_value': 17956.545454545456,\n",
      "                                          'min_value': 17956.545454545456}},\n",
      "  { 'expect_column_mean_to_be_between': { 'column': 'Headcount_Male',\n",
      "                                          'domain': 'column',\n",
      "                                          'max_value': 7931.363636363636,\n",
      "                                          'min_value': 7931.363636363636}},\n",
      "  { 'expect_column_mean_to_be_between': { 'column': 'Headcount_Total',\n",
      "                                          'domain': 'column',\n",
      "                                          'max_value': 25887.909090909092,\n",
      "                                          'min_value': 25887.909090909092}},\n",
      "  { 'expect_column_mean_to_be_between': { 'column': 'Percentage_Female',\n",
      "                                          'domain': 'column',\n",
      "                                          'max_value': 0.6773614623209014,\n",
      "                                          'min_value': 0.6773614623209014}},\n",
      "  { 'expect_column_mean_to_be_between': { 'column': 'Percentage_Male',\n",
      "                                          'domain': 'column',\n",
      "                                          'max_value': 0.3226385376790985,\n",
      "                                          'min_value': 0.3226385376790985}},\n",
      "  { 'expect_column_median_to_be_between': { 'column': 'Headcount_Female',\n",
      "                                            'domain': 'column',\n",
      "                                            'max_value': 219.0,\n",
      "                                            'min_value': 219.0}},\n",
      "  { 'expect_column_median_to_be_between': { 'column': 'Headcount_Male',\n",
      "                                            'domain': 'column',\n",
      "                                            'max_value': 110.0,\n",
      "                                            'min_value': 110.0}},\n",
      "  { 'expect_column_median_to_be_between': { 'column': 'Headcount_Total',\n",
      "                                            'domain': 'column',\n",
      "                                            'max_value': 329.0,\n",
      "                                            'min_value': 329.0}},\n",
      "  { 'expect_column_median_to_be_between': { 'column': 'Percentage_Female',\n",
      "                                            'domain': 'column',\n",
      "                                            'max_value': 0.6940192182026589,\n",
      "                                            'min_value': 0.6940192182026589}},\n",
      "  { 'expect_column_median_to_be_between': { 'column': 'Percentage_Male',\n",
      "                                            'domain': 'column',\n",
      "                                            'max_value': 0.3059807817973412,\n",
      "                                            'min_value': 0.3059807817973412}},\n",
      "  { 'expect_column_min_to_be_between': { 'column': 'Headcount_Female',\n",
      "                                         'domain': 'column',\n",
      "                                         'max_value': 35,\n",
      "                                         'min_value': 35}},\n",
      "  { 'expect_column_min_to_be_between': { 'column': 'Headcount_Male',\n",
      "                                         'domain': 'column',\n",
      "                                         'max_value': 9,\n",
      "                                         'min_value': 9}},\n",
      "  { 'expect_column_min_to_be_between': { 'column': 'Headcount_Total',\n",
      "                                         'domain': 'column',\n",
      "                                         'max_value': 44,\n",
      "                                         'min_value': 44}},\n",
      "  { 'expect_column_min_to_be_between': { 'column': 'Percentage_Female',\n",
      "                                         'domain': 'column',\n",
      "                                         'max_value': 0.4054054054054054,\n",
      "                                         'min_value': 0.4054054054054054}},\n",
      "  { 'expect_column_min_to_be_between': { 'column': 'Percentage_Male',\n",
      "                                         'domain': 'column',\n",
      "                                         'max_value': 0.2045454545454545,\n",
      "                                         'min_value': 0.2045454545454545}},\n",
      "  { 'expect_column_proportion_of_unique_values_to_be_between': { 'column': 'Other '\n",
      "                                                                           'entities',\n",
      "                                                                 'domain': 'column',\n",
      "                                                                 'max_value': 1.0,\n",
      "                                                                 'min_value': 1.0}},\n",
      "  { 'expect_column_proportion_of_unique_values_to_be_between': { 'column': 'Headcount_Female',\n",
      "                                                                 'domain': 'column',\n",
      "                                                                 'max_value': 1.0,\n",
      "                                                                 'min_value': 1.0}},\n",
      "  { 'expect_column_proportion_of_unique_values_to_be_between': { 'column': 'Headcount_Male',\n",
      "                                                                 'domain': 'column',\n",
      "                                                                 'max_value': 1.0,\n",
      "                                                                 'min_value': 1.0}},\n",
      "  { 'expect_column_proportion_of_unique_values_to_be_between': { 'column': 'Headcount_Total',\n",
      "                                                                 'domain': 'column',\n",
      "                                                                 'max_value': 1.0,\n",
      "                                                                 'min_value': 1.0}},\n",
      "  { 'expect_column_proportion_of_unique_values_to_be_between': { 'column': 'Percentage_Female',\n",
      "                                                                 'domain': 'column',\n",
      "                                                                 'max_value': 1.0,\n",
      "                                                                 'min_value': 1.0}},\n",
      "  { 'expect_column_proportion_of_unique_values_to_be_between': { 'column': 'Percentage_Male',\n",
      "                                                                 'domain': 'column',\n",
      "                                                                 'max_value': 1.0,\n",
      "                                                                 'min_value': 1.0}},\n",
      "  { 'expect_column_quantile_values_to_be_between': { 'allow_relative_error': 'lower',\n",
      "                                                     'column': 'Headcount_Female',\n",
      "                                                     'domain': 'column',\n",
      "                                                     'quantile_ranges': { 'quantiles': [ 0.05,\n",
      "                                                                                         0.25,\n",
      "                                                                                         0.5,\n",
      "                                                                                         0.75,\n",
      "                                                                                         0.95],\n",
      "                                                                          'value_ranges': [ [ 35,\n",
      "                                                                                              35],\n",
      "                                                                                            [ 83,\n",
      "                                                                                              83],\n",
      "                                                                                            [ 219,\n",
      "                                                                                              219],\n",
      "                                                                                            [ 255,\n",
      "                                                                                              255],\n",
      "                                                                                            [ 1582,\n",
      "                                                                                              1582]]}}},\n",
      "  { 'expect_column_quantile_values_to_be_between': { 'allow_relative_error': 'lower',\n",
      "                                                     'column': 'Headcount_Male',\n",
      "                                                     'domain': 'column',\n",
      "                                                     'quantile_ranges': { 'quantiles': [ 0.05,\n",
      "                                                                                         0.25,\n",
      "                                                                                         0.5,\n",
      "                                                                                         0.75,\n",
      "                                                                                         0.95],\n",
      "                                                                          'value_ranges': [ [ 9,\n",
      "                                                                                              9],\n",
      "                                                                                            [ 42,\n",
      "                                                                                              42],\n",
      "                                                                                            [ 110,\n",
      "                                                                                              110],\n",
      "                                                                                            [ 143,\n",
      "                                                                                              143],\n",
      "                                                                                            [ 778,\n",
      "                                                                                              778]]}}},\n",
      "  { 'expect_column_quantile_values_to_be_between': { 'allow_relative_error': 'lower',\n",
      "                                                     'column': 'Headcount_Total',\n",
      "                                                     'domain': 'column',\n",
      "                                                     'quantile_ranges': { 'quantiles': [ 0.05,\n",
      "                                                                                         0.25,\n",
      "                                                                                         0.5,\n",
      "                                                                                         0.75,\n",
      "                                                                                         0.95],\n",
      "                                                                          'value_ranges': [ [ 44,\n",
      "                                                                                              44],\n",
      "                                                                                            [ 135,\n",
      "                                                                                              135],\n",
      "                                                                                            [ 329,\n",
      "                                                                                              329],\n",
      "                                                                                            [ 365,\n",
      "                                                                                              365],\n",
      "                                                                                            [ 2360,\n",
      "                                                                                              2360]]}}},\n",
      "  { 'expect_column_quantile_values_to_be_between': { 'allow_relative_error': 'lower',\n",
      "                                                     'column': 'Percentage_Female',\n",
      "                                                     'domain': 'column',\n",
      "                                                     'quantile_ranges': { 'quantiles': [ 0.05,\n",
      "                                                                                         0.25,\n",
      "                                                                                         0.5,\n",
      "                                                                                         0.75,\n",
      "                                                                                         0.95],\n",
      "                                                                          'value_ranges': [ [ 0.4054054054054054,\n",
      "                                                                                              0.4054054054054054],\n",
      "                                                                                            [ 0.6410958904109589,\n",
      "                                                                                              0.6410958904109589],\n",
      "                                                                                            [ 0.6940192182026589,\n",
      "                                                                                              0.6940192182026589],\n",
      "                                                                                            [ 0.7223796033994334,\n",
      "                                                                                              0.7223796033994334],\n",
      "                                                                                            [ 0.7704654895666132,\n",
      "                                                                                              0.7704654895666132]]}}},\n",
      "  { 'expect_column_quantile_values_to_be_between': { 'allow_relative_error': 'lower',\n",
      "                                                     'column': 'Percentage_Male',\n",
      "                                                     'domain': 'column',\n",
      "                                                     'quantile_ranges': { 'quantiles': [ 0.05,\n",
      "                                                                                         0.25,\n",
      "                                                                                         0.5,\n",
      "                                                                                         0.75,\n",
      "                                                                                         0.95],\n",
      "                                                                          'value_ranges': [ [ 0.2045454545454545,\n",
      "                                                                                              0.2045454545454545],\n",
      "                                                                                            [ 0.2328767123287671,\n",
      "                                                                                              0.2328767123287671],\n",
      "                                                                                            [ 0.3059807817973412,\n",
      "                                                                                              0.3059807817973412],\n",
      "                                                                                            [ 0.3343465045592705,\n",
      "                                                                                              0.3343465045592705],\n",
      "                                                                                            [ 0.3851851851851852,\n",
      "                                                                                              0.3851851851851852]]}}},\n",
      "  { 'expect_column_values_to_be_in_type_list': { 'column': 'Other entities',\n",
      "                                                 'domain': 'column',\n",
      "                                                 'type_list': [ 'CHAR',\n",
      "                                                                'NCHAR',\n",
      "                                                                'NTEXT',\n",
      "                                                                'NVARCHAR',\n",
      "                                                                'STRING',\n",
      "                                                                'StringType',\n",
      "                                                                'StringType()',\n",
      "                                                                'TEXT',\n",
      "                                                                'VARCHAR',\n",
      "                                                                \"dtype('O')\",\n",
      "                                                                'object',\n",
      "                                                                'str',\n",
      "                                                                'string']}},\n",
      "  { 'expect_column_values_to_be_in_type_list': { 'column': 'Headcount_Female',\n",
      "                                                 'domain': 'column',\n",
      "                                                 'type_list': [ 'BIGINT',\n",
      "                                                                'BYTEINT',\n",
      "                                                                'ByteType()',\n",
      "                                                                'INT',\n",
      "                                                                'INT64',\n",
      "                                                                'INTEGER',\n",
      "                                                                'Int16Dtype',\n",
      "                                                                'Int32Dtype',\n",
      "                                                                'Int64Dtype',\n",
      "                                                                'Int8Dtype',\n",
      "                                                                'IntegerType',\n",
      "                                                                'IntegerType()',\n",
      "                                                                'LongType',\n",
      "                                                                'LongType()',\n",
      "                                                                'SMALLINT',\n",
      "                                                                'ShortType()',\n",
      "                                                                'TINYINT',\n",
      "                                                                'UInt16Dtype',\n",
      "                                                                'UInt32Dtype',\n",
      "                                                                'UInt64Dtype',\n",
      "                                                                'UInt8Dtype',\n",
      "                                                                'int',\n",
      "                                                                'int16',\n",
      "                                                                'int32',\n",
      "                                                                'int64',\n",
      "                                                                'int8',\n",
      "                                                                'int_',\n",
      "                                                                'integer',\n",
      "                                                                'uint16',\n",
      "                                                                'uint32',\n",
      "                                                                'uint64',\n",
      "                                                                'uint8']}},\n",
      "  { 'expect_column_values_to_be_in_type_list': { 'column': 'Headcount_Male',\n",
      "                                                 'domain': 'column',\n",
      "                                                 'type_list': [ 'BIGINT',\n",
      "                                                                'BYTEINT',\n",
      "                                                                'ByteType()',\n",
      "                                                                'INT',\n",
      "                                                                'INT64',\n",
      "                                                                'INTEGER',\n",
      "                                                                'Int16Dtype',\n",
      "                                                                'Int32Dtype',\n",
      "                                                                'Int64Dtype',\n",
      "                                                                'Int8Dtype',\n",
      "                                                                'IntegerType',\n",
      "                                                                'IntegerType()',\n",
      "                                                                'LongType',\n",
      "                                                                'LongType()',\n",
      "                                                                'SMALLINT',\n",
      "                                                                'ShortType()',\n",
      "                                                                'TINYINT',\n",
      "                                                                'UInt16Dtype',\n",
      "                                                                'UInt32Dtype',\n",
      "                                                                'UInt64Dtype',\n",
      "                                                                'UInt8Dtype',\n",
      "                                                                'int',\n",
      "                                                                'int16',\n",
      "                                                                'int32',\n",
      "                                                                'int64',\n",
      "                                                                'int8',\n",
      "                                                                'int_',\n",
      "                                                                'integer',\n",
      "                                                                'uint16',\n",
      "                                                                'uint32',\n",
      "                                                                'uint64',\n",
      "                                                                'uint8']}},\n",
      "  { 'expect_column_values_to_be_in_type_list': { 'column': 'Headcount_Total',\n",
      "                                                 'domain': 'column',\n",
      "                                                 'type_list': [ 'BIGINT',\n",
      "                                                                'BYTEINT',\n",
      "                                                                'ByteType()',\n",
      "                                                                'INT',\n",
      "                                                                'INT64',\n",
      "                                                                'INTEGER',\n",
      "                                                                'Int16Dtype',\n",
      "                                                                'Int32Dtype',\n",
      "                                                                'Int64Dtype',\n",
      "                                                                'Int8Dtype',\n",
      "                                                                'IntegerType',\n",
      "                                                                'IntegerType()',\n",
      "                                                                'LongType',\n",
      "                                                                'LongType()',\n",
      "                                                                'SMALLINT',\n",
      "                                                                'ShortType()',\n",
      "                                                                'TINYINT',\n",
      "                                                                'UInt16Dtype',\n",
      "                                                                'UInt32Dtype',\n",
      "                                                                'UInt64Dtype',\n",
      "                                                                'UInt8Dtype',\n",
      "                                                                'int',\n",
      "                                                                'int16',\n",
      "                                                                'int32',\n",
      "                                                                'int64',\n",
      "                                                                'int8',\n",
      "                                                                'int_',\n",
      "                                                                'integer',\n",
      "                                                                'uint16',\n",
      "                                                                'uint32',\n",
      "                                                                'uint64',\n",
      "                                                                'uint8']}},\n",
      "  { 'expect_column_values_to_be_in_type_list': { 'column': 'Percentage_Female',\n",
      "                                                 'domain': 'column',\n",
      "                                                 'type_list': [ 'DECIMAL',\n",
      "                                                                'DOUBLE',\n",
      "                                                                'DOUBLE_PRECISION',\n",
      "                                                                'DecimalType()',\n",
      "                                                                'DoubleType',\n",
      "                                                                'DoubleType()',\n",
      "                                                                'FLOAT',\n",
      "                                                                'FLOAT4',\n",
      "                                                                'FLOAT64',\n",
      "                                                                'FLOAT8',\n",
      "                                                                'FloatType',\n",
      "                                                                'FloatType()',\n",
      "                                                                'NUMERIC',\n",
      "                                                                'REAL',\n",
      "                                                                'float',\n",
      "                                                                'float16',\n",
      "                                                                'float32',\n",
      "                                                                'float64',\n",
      "                                                                'float_',\n",
      "                                                                'number']}},\n",
      "  { 'expect_column_values_to_be_in_type_list': { 'column': 'Percentage_Male',\n",
      "                                                 'domain': 'column',\n",
      "                                                 'type_list': [ 'DECIMAL',\n",
      "                                                                'DOUBLE',\n",
      "                                                                'DOUBLE_PRECISION',\n",
      "                                                                'DecimalType()',\n",
      "                                                                'DoubleType',\n",
      "                                                                'DoubleType()',\n",
      "                                                                'FLOAT',\n",
      "                                                                'FLOAT4',\n",
      "                                                                'FLOAT64',\n",
      "                                                                'FLOAT8',\n",
      "                                                                'FloatType',\n",
      "                                                                'FloatType()',\n",
      "                                                                'NUMERIC',\n",
      "                                                                'REAL',\n",
      "                                                                'float',\n",
      "                                                                'float16',\n",
      "                                                                'float32',\n",
      "                                                                'float64',\n",
      "                                                                'float_',\n",
      "                                                                'number']}},\n",
      "  { 'expect_column_values_to_not_be_null': { 'column': 'Other entities',\n",
      "                                             'domain': 'column'}},\n",
      "  { 'expect_column_values_to_not_be_null': { 'column': 'Headcount_Female',\n",
      "                                             'domain': 'column'}},\n",
      "  { 'expect_column_values_to_not_be_null': { 'column': 'Headcount_Male',\n",
      "                                             'domain': 'column'}},\n",
      "  { 'expect_column_values_to_not_be_null': { 'column': 'Headcount_Total',\n",
      "                                             'domain': 'column'}},\n",
      "  { 'expect_column_values_to_not_be_null': { 'column': 'Percentage_Female',\n",
      "                                             'domain': 'column'}},\n",
      "  { 'expect_column_values_to_not_be_null': { 'column': 'Percentage_Male',\n",
      "                                             'domain': 'column'}}]\n"
     ]
    }
   ],
   "source": [
    "suite.show_expectations_by_expectation_type()"
   ],
   "metadata": {
    "collapsed": false,
    "pycharm": {
     "name": "#%%\n"
    }
   }
  },
  {
   "cell_type": "code",
   "execution_count": 47,
   "outputs": [
    {
     "name": "stdout",
     "output_type": "stream",
     "text": [
      "2023-05-23 21:01:38,014 - great_expectations.datasource.fluent.fluent_base_model - INFO - PandasS3Datasource.dict() - substituting config values\n",
      "2023-05-23 21:01:38,015 - great_expectations.datasource.data_connector.batch_filter - INFO - batch_slice: None was parsed to: slice(0, None, None)\n",
      "2023-05-23 21:01:38,017 - great_expectations.datasource.data_connector.batch_filter - INFO - batch_slice: slice(0, None, None) was parsed to: slice(0, None, None)\n",
      "2023-05-23 21:01:38,018 - great_expectations.datasource.fluent.fluent_base_model - INFO - CSVAsset.dict() - substituting config values\n",
      "2023-05-23 21:01:38,092 - great_expectations.validator.validator - INFO - \t8 expectation(s) included in expectation_suite.\n"
     ]
    },
    {
     "data": {
      "text/plain": "Calculating Metrics:   0%|          | 0/8 [00:00<?, ?it/s]",
      "application/vnd.jupyter.widget-view+json": {
       "version_major": 2,
       "version_minor": 0,
       "model_id": "22164648006d4600a019e4cee684a7c3"
      }
     },
     "metadata": {},
     "output_type": "display_data"
    },
    {
     "name": "stdout",
     "output_type": "stream",
     "text": [
      "Validation failed!\n"
     ]
    },
    {
     "data": {
      "text/plain": "\u001B[31m╭─\u001B[0m\u001B[31m──────────────────────────────\u001B[0m\u001B[31m \u001B[0m\u001B[1;31mTraceback \u001B[0m\u001B[1;2;31m(most recent call last)\u001B[0m\u001B[31m \u001B[0m\u001B[31m───────────────────────────────\u001B[0m\u001B[31m─╮\u001B[0m\n\u001B[31m│\u001B[0m \u001B[33mC:\\Users\\gdbt0\\anaconda3\\envs\\Data-preparation-pipeline\\lib\\site-packages\\IPython\\core\\interacti\u001B[0m \u001B[31m│\u001B[0m\n\u001B[31m│\u001B[0m \u001B[33mveshell.py\u001B[0m:\u001B[94m3553\u001B[0m in \u001B[92mrun_code\u001B[0m                                                                      \u001B[31m│\u001B[0m\n\u001B[31m│\u001B[0m                                                                                                  \u001B[31m│\u001B[0m\n\u001B[31m│\u001B[0m in \u001B[92m<cell line: 7>\u001B[0m:\u001B[94m9\u001B[0m                                                                              \u001B[31m│\u001B[0m\n\u001B[31m│\u001B[0m                                                                                                  \u001B[31m│\u001B[0m\n\u001B[31m│\u001B[0m   \u001B[2m 6 \u001B[0m                                                                                            \u001B[31m│\u001B[0m\n\u001B[31m│\u001B[0m   \u001B[2m 7 \u001B[0m\u001B[94mif\u001B[0m \u001B[95mnot\u001B[0m result[\u001B[33m\"\u001B[0m\u001B[33msuccess\u001B[0m\u001B[33m\"\u001B[0m]:                                                                   \u001B[31m│\u001B[0m\n\u001B[31m│\u001B[0m   \u001B[2m 8 \u001B[0m\u001B[2m│   \u001B[0m\u001B[96mprint\u001B[0m(\u001B[33m\"\u001B[0m\u001B[33mValidation failed!\u001B[0m\u001B[33m\"\u001B[0m)                                                             \u001B[31m│\u001B[0m\n\u001B[31m│\u001B[0m \u001B[31m❱ \u001B[0m 9 \u001B[2m│   \u001B[0msys.exit(\u001B[94m1\u001B[0m)                                                                             \u001B[31m│\u001B[0m\n\u001B[31m│\u001B[0m   \u001B[2m10 \u001B[0m                                                                                            \u001B[31m│\u001B[0m\n\u001B[31m│\u001B[0m   \u001B[2m11 \u001B[0m\u001B[96mprint\u001B[0m(\u001B[33m\"\u001B[0m\u001B[33mValidation succeeded!\u001B[0m\u001B[33m\"\u001B[0m)                                                              \u001B[31m│\u001B[0m\n\u001B[31m│\u001B[0m   \u001B[2m12 \u001B[0m                                                                                            \u001B[31m│\u001B[0m\n\u001B[31m╰──────────────────────────────────────────────────────────────────────────────────────────────────╯\u001B[0m\n\u001B[1;91mSystemExit: \u001B[0m\u001B[1;36m1\u001B[0m\n",
      "text/html": "<pre style=\"white-space:pre;overflow-x:auto;line-height:normal;font-family:Menlo,'DejaVu Sans Mono',consolas,'Courier New',monospace\"><span style=\"color: #800000; text-decoration-color: #800000\">╭─────────────────────────────── </span><span style=\"color: #800000; text-decoration-color: #800000; font-weight: bold\">Traceback </span><span style=\"color: #bf7f7f; text-decoration-color: #bf7f7f; font-weight: bold\">(most recent call last)</span><span style=\"color: #800000; text-decoration-color: #800000\"> ────────────────────────────────╮</span>\n<span style=\"color: #800000; text-decoration-color: #800000\">│</span> <span style=\"color: #808000; text-decoration-color: #808000\">C:\\Users\\gdbt0\\anaconda3\\envs\\Data-preparation-pipeline\\lib\\site-packages\\IPython\\core\\interacti</span> <span style=\"color: #800000; text-decoration-color: #800000\">│</span>\n<span style=\"color: #800000; text-decoration-color: #800000\">│</span> <span style=\"color: #808000; text-decoration-color: #808000\">veshell.py</span>:<span style=\"color: #0000ff; text-decoration-color: #0000ff\">3553</span> in <span style=\"color: #00ff00; text-decoration-color: #00ff00\">run_code</span>                                                                      <span style=\"color: #800000; text-decoration-color: #800000\">│</span>\n<span style=\"color: #800000; text-decoration-color: #800000\">│</span>                                                                                                  <span style=\"color: #800000; text-decoration-color: #800000\">│</span>\n<span style=\"color: #800000; text-decoration-color: #800000\">│</span> in <span style=\"color: #00ff00; text-decoration-color: #00ff00\">&lt;cell line: 7&gt;</span>:<span style=\"color: #0000ff; text-decoration-color: #0000ff\">9</span>                                                                              <span style=\"color: #800000; text-decoration-color: #800000\">│</span>\n<span style=\"color: #800000; text-decoration-color: #800000\">│</span>                                                                                                  <span style=\"color: #800000; text-decoration-color: #800000\">│</span>\n<span style=\"color: #800000; text-decoration-color: #800000\">│</span>   <span style=\"color: #7f7f7f; text-decoration-color: #7f7f7f\"> 6 </span>                                                                                            <span style=\"color: #800000; text-decoration-color: #800000\">│</span>\n<span style=\"color: #800000; text-decoration-color: #800000\">│</span>   <span style=\"color: #7f7f7f; text-decoration-color: #7f7f7f\"> 7 </span><span style=\"color: #0000ff; text-decoration-color: #0000ff\">if</span> <span style=\"color: #ff00ff; text-decoration-color: #ff00ff\">not</span> result[<span style=\"color: #808000; text-decoration-color: #808000\">\"success\"</span>]:                                                                   <span style=\"color: #800000; text-decoration-color: #800000\">│</span>\n<span style=\"color: #800000; text-decoration-color: #800000\">│</span>   <span style=\"color: #7f7f7f; text-decoration-color: #7f7f7f\"> 8 │   </span><span style=\"color: #00ffff; text-decoration-color: #00ffff\">print</span>(<span style=\"color: #808000; text-decoration-color: #808000\">\"Validation failed!\"</span>)                                                             <span style=\"color: #800000; text-decoration-color: #800000\">│</span>\n<span style=\"color: #800000; text-decoration-color: #800000\">│</span> <span style=\"color: #800000; text-decoration-color: #800000\">❱ </span> 9 <span style=\"color: #7f7f7f; text-decoration-color: #7f7f7f\">│   </span>sys.exit(<span style=\"color: #0000ff; text-decoration-color: #0000ff\">1</span>)                                                                             <span style=\"color: #800000; text-decoration-color: #800000\">│</span>\n<span style=\"color: #800000; text-decoration-color: #800000\">│</span>   <span style=\"color: #7f7f7f; text-decoration-color: #7f7f7f\">10 </span>                                                                                            <span style=\"color: #800000; text-decoration-color: #800000\">│</span>\n<span style=\"color: #800000; text-decoration-color: #800000\">│</span>   <span style=\"color: #7f7f7f; text-decoration-color: #7f7f7f\">11 </span><span style=\"color: #00ffff; text-decoration-color: #00ffff\">print</span>(<span style=\"color: #808000; text-decoration-color: #808000\">\"Validation succeeded!\"</span>)                                                              <span style=\"color: #800000; text-decoration-color: #800000\">│</span>\n<span style=\"color: #800000; text-decoration-color: #800000\">│</span>   <span style=\"color: #7f7f7f; text-decoration-color: #7f7f7f\">12 </span>                                                                                            <span style=\"color: #800000; text-decoration-color: #800000\">│</span>\n<span style=\"color: #800000; text-decoration-color: #800000\">╰──────────────────────────────────────────────────────────────────────────────────────────────────╯</span>\n<span style=\"color: #ff0000; text-decoration-color: #ff0000; font-weight: bold\">SystemExit: </span><span style=\"color: #008080; text-decoration-color: #008080; font-weight: bold\">1</span>\n</pre>\n"
     },
     "metadata": {},
     "output_type": "display_data"
    },
    {
     "name": "stdout",
     "output_type": "stream",
     "text": [
      "2023-05-23 21:01:38,860 - py.warnings - WARNING - C:\\Users\\gdbt0\\anaconda3\\envs\\Data-preparation-pipeline\\lib\\site-packages\\IPython\\core\\interactiveshell.py:3561: UserWarning: To exit: use 'exit', 'quit', or Ctrl-D.\n",
      "  warn(\"To exit: use 'exit', 'quit', or Ctrl-D.\", stacklevel=1)\n",
      "\n"
     ]
    }
   ],
   "source": [
    "import sys\n",
    "# context = gx.get_context()\n",
    "result = context.run_checkpoint(\n",
    "    checkpoint_name=checkpoint_name,\n",
    ")\n",
    "\n",
    "if not result[\"success\"]:\n",
    "    print(\"Validation failed!\")\n",
    "    sys.exit(1)\n",
    "\n",
    "print(\"Validation succeeded!\")"
   ],
   "metadata": {
    "collapsed": false,
    "pycharm": {
     "name": "#%%\n"
    }
   }
  },
  {
   "cell_type": "code",
   "execution_count": null,
   "outputs": [],
   "source": [],
   "metadata": {
    "collapsed": false,
    "pycharm": {
     "name": "#%%\n"
    }
   }
  }
 ],
 "metadata": {
  "kernelspec": {
   "name": "kedro_data_processing_pipeline",
   "language": "python",
   "display_name": "Kedro (data_processing_pipeline)"
  },
  "language_info": {
   "codemirror_mode": {
    "name": "ipython",
    "version": 2
   },
   "file_extension": ".py",
   "mimetype": "text/x-python",
   "name": "python",
   "nbconvert_exporter": "python",
   "pygments_lexer": "ipython2",
   "version": "2.7.6"
  }
 },
 "nbformat": 4,
 "nbformat_minor": 0
}