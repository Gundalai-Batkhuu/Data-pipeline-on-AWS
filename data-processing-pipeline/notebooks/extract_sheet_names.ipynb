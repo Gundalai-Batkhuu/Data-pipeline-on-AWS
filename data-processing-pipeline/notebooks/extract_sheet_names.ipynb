{
 "cells": [
  {
   "cell_type": "code",
   "execution_count": 1,
   "metadata": {
    "collapsed": true
   },
   "outputs": [],
   "source": [
    "import pandas as pd\n",
    "from kedro.extras.datasets.pandas.excel_dataset import ExcelDataSet\n",
    "from openpyxl import load_workbook\n",
    "from kedro.config import ConfigLoader"
   ]
  },
  {
   "cell_type": "code",
   "execution_count": 2,
   "outputs": [
    {
     "data": {
      "text/plain": "['p18_19_0',\n 'p18_19_1',\n 'p18_19_3',\n 'p18_19_5',\n 'qld_p18_19',\n 'qld_all',\n 'parameters']"
     },
     "execution_count": 2,
     "metadata": {},
     "output_type": "execute_result"
    }
   ],
   "source": [
    "catalog.list()"
   ],
   "metadata": {
    "collapsed": false,
    "pycharm": {
     "name": "#%%\n"
    }
   }
  },
  {
   "cell_type": "code",
   "execution_count": 3,
   "outputs": [
    {
     "name": "stdout",
     "output_type": "stream",
     "text": [
      "['pg 5 workforce at a glance', 'pg 6 ', 'pg 7 workforce size', 'pg 9 occupation type', 'pg 10 and 11 location', 'pg 12 employment type', 'pg 13 diversity', 'pg 14 workforce earnings', 'pg 15 age', 'pg 16 and 17 appt type', 'pg 18 and 19 gender', 'pg 20  employment status', 'pg 20 appointment type']\n"
     ]
    }
   ],
   "source": [
    "filepath = \"../data/01_raw/qld-biannual-report-sept-2020-open-data-tables.xlsx\"\n",
    "\n",
    "# Load the Excel workbook\n",
    "workbook = load_workbook(filename=filepath)\n",
    "\n",
    "# Get the sheet names\n",
    "sheet_names = workbook.sheetnames\n",
    "\n",
    "# Print the sheet names\n",
    "print(sheet_names)"
   ],
   "metadata": {
    "collapsed": false,
    "pycharm": {
     "name": "#%%\n"
    }
   }
  }
 ],
 "metadata": {
  "kernelspec": {
   "name": "kedro_data_processing_pipeline",
   "language": "python",
   "display_name": "Kedro (data_processing_pipeline)"
  },
  "language_info": {
   "codemirror_mode": {
    "name": "ipython",
    "version": 2
   },
   "file_extension": ".py",
   "mimetype": "text/x-python",
   "name": "python",
   "nbconvert_exporter": "python",
   "pygments_lexer": "ipython2",
   "version": "2.7.6"
  }
 },
 "nbformat": 4,
 "nbformat_minor": 0
}